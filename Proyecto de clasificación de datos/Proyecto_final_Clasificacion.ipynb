{
 "cells": [
  {
   "cell_type": "markdown",
   "id": "256fb729",
   "metadata": {},
   "source": [
    "# <font color= #8A0829> Laboratorio de Modelado de Datos </font>\n",
    "- <Strong> Nombre: </Strong>  <font color=\"blue\"> `Santiago Aguirre Vera y Angel de la Mora` </font>\n",
    "- <Strong> Fecha </Strong>: <font color=\"blue\"> `27/03/23` </font>\n",
    "- <Strong> Tarea: </Strong>  <font color=\"blue\"> `Proyecto Final Clasificacion` </font>\n",
    "___\n",
    "\n",
    "\n",
    "### <font color= #2E9AFE> PROYECTO FINAL: Clasificacion </font>"
   ]
  },
  {
   "cell_type": "markdown",
   "id": "bec637db",
   "metadata": {},
   "source": [
    "### OBJETIVO: \n",
    "\n",
    "El objetivo del proyecto es evaluar el conocimiento adquirido de regresión lineal/logística, redes neuronales, máquinas de vector soporte y modelos basados en árboles tanto para problemas de regresión como de clasificación. "
   ]
  },
  {
   "cell_type": "markdown",
   "id": "dbcbc537",
   "metadata": {},
   "source": [
    "1. **Definición del problema**.\n",
    "\n",
    "El problema a tratar con este dataset, será poder predecir si una persona tiene menos probabilidad de tener un ataque cardiaco el cual sera  = 0 o de lo contrario si tiene una mayor probabilidad de sufirur un ataque que sera = 1.\n",
    "\n",
    "Nuestras variables a considerar sera: \n",
    "\n",
    " * Age\n",
    " * Sex\n",
    " * exang\n",
    " * ca \n",
    " * cp\n",
    " * trtbps \n",
    " * chol \n",
    " * fbs\n",
    " * rest_ecg \n",
    " * thalach\n",
    " * exng\n",
    " * oldpeack\n",
    " * slp \n",
    " * caa \n",
    " * thall\n",
    " \n",
    " Nuestra variable respuesta sera \n",
    " * Output(target)\n",
    " \n",
    " Descripcion del dataset\n",
    " \n",
    "* Age : Age of the patient\n",
    "\n",
    "* Sex : Sex of the patient\n",
    "\n",
    "* exang: exercise induced angina (1 = yes; 0 = no)\n",
    "\n",
    "* ca: number of major vessels (0-3)\n",
    "\n",
    "* cp : Chest Pain type chest pain type\n",
    "\n",
    " - Value 1: typical angina\n",
    " - Value 2: atypical angina\n",
    " - Value 3: non-anginal pain\n",
    " - Value 4: asymptomatic\n",
    "\n",
    "* trtbps : resting blood pressure (in mm Hg)\n",
    "\n",
    "* chol : cholestoral in mg/dl fetched via BMI sensor\n",
    "\n",
    "* fbs : (fasting blood sugar > 120 mg/dl) (1 = true; 0 = false)\n",
    "\n",
    "* rest_ecg : resting electrocardiographic results \n",
    " - Value 0: normal\n",
    " - Value 1: having ST-T wave abnormality (T wave inversions and/or ST elevation or depression of >     0.05 mV)\n",
    " -  Value 2: showing probable or definite left ventricular hypertrophy by Estes' criteria\n",
    "\n",
    "* Chol : serum cholestoral in mg/dl \n",
    "\n",
    "* thalach : maximum heart rate achieved\n",
    "\n",
    "* oldpeak: ST depression induced by exercise relative to rest\n",
    "\n",
    "* slp : the slope of the peak exercise ST segment\n",
    "\n",
    "* target : 0= less chance of heart attack 1= more chance of heart attack\n",
    "\n",
    "\n",
    "La base datos fue sacada de kaggle(https://www.kaggle.com/datasets/rkiattisak/salaly-prediction-for-beginer?resource=download) y estos son nuestros datos.\n",
    "\n",
    "Mediante la manipulación y exploración trataremos de encontrar que tipo de datos tenemos, si habrán nulos, outliers, observaremos cardinalidad de nuestras datos,sus sesgos, etc. Y con esto buscamos el poder tener la base de datos mas adecuada para que nuestro modelo funcione de forma optima y prediga correctamente si una persona tiene altas o bajas posibilidades de sufrir un ataque cardiaco.\n"
   ]
  },
  {
   "cell_type": "markdown",
   "id": "0d5d32a6",
   "metadata": {},
   "source": [
    "### Empezemos por analiar y limpiar nuestro datos\n",
    "* (Datos nulos, datos sesgados, datos atípicos, datos imbalanceados, distribución de datos, etc.), así como el proceso y decisiones tomadas para procesar y limpiar estos datos."
   ]
  },
  {
   "cell_type": "code",
   "execution_count": 1,
   "id": "4552bd90",
   "metadata": {},
   "outputs": [],
   "source": [
    "#librerías\n",
    "import pandas as pd\n",
    "import numpy as np\n",
    "import matplotlib.pyplot as plt\n",
    "import seaborn as sns\n",
    "import matplotlib.pyplot as plt\n",
    "import seaborn as sns\n",
    "import sklearn\n",
    "from sklearn.ensemble import GradientBoostingClassifier\n",
    "from sklearn.model_selection import cross_val_score\n",
    "from sklearn.feature_selection import SelectKBest, f_regression\n",
    "from sklearn.linear_model import LinearRegression\n",
    "from sklearn.metrics import mean_squared_error, r2_score\n",
    "import keras\n",
    "from keras.models import Sequential\n",
    "from keras.layers import Dense, Dropout, Activation\n",
    "from keras.optimizers import SGD, Adam\n",
    "#from tensorflow.keras.optimizers import SGD\n",
    "import matplotlib.pyplot as plt\n",
    "import numpy as np\n",
    "from sklearn.metrics import r2_score\n",
    "from sklearn.model_selection import train_test_split\n",
    "from sklearn.model_selection import train_test_split, KFold, cross_val_score\n",
    "from sklearn.preprocessing import LabelEncoder\n",
    "from sklearn.tree import DecisionTreeClassifier, export_graphviz\n",
    "from sklearn.metrics import classification_report, confusion_matrix, precision_recall_curve, accuracy_score, roc_curve,precision_score,recall_score, f1_score\n",
    "import xgboost as xgb\n",
    "from sklearn.model_selection import GridSearchCV\n"
   ]
  },
  {
   "cell_type": "code",
   "execution_count": 2,
   "id": "352efb2d",
   "metadata": {
    "scrolled": true
   },
   "outputs": [
    {
     "data": {
      "text/html": [
       "<div>\n",
       "<style scoped>\n",
       "    .dataframe tbody tr th:only-of-type {\n",
       "        vertical-align: middle;\n",
       "    }\n",
       "\n",
       "    .dataframe tbody tr th {\n",
       "        vertical-align: top;\n",
       "    }\n",
       "\n",
       "    .dataframe thead th {\n",
       "        text-align: right;\n",
       "    }\n",
       "</style>\n",
       "<table border=\"1\" class=\"dataframe\">\n",
       "  <thead>\n",
       "    <tr style=\"text-align: right;\">\n",
       "      <th></th>\n",
       "      <th>age</th>\n",
       "      <th>sex</th>\n",
       "      <th>cp</th>\n",
       "      <th>trtbps</th>\n",
       "      <th>chol</th>\n",
       "      <th>fbs</th>\n",
       "      <th>restecg</th>\n",
       "      <th>thalachh</th>\n",
       "      <th>exng</th>\n",
       "      <th>oldpeak</th>\n",
       "      <th>slp</th>\n",
       "      <th>caa</th>\n",
       "      <th>thall</th>\n",
       "      <th>output</th>\n",
       "    </tr>\n",
       "  </thead>\n",
       "  <tbody>\n",
       "    <tr>\n",
       "      <th>0</th>\n",
       "      <td>63</td>\n",
       "      <td>1</td>\n",
       "      <td>3</td>\n",
       "      <td>145</td>\n",
       "      <td>233</td>\n",
       "      <td>1</td>\n",
       "      <td>0</td>\n",
       "      <td>150</td>\n",
       "      <td>0</td>\n",
       "      <td>2.3</td>\n",
       "      <td>0</td>\n",
       "      <td>0</td>\n",
       "      <td>1</td>\n",
       "      <td>1</td>\n",
       "    </tr>\n",
       "    <tr>\n",
       "      <th>1</th>\n",
       "      <td>37</td>\n",
       "      <td>1</td>\n",
       "      <td>2</td>\n",
       "      <td>130</td>\n",
       "      <td>250</td>\n",
       "      <td>0</td>\n",
       "      <td>1</td>\n",
       "      <td>187</td>\n",
       "      <td>0</td>\n",
       "      <td>3.5</td>\n",
       "      <td>0</td>\n",
       "      <td>0</td>\n",
       "      <td>2</td>\n",
       "      <td>1</td>\n",
       "    </tr>\n",
       "    <tr>\n",
       "      <th>2</th>\n",
       "      <td>41</td>\n",
       "      <td>0</td>\n",
       "      <td>1</td>\n",
       "      <td>130</td>\n",
       "      <td>204</td>\n",
       "      <td>0</td>\n",
       "      <td>0</td>\n",
       "      <td>172</td>\n",
       "      <td>0</td>\n",
       "      <td>1.4</td>\n",
       "      <td>2</td>\n",
       "      <td>0</td>\n",
       "      <td>2</td>\n",
       "      <td>1</td>\n",
       "    </tr>\n",
       "    <tr>\n",
       "      <th>3</th>\n",
       "      <td>56</td>\n",
       "      <td>1</td>\n",
       "      <td>1</td>\n",
       "      <td>120</td>\n",
       "      <td>236</td>\n",
       "      <td>0</td>\n",
       "      <td>1</td>\n",
       "      <td>178</td>\n",
       "      <td>0</td>\n",
       "      <td>0.8</td>\n",
       "      <td>2</td>\n",
       "      <td>0</td>\n",
       "      <td>2</td>\n",
       "      <td>1</td>\n",
       "    </tr>\n",
       "    <tr>\n",
       "      <th>4</th>\n",
       "      <td>57</td>\n",
       "      <td>0</td>\n",
       "      <td>0</td>\n",
       "      <td>120</td>\n",
       "      <td>354</td>\n",
       "      <td>0</td>\n",
       "      <td>1</td>\n",
       "      <td>163</td>\n",
       "      <td>1</td>\n",
       "      <td>0.6</td>\n",
       "      <td>2</td>\n",
       "      <td>0</td>\n",
       "      <td>2</td>\n",
       "      <td>1</td>\n",
       "    </tr>\n",
       "    <tr>\n",
       "      <th>5</th>\n",
       "      <td>57</td>\n",
       "      <td>1</td>\n",
       "      <td>0</td>\n",
       "      <td>140</td>\n",
       "      <td>192</td>\n",
       "      <td>0</td>\n",
       "      <td>1</td>\n",
       "      <td>148</td>\n",
       "      <td>0</td>\n",
       "      <td>0.4</td>\n",
       "      <td>1</td>\n",
       "      <td>0</td>\n",
       "      <td>1</td>\n",
       "      <td>1</td>\n",
       "    </tr>\n",
       "    <tr>\n",
       "      <th>6</th>\n",
       "      <td>56</td>\n",
       "      <td>0</td>\n",
       "      <td>1</td>\n",
       "      <td>140</td>\n",
       "      <td>294</td>\n",
       "      <td>0</td>\n",
       "      <td>0</td>\n",
       "      <td>153</td>\n",
       "      <td>0</td>\n",
       "      <td>1.3</td>\n",
       "      <td>1</td>\n",
       "      <td>0</td>\n",
       "      <td>2</td>\n",
       "      <td>1</td>\n",
       "    </tr>\n",
       "    <tr>\n",
       "      <th>7</th>\n",
       "      <td>44</td>\n",
       "      <td>1</td>\n",
       "      <td>1</td>\n",
       "      <td>120</td>\n",
       "      <td>263</td>\n",
       "      <td>0</td>\n",
       "      <td>1</td>\n",
       "      <td>173</td>\n",
       "      <td>0</td>\n",
       "      <td>0.0</td>\n",
       "      <td>2</td>\n",
       "      <td>0</td>\n",
       "      <td>3</td>\n",
       "      <td>1</td>\n",
       "    </tr>\n",
       "    <tr>\n",
       "      <th>8</th>\n",
       "      <td>52</td>\n",
       "      <td>1</td>\n",
       "      <td>2</td>\n",
       "      <td>172</td>\n",
       "      <td>199</td>\n",
       "      <td>1</td>\n",
       "      <td>1</td>\n",
       "      <td>162</td>\n",
       "      <td>0</td>\n",
       "      <td>0.5</td>\n",
       "      <td>2</td>\n",
       "      <td>0</td>\n",
       "      <td>3</td>\n",
       "      <td>1</td>\n",
       "    </tr>\n",
       "    <tr>\n",
       "      <th>9</th>\n",
       "      <td>57</td>\n",
       "      <td>1</td>\n",
       "      <td>2</td>\n",
       "      <td>150</td>\n",
       "      <td>168</td>\n",
       "      <td>0</td>\n",
       "      <td>1</td>\n",
       "      <td>174</td>\n",
       "      <td>0</td>\n",
       "      <td>1.6</td>\n",
       "      <td>2</td>\n",
       "      <td>0</td>\n",
       "      <td>2</td>\n",
       "      <td>1</td>\n",
       "    </tr>\n",
       "    <tr>\n",
       "      <th>10</th>\n",
       "      <td>54</td>\n",
       "      <td>1</td>\n",
       "      <td>0</td>\n",
       "      <td>140</td>\n",
       "      <td>239</td>\n",
       "      <td>0</td>\n",
       "      <td>1</td>\n",
       "      <td>160</td>\n",
       "      <td>0</td>\n",
       "      <td>1.2</td>\n",
       "      <td>2</td>\n",
       "      <td>0</td>\n",
       "      <td>2</td>\n",
       "      <td>1</td>\n",
       "    </tr>\n",
       "    <tr>\n",
       "      <th>11</th>\n",
       "      <td>48</td>\n",
       "      <td>0</td>\n",
       "      <td>2</td>\n",
       "      <td>130</td>\n",
       "      <td>275</td>\n",
       "      <td>0</td>\n",
       "      <td>1</td>\n",
       "      <td>139</td>\n",
       "      <td>0</td>\n",
       "      <td>0.2</td>\n",
       "      <td>2</td>\n",
       "      <td>0</td>\n",
       "      <td>2</td>\n",
       "      <td>1</td>\n",
       "    </tr>\n",
       "    <tr>\n",
       "      <th>12</th>\n",
       "      <td>49</td>\n",
       "      <td>1</td>\n",
       "      <td>1</td>\n",
       "      <td>130</td>\n",
       "      <td>266</td>\n",
       "      <td>0</td>\n",
       "      <td>1</td>\n",
       "      <td>171</td>\n",
       "      <td>0</td>\n",
       "      <td>0.6</td>\n",
       "      <td>2</td>\n",
       "      <td>0</td>\n",
       "      <td>2</td>\n",
       "      <td>1</td>\n",
       "    </tr>\n",
       "    <tr>\n",
       "      <th>13</th>\n",
       "      <td>64</td>\n",
       "      <td>1</td>\n",
       "      <td>3</td>\n",
       "      <td>110</td>\n",
       "      <td>211</td>\n",
       "      <td>0</td>\n",
       "      <td>0</td>\n",
       "      <td>144</td>\n",
       "      <td>1</td>\n",
       "      <td>1.8</td>\n",
       "      <td>1</td>\n",
       "      <td>0</td>\n",
       "      <td>2</td>\n",
       "      <td>1</td>\n",
       "    </tr>\n",
       "    <tr>\n",
       "      <th>14</th>\n",
       "      <td>58</td>\n",
       "      <td>0</td>\n",
       "      <td>3</td>\n",
       "      <td>150</td>\n",
       "      <td>283</td>\n",
       "      <td>1</td>\n",
       "      <td>0</td>\n",
       "      <td>162</td>\n",
       "      <td>0</td>\n",
       "      <td>1.0</td>\n",
       "      <td>2</td>\n",
       "      <td>0</td>\n",
       "      <td>2</td>\n",
       "      <td>1</td>\n",
       "    </tr>\n",
       "    <tr>\n",
       "      <th>15</th>\n",
       "      <td>50</td>\n",
       "      <td>0</td>\n",
       "      <td>2</td>\n",
       "      <td>120</td>\n",
       "      <td>219</td>\n",
       "      <td>0</td>\n",
       "      <td>1</td>\n",
       "      <td>158</td>\n",
       "      <td>0</td>\n",
       "      <td>1.6</td>\n",
       "      <td>1</td>\n",
       "      <td>0</td>\n",
       "      <td>2</td>\n",
       "      <td>1</td>\n",
       "    </tr>\n",
       "    <tr>\n",
       "      <th>16</th>\n",
       "      <td>58</td>\n",
       "      <td>0</td>\n",
       "      <td>2</td>\n",
       "      <td>120</td>\n",
       "      <td>340</td>\n",
       "      <td>0</td>\n",
       "      <td>1</td>\n",
       "      <td>172</td>\n",
       "      <td>0</td>\n",
       "      <td>0.0</td>\n",
       "      <td>2</td>\n",
       "      <td>0</td>\n",
       "      <td>2</td>\n",
       "      <td>1</td>\n",
       "    </tr>\n",
       "    <tr>\n",
       "      <th>17</th>\n",
       "      <td>66</td>\n",
       "      <td>0</td>\n",
       "      <td>3</td>\n",
       "      <td>150</td>\n",
       "      <td>226</td>\n",
       "      <td>0</td>\n",
       "      <td>1</td>\n",
       "      <td>114</td>\n",
       "      <td>0</td>\n",
       "      <td>2.6</td>\n",
       "      <td>0</td>\n",
       "      <td>0</td>\n",
       "      <td>2</td>\n",
       "      <td>1</td>\n",
       "    </tr>\n",
       "    <tr>\n",
       "      <th>18</th>\n",
       "      <td>43</td>\n",
       "      <td>1</td>\n",
       "      <td>0</td>\n",
       "      <td>150</td>\n",
       "      <td>247</td>\n",
       "      <td>0</td>\n",
       "      <td>1</td>\n",
       "      <td>171</td>\n",
       "      <td>0</td>\n",
       "      <td>1.5</td>\n",
       "      <td>2</td>\n",
       "      <td>0</td>\n",
       "      <td>2</td>\n",
       "      <td>1</td>\n",
       "    </tr>\n",
       "    <tr>\n",
       "      <th>19</th>\n",
       "      <td>69</td>\n",
       "      <td>0</td>\n",
       "      <td>3</td>\n",
       "      <td>140</td>\n",
       "      <td>239</td>\n",
       "      <td>0</td>\n",
       "      <td>1</td>\n",
       "      <td>151</td>\n",
       "      <td>0</td>\n",
       "      <td>1.8</td>\n",
       "      <td>2</td>\n",
       "      <td>2</td>\n",
       "      <td>2</td>\n",
       "      <td>1</td>\n",
       "    </tr>\n",
       "    <tr>\n",
       "      <th>20</th>\n",
       "      <td>59</td>\n",
       "      <td>1</td>\n",
       "      <td>0</td>\n",
       "      <td>135</td>\n",
       "      <td>234</td>\n",
       "      <td>0</td>\n",
       "      <td>1</td>\n",
       "      <td>161</td>\n",
       "      <td>0</td>\n",
       "      <td>0.5</td>\n",
       "      <td>1</td>\n",
       "      <td>0</td>\n",
       "      <td>3</td>\n",
       "      <td>1</td>\n",
       "    </tr>\n",
       "    <tr>\n",
       "      <th>21</th>\n",
       "      <td>44</td>\n",
       "      <td>1</td>\n",
       "      <td>2</td>\n",
       "      <td>130</td>\n",
       "      <td>233</td>\n",
       "      <td>0</td>\n",
       "      <td>1</td>\n",
       "      <td>179</td>\n",
       "      <td>1</td>\n",
       "      <td>0.4</td>\n",
       "      <td>2</td>\n",
       "      <td>0</td>\n",
       "      <td>2</td>\n",
       "      <td>1</td>\n",
       "    </tr>\n",
       "    <tr>\n",
       "      <th>22</th>\n",
       "      <td>42</td>\n",
       "      <td>1</td>\n",
       "      <td>0</td>\n",
       "      <td>140</td>\n",
       "      <td>226</td>\n",
       "      <td>0</td>\n",
       "      <td>1</td>\n",
       "      <td>178</td>\n",
       "      <td>0</td>\n",
       "      <td>0.0</td>\n",
       "      <td>2</td>\n",
       "      <td>0</td>\n",
       "      <td>2</td>\n",
       "      <td>1</td>\n",
       "    </tr>\n",
       "    <tr>\n",
       "      <th>23</th>\n",
       "      <td>61</td>\n",
       "      <td>1</td>\n",
       "      <td>2</td>\n",
       "      <td>150</td>\n",
       "      <td>243</td>\n",
       "      <td>1</td>\n",
       "      <td>1</td>\n",
       "      <td>137</td>\n",
       "      <td>1</td>\n",
       "      <td>1.0</td>\n",
       "      <td>1</td>\n",
       "      <td>0</td>\n",
       "      <td>2</td>\n",
       "      <td>1</td>\n",
       "    </tr>\n",
       "    <tr>\n",
       "      <th>24</th>\n",
       "      <td>40</td>\n",
       "      <td>1</td>\n",
       "      <td>3</td>\n",
       "      <td>140</td>\n",
       "      <td>199</td>\n",
       "      <td>0</td>\n",
       "      <td>1</td>\n",
       "      <td>178</td>\n",
       "      <td>1</td>\n",
       "      <td>1.4</td>\n",
       "      <td>2</td>\n",
       "      <td>0</td>\n",
       "      <td>3</td>\n",
       "      <td>1</td>\n",
       "    </tr>\n",
       "    <tr>\n",
       "      <th>25</th>\n",
       "      <td>71</td>\n",
       "      <td>0</td>\n",
       "      <td>1</td>\n",
       "      <td>160</td>\n",
       "      <td>302</td>\n",
       "      <td>0</td>\n",
       "      <td>1</td>\n",
       "      <td>162</td>\n",
       "      <td>0</td>\n",
       "      <td>0.4</td>\n",
       "      <td>2</td>\n",
       "      <td>2</td>\n",
       "      <td>2</td>\n",
       "      <td>1</td>\n",
       "    </tr>\n",
       "    <tr>\n",
       "      <th>26</th>\n",
       "      <td>59</td>\n",
       "      <td>1</td>\n",
       "      <td>2</td>\n",
       "      <td>150</td>\n",
       "      <td>212</td>\n",
       "      <td>1</td>\n",
       "      <td>1</td>\n",
       "      <td>157</td>\n",
       "      <td>0</td>\n",
       "      <td>1.6</td>\n",
       "      <td>2</td>\n",
       "      <td>0</td>\n",
       "      <td>2</td>\n",
       "      <td>1</td>\n",
       "    </tr>\n",
       "    <tr>\n",
       "      <th>27</th>\n",
       "      <td>51</td>\n",
       "      <td>1</td>\n",
       "      <td>2</td>\n",
       "      <td>110</td>\n",
       "      <td>175</td>\n",
       "      <td>0</td>\n",
       "      <td>1</td>\n",
       "      <td>123</td>\n",
       "      <td>0</td>\n",
       "      <td>0.6</td>\n",
       "      <td>2</td>\n",
       "      <td>0</td>\n",
       "      <td>2</td>\n",
       "      <td>1</td>\n",
       "    </tr>\n",
       "    <tr>\n",
       "      <th>28</th>\n",
       "      <td>65</td>\n",
       "      <td>0</td>\n",
       "      <td>2</td>\n",
       "      <td>140</td>\n",
       "      <td>417</td>\n",
       "      <td>1</td>\n",
       "      <td>0</td>\n",
       "      <td>157</td>\n",
       "      <td>0</td>\n",
       "      <td>0.8</td>\n",
       "      <td>2</td>\n",
       "      <td>1</td>\n",
       "      <td>2</td>\n",
       "      <td>1</td>\n",
       "    </tr>\n",
       "    <tr>\n",
       "      <th>29</th>\n",
       "      <td>53</td>\n",
       "      <td>1</td>\n",
       "      <td>2</td>\n",
       "      <td>130</td>\n",
       "      <td>197</td>\n",
       "      <td>1</td>\n",
       "      <td>0</td>\n",
       "      <td>152</td>\n",
       "      <td>0</td>\n",
       "      <td>1.2</td>\n",
       "      <td>0</td>\n",
       "      <td>0</td>\n",
       "      <td>2</td>\n",
       "      <td>1</td>\n",
       "    </tr>\n",
       "    <tr>\n",
       "      <th>30</th>\n",
       "      <td>41</td>\n",
       "      <td>0</td>\n",
       "      <td>1</td>\n",
       "      <td>105</td>\n",
       "      <td>198</td>\n",
       "      <td>0</td>\n",
       "      <td>1</td>\n",
       "      <td>168</td>\n",
       "      <td>0</td>\n",
       "      <td>0.0</td>\n",
       "      <td>2</td>\n",
       "      <td>1</td>\n",
       "      <td>2</td>\n",
       "      <td>1</td>\n",
       "    </tr>\n",
       "    <tr>\n",
       "      <th>31</th>\n",
       "      <td>65</td>\n",
       "      <td>1</td>\n",
       "      <td>0</td>\n",
       "      <td>120</td>\n",
       "      <td>177</td>\n",
       "      <td>0</td>\n",
       "      <td>1</td>\n",
       "      <td>140</td>\n",
       "      <td>0</td>\n",
       "      <td>0.4</td>\n",
       "      <td>2</td>\n",
       "      <td>0</td>\n",
       "      <td>3</td>\n",
       "      <td>1</td>\n",
       "    </tr>\n",
       "    <tr>\n",
       "      <th>32</th>\n",
       "      <td>44</td>\n",
       "      <td>1</td>\n",
       "      <td>1</td>\n",
       "      <td>130</td>\n",
       "      <td>219</td>\n",
       "      <td>0</td>\n",
       "      <td>0</td>\n",
       "      <td>188</td>\n",
       "      <td>0</td>\n",
       "      <td>0.0</td>\n",
       "      <td>2</td>\n",
       "      <td>0</td>\n",
       "      <td>2</td>\n",
       "      <td>1</td>\n",
       "    </tr>\n",
       "    <tr>\n",
       "      <th>33</th>\n",
       "      <td>54</td>\n",
       "      <td>1</td>\n",
       "      <td>2</td>\n",
       "      <td>125</td>\n",
       "      <td>273</td>\n",
       "      <td>0</td>\n",
       "      <td>0</td>\n",
       "      <td>152</td>\n",
       "      <td>0</td>\n",
       "      <td>0.5</td>\n",
       "      <td>0</td>\n",
       "      <td>1</td>\n",
       "      <td>2</td>\n",
       "      <td>1</td>\n",
       "    </tr>\n",
       "    <tr>\n",
       "      <th>34</th>\n",
       "      <td>51</td>\n",
       "      <td>1</td>\n",
       "      <td>3</td>\n",
       "      <td>125</td>\n",
       "      <td>213</td>\n",
       "      <td>0</td>\n",
       "      <td>0</td>\n",
       "      <td>125</td>\n",
       "      <td>1</td>\n",
       "      <td>1.4</td>\n",
       "      <td>2</td>\n",
       "      <td>1</td>\n",
       "      <td>2</td>\n",
       "      <td>1</td>\n",
       "    </tr>\n",
       "    <tr>\n",
       "      <th>35</th>\n",
       "      <td>46</td>\n",
       "      <td>0</td>\n",
       "      <td>2</td>\n",
       "      <td>142</td>\n",
       "      <td>177</td>\n",
       "      <td>0</td>\n",
       "      <td>0</td>\n",
       "      <td>160</td>\n",
       "      <td>1</td>\n",
       "      <td>1.4</td>\n",
       "      <td>0</td>\n",
       "      <td>0</td>\n",
       "      <td>2</td>\n",
       "      <td>1</td>\n",
       "    </tr>\n",
       "    <tr>\n",
       "      <th>36</th>\n",
       "      <td>54</td>\n",
       "      <td>0</td>\n",
       "      <td>2</td>\n",
       "      <td>135</td>\n",
       "      <td>304</td>\n",
       "      <td>1</td>\n",
       "      <td>1</td>\n",
       "      <td>170</td>\n",
       "      <td>0</td>\n",
       "      <td>0.0</td>\n",
       "      <td>2</td>\n",
       "      <td>0</td>\n",
       "      <td>2</td>\n",
       "      <td>1</td>\n",
       "    </tr>\n",
       "    <tr>\n",
       "      <th>37</th>\n",
       "      <td>54</td>\n",
       "      <td>1</td>\n",
       "      <td>2</td>\n",
       "      <td>150</td>\n",
       "      <td>232</td>\n",
       "      <td>0</td>\n",
       "      <td>0</td>\n",
       "      <td>165</td>\n",
       "      <td>0</td>\n",
       "      <td>1.6</td>\n",
       "      <td>2</td>\n",
       "      <td>0</td>\n",
       "      <td>3</td>\n",
       "      <td>1</td>\n",
       "    </tr>\n",
       "    <tr>\n",
       "      <th>38</th>\n",
       "      <td>65</td>\n",
       "      <td>0</td>\n",
       "      <td>2</td>\n",
       "      <td>155</td>\n",
       "      <td>269</td>\n",
       "      <td>0</td>\n",
       "      <td>1</td>\n",
       "      <td>148</td>\n",
       "      <td>0</td>\n",
       "      <td>0.8</td>\n",
       "      <td>2</td>\n",
       "      <td>0</td>\n",
       "      <td>2</td>\n",
       "      <td>1</td>\n",
       "    </tr>\n",
       "    <tr>\n",
       "      <th>39</th>\n",
       "      <td>65</td>\n",
       "      <td>0</td>\n",
       "      <td>2</td>\n",
       "      <td>160</td>\n",
       "      <td>360</td>\n",
       "      <td>0</td>\n",
       "      <td>0</td>\n",
       "      <td>151</td>\n",
       "      <td>0</td>\n",
       "      <td>0.8</td>\n",
       "      <td>2</td>\n",
       "      <td>0</td>\n",
       "      <td>2</td>\n",
       "      <td>1</td>\n",
       "    </tr>\n",
       "    <tr>\n",
       "      <th>40</th>\n",
       "      <td>51</td>\n",
       "      <td>0</td>\n",
       "      <td>2</td>\n",
       "      <td>140</td>\n",
       "      <td>308</td>\n",
       "      <td>0</td>\n",
       "      <td>0</td>\n",
       "      <td>142</td>\n",
       "      <td>0</td>\n",
       "      <td>1.5</td>\n",
       "      <td>2</td>\n",
       "      <td>1</td>\n",
       "      <td>2</td>\n",
       "      <td>1</td>\n",
       "    </tr>\n",
       "    <tr>\n",
       "      <th>41</th>\n",
       "      <td>48</td>\n",
       "      <td>1</td>\n",
       "      <td>1</td>\n",
       "      <td>130</td>\n",
       "      <td>245</td>\n",
       "      <td>0</td>\n",
       "      <td>0</td>\n",
       "      <td>180</td>\n",
       "      <td>0</td>\n",
       "      <td>0.2</td>\n",
       "      <td>1</td>\n",
       "      <td>0</td>\n",
       "      <td>2</td>\n",
       "      <td>1</td>\n",
       "    </tr>\n",
       "    <tr>\n",
       "      <th>42</th>\n",
       "      <td>45</td>\n",
       "      <td>1</td>\n",
       "      <td>0</td>\n",
       "      <td>104</td>\n",
       "      <td>208</td>\n",
       "      <td>0</td>\n",
       "      <td>0</td>\n",
       "      <td>148</td>\n",
       "      <td>1</td>\n",
       "      <td>3.0</td>\n",
       "      <td>1</td>\n",
       "      <td>0</td>\n",
       "      <td>2</td>\n",
       "      <td>1</td>\n",
       "    </tr>\n",
       "    <tr>\n",
       "      <th>43</th>\n",
       "      <td>53</td>\n",
       "      <td>0</td>\n",
       "      <td>0</td>\n",
       "      <td>130</td>\n",
       "      <td>264</td>\n",
       "      <td>0</td>\n",
       "      <td>0</td>\n",
       "      <td>143</td>\n",
       "      <td>0</td>\n",
       "      <td>0.4</td>\n",
       "      <td>1</td>\n",
       "      <td>0</td>\n",
       "      <td>2</td>\n",
       "      <td>1</td>\n",
       "    </tr>\n",
       "    <tr>\n",
       "      <th>44</th>\n",
       "      <td>39</td>\n",
       "      <td>1</td>\n",
       "      <td>2</td>\n",
       "      <td>140</td>\n",
       "      <td>321</td>\n",
       "      <td>0</td>\n",
       "      <td>0</td>\n",
       "      <td>182</td>\n",
       "      <td>0</td>\n",
       "      <td>0.0</td>\n",
       "      <td>2</td>\n",
       "      <td>0</td>\n",
       "      <td>2</td>\n",
       "      <td>1</td>\n",
       "    </tr>\n",
       "    <tr>\n",
       "      <th>45</th>\n",
       "      <td>52</td>\n",
       "      <td>1</td>\n",
       "      <td>1</td>\n",
       "      <td>120</td>\n",
       "      <td>325</td>\n",
       "      <td>0</td>\n",
       "      <td>1</td>\n",
       "      <td>172</td>\n",
       "      <td>0</td>\n",
       "      <td>0.2</td>\n",
       "      <td>2</td>\n",
       "      <td>0</td>\n",
       "      <td>2</td>\n",
       "      <td>1</td>\n",
       "    </tr>\n",
       "    <tr>\n",
       "      <th>46</th>\n",
       "      <td>44</td>\n",
       "      <td>1</td>\n",
       "      <td>2</td>\n",
       "      <td>140</td>\n",
       "      <td>235</td>\n",
       "      <td>0</td>\n",
       "      <td>0</td>\n",
       "      <td>180</td>\n",
       "      <td>0</td>\n",
       "      <td>0.0</td>\n",
       "      <td>2</td>\n",
       "      <td>0</td>\n",
       "      <td>2</td>\n",
       "      <td>1</td>\n",
       "    </tr>\n",
       "    <tr>\n",
       "      <th>47</th>\n",
       "      <td>47</td>\n",
       "      <td>1</td>\n",
       "      <td>2</td>\n",
       "      <td>138</td>\n",
       "      <td>257</td>\n",
       "      <td>0</td>\n",
       "      <td>0</td>\n",
       "      <td>156</td>\n",
       "      <td>0</td>\n",
       "      <td>0.0</td>\n",
       "      <td>2</td>\n",
       "      <td>0</td>\n",
       "      <td>2</td>\n",
       "      <td>1</td>\n",
       "    </tr>\n",
       "    <tr>\n",
       "      <th>48</th>\n",
       "      <td>53</td>\n",
       "      <td>0</td>\n",
       "      <td>2</td>\n",
       "      <td>128</td>\n",
       "      <td>216</td>\n",
       "      <td>0</td>\n",
       "      <td>0</td>\n",
       "      <td>115</td>\n",
       "      <td>0</td>\n",
       "      <td>0.0</td>\n",
       "      <td>2</td>\n",
       "      <td>0</td>\n",
       "      <td>0</td>\n",
       "      <td>1</td>\n",
       "    </tr>\n",
       "    <tr>\n",
       "      <th>49</th>\n",
       "      <td>53</td>\n",
       "      <td>0</td>\n",
       "      <td>0</td>\n",
       "      <td>138</td>\n",
       "      <td>234</td>\n",
       "      <td>0</td>\n",
       "      <td>0</td>\n",
       "      <td>160</td>\n",
       "      <td>0</td>\n",
       "      <td>0.0</td>\n",
       "      <td>2</td>\n",
       "      <td>0</td>\n",
       "      <td>2</td>\n",
       "      <td>1</td>\n",
       "    </tr>\n",
       "    <tr>\n",
       "      <th>50</th>\n",
       "      <td>51</td>\n",
       "      <td>0</td>\n",
       "      <td>2</td>\n",
       "      <td>130</td>\n",
       "      <td>256</td>\n",
       "      <td>0</td>\n",
       "      <td>0</td>\n",
       "      <td>149</td>\n",
       "      <td>0</td>\n",
       "      <td>0.5</td>\n",
       "      <td>2</td>\n",
       "      <td>0</td>\n",
       "      <td>2</td>\n",
       "      <td>1</td>\n",
       "    </tr>\n",
       "    <tr>\n",
       "      <th>51</th>\n",
       "      <td>66</td>\n",
       "      <td>1</td>\n",
       "      <td>0</td>\n",
       "      <td>120</td>\n",
       "      <td>302</td>\n",
       "      <td>0</td>\n",
       "      <td>0</td>\n",
       "      <td>151</td>\n",
       "      <td>0</td>\n",
       "      <td>0.4</td>\n",
       "      <td>1</td>\n",
       "      <td>0</td>\n",
       "      <td>2</td>\n",
       "      <td>1</td>\n",
       "    </tr>\n",
       "    <tr>\n",
       "      <th>52</th>\n",
       "      <td>62</td>\n",
       "      <td>1</td>\n",
       "      <td>2</td>\n",
       "      <td>130</td>\n",
       "      <td>231</td>\n",
       "      <td>0</td>\n",
       "      <td>1</td>\n",
       "      <td>146</td>\n",
       "      <td>0</td>\n",
       "      <td>1.8</td>\n",
       "      <td>1</td>\n",
       "      <td>3</td>\n",
       "      <td>3</td>\n",
       "      <td>1</td>\n",
       "    </tr>\n",
       "    <tr>\n",
       "      <th>53</th>\n",
       "      <td>44</td>\n",
       "      <td>0</td>\n",
       "      <td>2</td>\n",
       "      <td>108</td>\n",
       "      <td>141</td>\n",
       "      <td>0</td>\n",
       "      <td>1</td>\n",
       "      <td>175</td>\n",
       "      <td>0</td>\n",
       "      <td>0.6</td>\n",
       "      <td>1</td>\n",
       "      <td>0</td>\n",
       "      <td>2</td>\n",
       "      <td>1</td>\n",
       "    </tr>\n",
       "    <tr>\n",
       "      <th>54</th>\n",
       "      <td>63</td>\n",
       "      <td>0</td>\n",
       "      <td>2</td>\n",
       "      <td>135</td>\n",
       "      <td>252</td>\n",
       "      <td>0</td>\n",
       "      <td>0</td>\n",
       "      <td>172</td>\n",
       "      <td>0</td>\n",
       "      <td>0.0</td>\n",
       "      <td>2</td>\n",
       "      <td>0</td>\n",
       "      <td>2</td>\n",
       "      <td>1</td>\n",
       "    </tr>\n",
       "    <tr>\n",
       "      <th>55</th>\n",
       "      <td>52</td>\n",
       "      <td>1</td>\n",
       "      <td>1</td>\n",
       "      <td>134</td>\n",
       "      <td>201</td>\n",
       "      <td>0</td>\n",
       "      <td>1</td>\n",
       "      <td>158</td>\n",
       "      <td>0</td>\n",
       "      <td>0.8</td>\n",
       "      <td>2</td>\n",
       "      <td>1</td>\n",
       "      <td>2</td>\n",
       "      <td>1</td>\n",
       "    </tr>\n",
       "    <tr>\n",
       "      <th>56</th>\n",
       "      <td>48</td>\n",
       "      <td>1</td>\n",
       "      <td>0</td>\n",
       "      <td>122</td>\n",
       "      <td>222</td>\n",
       "      <td>0</td>\n",
       "      <td>0</td>\n",
       "      <td>186</td>\n",
       "      <td>0</td>\n",
       "      <td>0.0</td>\n",
       "      <td>2</td>\n",
       "      <td>0</td>\n",
       "      <td>2</td>\n",
       "      <td>1</td>\n",
       "    </tr>\n",
       "    <tr>\n",
       "      <th>57</th>\n",
       "      <td>45</td>\n",
       "      <td>1</td>\n",
       "      <td>0</td>\n",
       "      <td>115</td>\n",
       "      <td>260</td>\n",
       "      <td>0</td>\n",
       "      <td>0</td>\n",
       "      <td>185</td>\n",
       "      <td>0</td>\n",
       "      <td>0.0</td>\n",
       "      <td>2</td>\n",
       "      <td>0</td>\n",
       "      <td>2</td>\n",
       "      <td>1</td>\n",
       "    </tr>\n",
       "    <tr>\n",
       "      <th>58</th>\n",
       "      <td>34</td>\n",
       "      <td>1</td>\n",
       "      <td>3</td>\n",
       "      <td>118</td>\n",
       "      <td>182</td>\n",
       "      <td>0</td>\n",
       "      <td>0</td>\n",
       "      <td>174</td>\n",
       "      <td>0</td>\n",
       "      <td>0.0</td>\n",
       "      <td>2</td>\n",
       "      <td>0</td>\n",
       "      <td>2</td>\n",
       "      <td>1</td>\n",
       "    </tr>\n",
       "    <tr>\n",
       "      <th>59</th>\n",
       "      <td>57</td>\n",
       "      <td>0</td>\n",
       "      <td>0</td>\n",
       "      <td>128</td>\n",
       "      <td>303</td>\n",
       "      <td>0</td>\n",
       "      <td>0</td>\n",
       "      <td>159</td>\n",
       "      <td>0</td>\n",
       "      <td>0.0</td>\n",
       "      <td>2</td>\n",
       "      <td>1</td>\n",
       "      <td>2</td>\n",
       "      <td>1</td>\n",
       "    </tr>\n",
       "  </tbody>\n",
       "</table>\n",
       "</div>"
      ],
      "text/plain": [
       "    age  sex  cp  trtbps  chol  fbs  restecg  thalachh  exng  oldpeak  slp  \\\n",
       "0    63    1   3     145   233    1        0       150     0      2.3    0   \n",
       "1    37    1   2     130   250    0        1       187     0      3.5    0   \n",
       "2    41    0   1     130   204    0        0       172     0      1.4    2   \n",
       "3    56    1   1     120   236    0        1       178     0      0.8    2   \n",
       "4    57    0   0     120   354    0        1       163     1      0.6    2   \n",
       "5    57    1   0     140   192    0        1       148     0      0.4    1   \n",
       "6    56    0   1     140   294    0        0       153     0      1.3    1   \n",
       "7    44    1   1     120   263    0        1       173     0      0.0    2   \n",
       "8    52    1   2     172   199    1        1       162     0      0.5    2   \n",
       "9    57    1   2     150   168    0        1       174     0      1.6    2   \n",
       "10   54    1   0     140   239    0        1       160     0      1.2    2   \n",
       "11   48    0   2     130   275    0        1       139     0      0.2    2   \n",
       "12   49    1   1     130   266    0        1       171     0      0.6    2   \n",
       "13   64    1   3     110   211    0        0       144     1      1.8    1   \n",
       "14   58    0   3     150   283    1        0       162     0      1.0    2   \n",
       "15   50    0   2     120   219    0        1       158     0      1.6    1   \n",
       "16   58    0   2     120   340    0        1       172     0      0.0    2   \n",
       "17   66    0   3     150   226    0        1       114     0      2.6    0   \n",
       "18   43    1   0     150   247    0        1       171     0      1.5    2   \n",
       "19   69    0   3     140   239    0        1       151     0      1.8    2   \n",
       "20   59    1   0     135   234    0        1       161     0      0.5    1   \n",
       "21   44    1   2     130   233    0        1       179     1      0.4    2   \n",
       "22   42    1   0     140   226    0        1       178     0      0.0    2   \n",
       "23   61    1   2     150   243    1        1       137     1      1.0    1   \n",
       "24   40    1   3     140   199    0        1       178     1      1.4    2   \n",
       "25   71    0   1     160   302    0        1       162     0      0.4    2   \n",
       "26   59    1   2     150   212    1        1       157     0      1.6    2   \n",
       "27   51    1   2     110   175    0        1       123     0      0.6    2   \n",
       "28   65    0   2     140   417    1        0       157     0      0.8    2   \n",
       "29   53    1   2     130   197    1        0       152     0      1.2    0   \n",
       "30   41    0   1     105   198    0        1       168     0      0.0    2   \n",
       "31   65    1   0     120   177    0        1       140     0      0.4    2   \n",
       "32   44    1   1     130   219    0        0       188     0      0.0    2   \n",
       "33   54    1   2     125   273    0        0       152     0      0.5    0   \n",
       "34   51    1   3     125   213    0        0       125     1      1.4    2   \n",
       "35   46    0   2     142   177    0        0       160     1      1.4    0   \n",
       "36   54    0   2     135   304    1        1       170     0      0.0    2   \n",
       "37   54    1   2     150   232    0        0       165     0      1.6    2   \n",
       "38   65    0   2     155   269    0        1       148     0      0.8    2   \n",
       "39   65    0   2     160   360    0        0       151     0      0.8    2   \n",
       "40   51    0   2     140   308    0        0       142     0      1.5    2   \n",
       "41   48    1   1     130   245    0        0       180     0      0.2    1   \n",
       "42   45    1   0     104   208    0        0       148     1      3.0    1   \n",
       "43   53    0   0     130   264    0        0       143     0      0.4    1   \n",
       "44   39    1   2     140   321    0        0       182     0      0.0    2   \n",
       "45   52    1   1     120   325    0        1       172     0      0.2    2   \n",
       "46   44    1   2     140   235    0        0       180     0      0.0    2   \n",
       "47   47    1   2     138   257    0        0       156     0      0.0    2   \n",
       "48   53    0   2     128   216    0        0       115     0      0.0    2   \n",
       "49   53    0   0     138   234    0        0       160     0      0.0    2   \n",
       "50   51    0   2     130   256    0        0       149     0      0.5    2   \n",
       "51   66    1   0     120   302    0        0       151     0      0.4    1   \n",
       "52   62    1   2     130   231    0        1       146     0      1.8    1   \n",
       "53   44    0   2     108   141    0        1       175     0      0.6    1   \n",
       "54   63    0   2     135   252    0        0       172     0      0.0    2   \n",
       "55   52    1   1     134   201    0        1       158     0      0.8    2   \n",
       "56   48    1   0     122   222    0        0       186     0      0.0    2   \n",
       "57   45    1   0     115   260    0        0       185     0      0.0    2   \n",
       "58   34    1   3     118   182    0        0       174     0      0.0    2   \n",
       "59   57    0   0     128   303    0        0       159     0      0.0    2   \n",
       "\n",
       "    caa  thall  output  \n",
       "0     0      1       1  \n",
       "1     0      2       1  \n",
       "2     0      2       1  \n",
       "3     0      2       1  \n",
       "4     0      2       1  \n",
       "5     0      1       1  \n",
       "6     0      2       1  \n",
       "7     0      3       1  \n",
       "8     0      3       1  \n",
       "9     0      2       1  \n",
       "10    0      2       1  \n",
       "11    0      2       1  \n",
       "12    0      2       1  \n",
       "13    0      2       1  \n",
       "14    0      2       1  \n",
       "15    0      2       1  \n",
       "16    0      2       1  \n",
       "17    0      2       1  \n",
       "18    0      2       1  \n",
       "19    2      2       1  \n",
       "20    0      3       1  \n",
       "21    0      2       1  \n",
       "22    0      2       1  \n",
       "23    0      2       1  \n",
       "24    0      3       1  \n",
       "25    2      2       1  \n",
       "26    0      2       1  \n",
       "27    0      2       1  \n",
       "28    1      2       1  \n",
       "29    0      2       1  \n",
       "30    1      2       1  \n",
       "31    0      3       1  \n",
       "32    0      2       1  \n",
       "33    1      2       1  \n",
       "34    1      2       1  \n",
       "35    0      2       1  \n",
       "36    0      2       1  \n",
       "37    0      3       1  \n",
       "38    0      2       1  \n",
       "39    0      2       1  \n",
       "40    1      2       1  \n",
       "41    0      2       1  \n",
       "42    0      2       1  \n",
       "43    0      2       1  \n",
       "44    0      2       1  \n",
       "45    0      2       1  \n",
       "46    0      2       1  \n",
       "47    0      2       1  \n",
       "48    0      0       1  \n",
       "49    0      2       1  \n",
       "50    0      2       1  \n",
       "51    0      2       1  \n",
       "52    3      3       1  \n",
       "53    0      2       1  \n",
       "54    0      2       1  \n",
       "55    1      2       1  \n",
       "56    0      2       1  \n",
       "57    0      2       1  \n",
       "58    0      2       1  \n",
       "59    1      2       1  "
      ]
     },
     "execution_count": 2,
     "metadata": {},
     "output_type": "execute_result"
    }
   ],
   "source": [
    "#importar csv\n",
    "df= pd.read_csv('Corazon.csv')\n",
    "df.head(60)"
   ]
  },
  {
   "cell_type": "code",
   "execution_count": 3,
   "id": "30116442",
   "metadata": {
    "scrolled": true
   },
   "outputs": [
    {
     "data": {
      "text/html": [
       "<div>\n",
       "<style scoped>\n",
       "    .dataframe tbody tr th:only-of-type {\n",
       "        vertical-align: middle;\n",
       "    }\n",
       "\n",
       "    .dataframe tbody tr th {\n",
       "        vertical-align: top;\n",
       "    }\n",
       "\n",
       "    .dataframe thead th {\n",
       "        text-align: right;\n",
       "    }\n",
       "</style>\n",
       "<table border=\"1\" class=\"dataframe\">\n",
       "  <thead>\n",
       "    <tr style=\"text-align: right;\">\n",
       "      <th></th>\n",
       "      <th>trtbps</th>\n",
       "      <th>chol</th>\n",
       "      <th>thalachh</th>\n",
       "      <th>oldpeak</th>\n",
       "    </tr>\n",
       "  </thead>\n",
       "  <tbody>\n",
       "    <tr>\n",
       "      <th>0</th>\n",
       "      <td>145</td>\n",
       "      <td>233</td>\n",
       "      <td>150</td>\n",
       "      <td>2.3</td>\n",
       "    </tr>\n",
       "    <tr>\n",
       "      <th>1</th>\n",
       "      <td>130</td>\n",
       "      <td>250</td>\n",
       "      <td>187</td>\n",
       "      <td>3.5</td>\n",
       "    </tr>\n",
       "    <tr>\n",
       "      <th>2</th>\n",
       "      <td>130</td>\n",
       "      <td>204</td>\n",
       "      <td>172</td>\n",
       "      <td>1.4</td>\n",
       "    </tr>\n",
       "    <tr>\n",
       "      <th>3</th>\n",
       "      <td>120</td>\n",
       "      <td>236</td>\n",
       "      <td>178</td>\n",
       "      <td>0.8</td>\n",
       "    </tr>\n",
       "    <tr>\n",
       "      <th>4</th>\n",
       "      <td>120</td>\n",
       "      <td>354</td>\n",
       "      <td>163</td>\n",
       "      <td>0.6</td>\n",
       "    </tr>\n",
       "  </tbody>\n",
       "</table>\n",
       "</div>"
      ],
      "text/plain": [
       "   trtbps  chol  thalachh  oldpeak\n",
       "0     145   233       150      2.3\n",
       "1     130   250       187      3.5\n",
       "2     130   204       172      1.4\n",
       "3     120   236       178      0.8\n",
       "4     120   354       163      0.6"
      ]
     },
     "execution_count": 3,
     "metadata": {},
     "output_type": "execute_result"
    }
   ],
   "source": [
    "#Vamos a guardas nuestras variables que son realmente numericas en otra variable para poder graficarlas mas adecuadamente\n",
    "num = df[['trtbps','chol','thalachh','oldpeak']] #En estas variables si podemos sumar o obtener correlacion de los datos \n",
    "num.head()"
   ]
  },
  {
   "cell_type": "code",
   "execution_count": 4,
   "id": "db87cb71",
   "metadata": {},
   "outputs": [
    {
     "data": {
      "text/plain": [
       "(303, 14)"
      ]
     },
     "execution_count": 4,
     "metadata": {},
     "output_type": "execute_result"
    }
   ],
   "source": [
    "#Dimension de los datos\n",
    "df.shape"
   ]
  },
  {
   "cell_type": "code",
   "execution_count": 5,
   "id": "e1ac9c4c",
   "metadata": {},
   "outputs": [
    {
     "data": {
      "text/html": [
       "<div>\n",
       "<style scoped>\n",
       "    .dataframe tbody tr th:only-of-type {\n",
       "        vertical-align: middle;\n",
       "    }\n",
       "\n",
       "    .dataframe tbody tr th {\n",
       "        vertical-align: top;\n",
       "    }\n",
       "\n",
       "    .dataframe thead th {\n",
       "        text-align: right;\n",
       "    }\n",
       "</style>\n",
       "<table border=\"1\" class=\"dataframe\">\n",
       "  <thead>\n",
       "    <tr style=\"text-align: right;\">\n",
       "      <th></th>\n",
       "      <th>Tipo de dato</th>\n",
       "    </tr>\n",
       "  </thead>\n",
       "  <tbody>\n",
       "    <tr>\n",
       "      <th>age</th>\n",
       "      <td>int64</td>\n",
       "    </tr>\n",
       "    <tr>\n",
       "      <th>sex</th>\n",
       "      <td>int64</td>\n",
       "    </tr>\n",
       "    <tr>\n",
       "      <th>cp</th>\n",
       "      <td>int64</td>\n",
       "    </tr>\n",
       "    <tr>\n",
       "      <th>trtbps</th>\n",
       "      <td>int64</td>\n",
       "    </tr>\n",
       "    <tr>\n",
       "      <th>chol</th>\n",
       "      <td>int64</td>\n",
       "    </tr>\n",
       "    <tr>\n",
       "      <th>fbs</th>\n",
       "      <td>int64</td>\n",
       "    </tr>\n",
       "    <tr>\n",
       "      <th>restecg</th>\n",
       "      <td>int64</td>\n",
       "    </tr>\n",
       "    <tr>\n",
       "      <th>thalachh</th>\n",
       "      <td>int64</td>\n",
       "    </tr>\n",
       "    <tr>\n",
       "      <th>exng</th>\n",
       "      <td>int64</td>\n",
       "    </tr>\n",
       "    <tr>\n",
       "      <th>oldpeak</th>\n",
       "      <td>float64</td>\n",
       "    </tr>\n",
       "    <tr>\n",
       "      <th>slp</th>\n",
       "      <td>int64</td>\n",
       "    </tr>\n",
       "    <tr>\n",
       "      <th>caa</th>\n",
       "      <td>int64</td>\n",
       "    </tr>\n",
       "    <tr>\n",
       "      <th>thall</th>\n",
       "      <td>int64</td>\n",
       "    </tr>\n",
       "    <tr>\n",
       "      <th>output</th>\n",
       "      <td>int64</td>\n",
       "    </tr>\n",
       "  </tbody>\n",
       "</table>\n",
       "</div>"
      ],
      "text/plain": [
       "         Tipo de dato\n",
       "age             int64\n",
       "sex             int64\n",
       "cp              int64\n",
       "trtbps          int64\n",
       "chol            int64\n",
       "fbs             int64\n",
       "restecg         int64\n",
       "thalachh        int64\n",
       "exng            int64\n",
       "oldpeak       float64\n",
       "slp             int64\n",
       "caa             int64\n",
       "thall           int64\n",
       "output          int64"
      ]
     },
     "execution_count": 5,
     "metadata": {},
     "output_type": "execute_result"
    }
   ],
   "source": [
    "#Tipo de cada dato\n",
    "#Tipos de datos\n",
    "dtypes = pd.DataFrame(df.dtypes, columns=['Tipo de dato'])\n",
    "dtypes"
   ]
  },
  {
   "cell_type": "code",
   "execution_count": 6,
   "id": "895d1506",
   "metadata": {},
   "outputs": [
    {
     "data": {
      "text/html": [
       "<div>\n",
       "<style scoped>\n",
       "    .dataframe tbody tr th:only-of-type {\n",
       "        vertical-align: middle;\n",
       "    }\n",
       "\n",
       "    .dataframe tbody tr th {\n",
       "        vertical-align: top;\n",
       "    }\n",
       "\n",
       "    .dataframe thead th {\n",
       "        text-align: right;\n",
       "    }\n",
       "</style>\n",
       "<table border=\"1\" class=\"dataframe\">\n",
       "  <thead>\n",
       "    <tr style=\"text-align: right;\">\n",
       "      <th></th>\n",
       "      <th>Valores_Nulos</th>\n",
       "    </tr>\n",
       "  </thead>\n",
       "  <tbody>\n",
       "    <tr>\n",
       "      <th>age</th>\n",
       "      <td>0</td>\n",
       "    </tr>\n",
       "    <tr>\n",
       "      <th>sex</th>\n",
       "      <td>0</td>\n",
       "    </tr>\n",
       "    <tr>\n",
       "      <th>cp</th>\n",
       "      <td>0</td>\n",
       "    </tr>\n",
       "    <tr>\n",
       "      <th>trtbps</th>\n",
       "      <td>0</td>\n",
       "    </tr>\n",
       "    <tr>\n",
       "      <th>chol</th>\n",
       "      <td>0</td>\n",
       "    </tr>\n",
       "    <tr>\n",
       "      <th>fbs</th>\n",
       "      <td>0</td>\n",
       "    </tr>\n",
       "    <tr>\n",
       "      <th>restecg</th>\n",
       "      <td>0</td>\n",
       "    </tr>\n",
       "    <tr>\n",
       "      <th>thalachh</th>\n",
       "      <td>0</td>\n",
       "    </tr>\n",
       "    <tr>\n",
       "      <th>exng</th>\n",
       "      <td>0</td>\n",
       "    </tr>\n",
       "    <tr>\n",
       "      <th>oldpeak</th>\n",
       "      <td>0</td>\n",
       "    </tr>\n",
       "    <tr>\n",
       "      <th>slp</th>\n",
       "      <td>0</td>\n",
       "    </tr>\n",
       "    <tr>\n",
       "      <th>caa</th>\n",
       "      <td>0</td>\n",
       "    </tr>\n",
       "    <tr>\n",
       "      <th>thall</th>\n",
       "      <td>0</td>\n",
       "    </tr>\n",
       "    <tr>\n",
       "      <th>output</th>\n",
       "      <td>0</td>\n",
       "    </tr>\n",
       "  </tbody>\n",
       "</table>\n",
       "</div>"
      ],
      "text/plain": [
       "          Valores_Nulos\n",
       "age                   0\n",
       "sex                   0\n",
       "cp                    0\n",
       "trtbps                0\n",
       "chol                  0\n",
       "fbs                   0\n",
       "restecg               0\n",
       "thalachh              0\n",
       "exng                  0\n",
       "oldpeak               0\n",
       "slp                   0\n",
       "caa                   0\n",
       "thall                 0\n",
       "output                0"
      ]
     },
     "execution_count": 6,
     "metadata": {},
     "output_type": "execute_result"
    }
   ],
   "source": [
    "#Veamos si hay nulos\n",
    "missing = pd.DataFrame(df.isnull().sum(),columns=['Valores_Nulos'])\n",
    "missing"
   ]
  },
  {
   "cell_type": "code",
   "execution_count": 7,
   "id": "7316366c",
   "metadata": {
    "scrolled": true
   },
   "outputs": [
    {
     "data": {
      "text/html": [
       "<div>\n",
       "<style scoped>\n",
       "    .dataframe tbody tr th:only-of-type {\n",
       "        vertical-align: middle;\n",
       "    }\n",
       "\n",
       "    .dataframe tbody tr th {\n",
       "        vertical-align: top;\n",
       "    }\n",
       "\n",
       "    .dataframe thead th {\n",
       "        text-align: right;\n",
       "    }\n",
       "</style>\n",
       "<table border=\"1\" class=\"dataframe\">\n",
       "  <thead>\n",
       "    <tr style=\"text-align: right;\">\n",
       "      <th></th>\n",
       "      <th>Valores_Unicos</th>\n",
       "    </tr>\n",
       "  </thead>\n",
       "  <tbody>\n",
       "    <tr>\n",
       "      <th>age</th>\n",
       "      <td>41</td>\n",
       "    </tr>\n",
       "    <tr>\n",
       "      <th>sex</th>\n",
       "      <td>2</td>\n",
       "    </tr>\n",
       "    <tr>\n",
       "      <th>cp</th>\n",
       "      <td>4</td>\n",
       "    </tr>\n",
       "    <tr>\n",
       "      <th>trtbps</th>\n",
       "      <td>49</td>\n",
       "    </tr>\n",
       "    <tr>\n",
       "      <th>chol</th>\n",
       "      <td>152</td>\n",
       "    </tr>\n",
       "    <tr>\n",
       "      <th>fbs</th>\n",
       "      <td>2</td>\n",
       "    </tr>\n",
       "    <tr>\n",
       "      <th>restecg</th>\n",
       "      <td>3</td>\n",
       "    </tr>\n",
       "    <tr>\n",
       "      <th>thalachh</th>\n",
       "      <td>91</td>\n",
       "    </tr>\n",
       "    <tr>\n",
       "      <th>exng</th>\n",
       "      <td>2</td>\n",
       "    </tr>\n",
       "    <tr>\n",
       "      <th>oldpeak</th>\n",
       "      <td>40</td>\n",
       "    </tr>\n",
       "    <tr>\n",
       "      <th>slp</th>\n",
       "      <td>3</td>\n",
       "    </tr>\n",
       "    <tr>\n",
       "      <th>caa</th>\n",
       "      <td>5</td>\n",
       "    </tr>\n",
       "    <tr>\n",
       "      <th>thall</th>\n",
       "      <td>4</td>\n",
       "    </tr>\n",
       "    <tr>\n",
       "      <th>output</th>\n",
       "      <td>2</td>\n",
       "    </tr>\n",
       "  </tbody>\n",
       "</table>\n",
       "</div>"
      ],
      "text/plain": [
       "          Valores_Unicos\n",
       "age                   41\n",
       "sex                    2\n",
       "cp                     4\n",
       "trtbps                49\n",
       "chol                 152\n",
       "fbs                    2\n",
       "restecg                3\n",
       "thalachh              91\n",
       "exng                   2\n",
       "oldpeak               40\n",
       "slp                    3\n",
       "caa                    5\n",
       "thall                  4\n",
       "output                 2"
      ]
     },
     "execution_count": 7,
     "metadata": {},
     "output_type": "execute_result"
    }
   ],
   "source": [
    "#Veremos la cardinalidad de nuestros datos\n",
    "#valores únicos\n",
    "unival = pd.DataFrame(df.nunique(), columns=['Valores_Unicos'])\n",
    "unival"
   ]
  },
  {
   "cell_type": "code",
   "execution_count": 8,
   "id": "2a3b4016",
   "metadata": {},
   "outputs": [
    {
     "data": {
      "text/html": [
       "<div>\n",
       "<style scoped>\n",
       "    .dataframe tbody tr th:only-of-type {\n",
       "        vertical-align: middle;\n",
       "    }\n",
       "\n",
       "    .dataframe tbody tr th {\n",
       "        vertical-align: top;\n",
       "    }\n",
       "\n",
       "    .dataframe thead th {\n",
       "        text-align: right;\n",
       "    }\n",
       "</style>\n",
       "<table border=\"1\" class=\"dataframe\">\n",
       "  <thead>\n",
       "    <tr style=\"text-align: right;\">\n",
       "      <th></th>\n",
       "      <th>trtbps</th>\n",
       "      <th>chol</th>\n",
       "      <th>thalachh</th>\n",
       "      <th>oldpeak</th>\n",
       "    </tr>\n",
       "  </thead>\n",
       "  <tbody>\n",
       "    <tr>\n",
       "      <th>count</th>\n",
       "      <td>303.000000</td>\n",
       "      <td>303.000000</td>\n",
       "      <td>303.000000</td>\n",
       "      <td>303.000000</td>\n",
       "    </tr>\n",
       "    <tr>\n",
       "      <th>mean</th>\n",
       "      <td>131.623762</td>\n",
       "      <td>246.264026</td>\n",
       "      <td>149.646865</td>\n",
       "      <td>1.039604</td>\n",
       "    </tr>\n",
       "    <tr>\n",
       "      <th>std</th>\n",
       "      <td>17.538143</td>\n",
       "      <td>51.830751</td>\n",
       "      <td>22.905161</td>\n",
       "      <td>1.161075</td>\n",
       "    </tr>\n",
       "    <tr>\n",
       "      <th>min</th>\n",
       "      <td>94.000000</td>\n",
       "      <td>126.000000</td>\n",
       "      <td>71.000000</td>\n",
       "      <td>0.000000</td>\n",
       "    </tr>\n",
       "    <tr>\n",
       "      <th>25%</th>\n",
       "      <td>120.000000</td>\n",
       "      <td>211.000000</td>\n",
       "      <td>133.500000</td>\n",
       "      <td>0.000000</td>\n",
       "    </tr>\n",
       "    <tr>\n",
       "      <th>50%</th>\n",
       "      <td>130.000000</td>\n",
       "      <td>240.000000</td>\n",
       "      <td>153.000000</td>\n",
       "      <td>0.800000</td>\n",
       "    </tr>\n",
       "    <tr>\n",
       "      <th>75%</th>\n",
       "      <td>140.000000</td>\n",
       "      <td>274.500000</td>\n",
       "      <td>166.000000</td>\n",
       "      <td>1.600000</td>\n",
       "    </tr>\n",
       "    <tr>\n",
       "      <th>max</th>\n",
       "      <td>200.000000</td>\n",
       "      <td>564.000000</td>\n",
       "      <td>202.000000</td>\n",
       "      <td>6.200000</td>\n",
       "    </tr>\n",
       "  </tbody>\n",
       "</table>\n",
       "</div>"
      ],
      "text/plain": [
       "           trtbps        chol    thalachh     oldpeak\n",
       "count  303.000000  303.000000  303.000000  303.000000\n",
       "mean   131.623762  246.264026  149.646865    1.039604\n",
       "std     17.538143   51.830751   22.905161    1.161075\n",
       "min     94.000000  126.000000   71.000000    0.000000\n",
       "25%    120.000000  211.000000  133.500000    0.000000\n",
       "50%    130.000000  240.000000  153.000000    0.800000\n",
       "75%    140.000000  274.500000  166.000000    1.600000\n",
       "max    200.000000  564.000000  202.000000    6.200000"
      ]
     },
     "execution_count": 8,
     "metadata": {},
     "output_type": "execute_result"
    }
   ],
   "source": [
    "#Veamos las estadísticas de nuestras variables numericas\n",
    "num.describe(include='all')"
   ]
  },
  {
   "cell_type": "code",
   "execution_count": 9,
   "id": "55fa08da",
   "metadata": {},
   "outputs": [
    {
     "data": {
      "text/plain": [
       "<seaborn.axisgrid.PairGrid at 0x1b6ad729df0>"
      ]
     },
     "execution_count": 9,
     "metadata": {},
     "output_type": "execute_result"
    },
    {
     "data": {
      "image/png": "[encoded data removed]",
      "text/plain": [
       "<Figure size 720x720 with 20 Axes>"
      ]
     },
     "metadata": {
      "needs_background": "light"
     },
     "output_type": "display_data"
    }
   ],
   "source": [
    "#gráficas de las variables númericas\n",
    "sns.pairplot(num, diag_kind=\"kde\")"
   ]
  },
  {
   "cell_type": "code",
   "execution_count": 10,
   "id": "70f04b24",
   "metadata": {},
   "outputs": [
    {
     "data": {
      "image/png": "[encoded data removed]",
      "text/plain": [
       "<Figure size 432x288 with 1 Axes>"
      ]
     },
     "metadata": {
      "needs_background": "light"
     },
     "output_type": "display_data"
    },
    {
     "data": {
      "image/png": "[encoded data removed]",
      "text/plain": [
       "<Figure size 432x288 with 1 Axes>"
      ]
     },
     "metadata": {
      "needs_background": "light"
     },
     "output_type": "display_data"
    },
    {
     "data": {
      "image/png": "[encoded data removed]",
      "text/plain": [
       "<Figure size 432x288 with 1 Axes>"
      ]
     },
     "metadata": {
      "needs_background": "light"
     },
     "output_type": "display_data"
    },
    {
     "data": {
      "image/png": "[encoded data removed]",
      "text/plain": [
       "<Figure size 432x288 with 1 Axes>"
      ]
     },
     "metadata": {
      "needs_background": "light"
     },
     "output_type": "display_data"
    },
    {
     "data": {
      "image/png": "[encoded data removed]",
      "text/plain": [
       "<Figure size 432x288 with 1 Axes>"
      ]
     },
     "metadata": {
      "needs_background": "light"
     },
     "output_type": "display_data"
    },
    {
     "data": {
      "image/png": "[encoded data removed]",
      "text/plain": [
       "<Figure size 432x288 with 1 Axes>"
      ]
     },
     "metadata": {
      "needs_background": "light"
     },
     "output_type": "display_data"
    },
    {
     "data": {
      "image/png": "[encoded data removed]",
      "text/plain": [
       "<Figure size 432x288 with 1 Axes>"
      ]
     },
     "metadata": {
      "needs_background": "light"
     },
     "output_type": "display_data"
    },
    {
     "data": {
      "image/png": "[encoded data removed]",
      "text/plain": [
       "<Figure size 432x288 with 1 Axes>"
      ]
     },
     "metadata": {
      "needs_background": "light"
     },
     "output_type": "display_data"
    },
    {
     "data": {
      "image/png": "[encoded data removed]",
      "text/plain": [
       "<Figure size 432x288 with 1 Axes>"
      ]
     },
     "metadata": {
      "needs_background": "light"
     },
     "output_type": "display_data"
    },
    {
     "data": {
      "image/png": "[encoded data removed]",
      "text/plain": [
       "<Figure size 432x288 with 1 Axes>"
      ]
     },
     "metadata": {
      "needs_background": "light"
     },
     "output_type": "display_data"
    },
    {
     "data": {
      "image/png": "[encoded data removed]",
      "text/plain": [
       "<Figure size 432x288 with 1 Axes>"
      ]
     },
     "metadata": {
      "needs_background": "light"
     },
     "output_type": "display_data"
    },
    {
     "data": {
      "image/png": "[encoded data removed]",
      "text/plain": [
       "<Figure size 432x288 with 1 Axes>"
      ]
     },
     "metadata": {
      "needs_background": "light"
     },
     "output_type": "display_data"
    },
    {
     "data": {
      "image/png": "[encoded data removed]",
      "text/plain": [
       "<Figure size 432x288 with 1 Axes>"
      ]
     },
     "metadata": {
      "needs_background": "light"
     },
     "output_type": "display_data"
    },
    {
     "data": {
      "image/png": "[encoded data removed]",
      "text/plain": [
       "<Figure size 432x288 with 1 Axes>"
      ]
     },
     "metadata": {
      "needs_background": "light"
     },
     "output_type": "display_data"
    },
    {
     "data": {
      "image/png": "[encoded data removed]",
      "text/plain": [
       "<Figure size 432x288 with 1 Axes>"
      ]
     },
     "metadata": {
      "needs_background": "light"
     },
     "output_type": "display_data"
    },
    {
     "data": {
      "image/png": "[encoded data removed]",
      "text/plain": [
       "<Figure size 432x288 with 1 Axes>"
      ]
     },
     "metadata": {
      "needs_background": "light"
     },
     "output_type": "display_data"
    },
    {
     "data": {
      "image/png": "[encoded data removed]",
      "text/plain": [
       "<Figure size 432x288 with 1 Axes>"
      ]
     },
     "metadata": {
      "needs_background": "light"
     },
     "output_type": "display_data"
    },
    {
     "data": {
      "image/png": "[encoded data removed]",
      "text/plain": [
       "<Figure size 432x288 with 1 Axes>"
      ]
     },
     "metadata": {
      "needs_background": "light"
     },
     "output_type": "display_data"
    },
    {
     "data": {
      "image/png": "[encoded data removed]",
      "text/plain": [
       "<Figure size 432x288 with 1 Axes>"
      ]
     },
     "metadata": {
      "needs_background": "light"
     },
     "output_type": "display_data"
    },
    {
     "data": {
      "image/png": "[encoded data removed]",
      "text/plain": [
       "<Figure size 432x288 with 1 Axes>"
      ]
     },
     "metadata": {
      "needs_background": "light"
     },
     "output_type": "display_data"
    },
    {
     "data": {
      "image/png": "[encoded data removed]",
      "text/plain": [
       "<Figure size 432x288 with 1 Axes>"
      ]
     },
     "metadata": {
      "needs_background": "light"
     },
     "output_type": "display_data"
    },
    {
     "data": {
      "image/png": "[encoded data removed]",
      "text/plain": [
       "<Figure size 432x288 with 1 Axes>"
      ]
     },
     "metadata": {
      "needs_background": "light"
     },
     "output_type": "display_data"
    },
    {
     "data": {
      "image/png": "[encoded data removed]",
      "text/plain": [
       "<Figure size 432x288 with 1 Axes>"
      ]
     },
     "metadata": {
      "needs_background": "light"
     },
     "output_type": "display_data"
    },
    {
     "data": {
      "image/png": "[encoded data removed]",
      "text/plain": [
       "<Figure size 432x288 with 1 Axes>"
      ]
     },
     "metadata": {
      "needs_background": "light"
     },
     "output_type": "display_data"
    },
    {
     "data": {
      "image/png": "[encoded data removed]",
      "text/plain": [
       "<Figure size 432x288 with 1 Axes>"
      ]
     },
     "metadata": {
      "needs_background": "light"
     },
     "output_type": "display_data"
    },
    {
     "data": {
      "image/png": "[encoded data removed]",
      "text/plain": [
       "<Figure size 432x288 with 1 Axes>"
      ]
     },
     "metadata": {
      "needs_background": "light"
     },
     "output_type": "display_data"
    },
    {
     "data": {
      "image/png": "[encoded data removed]",
      "text/plain": [
       "<Figure size 432x288 with 1 Axes>"
      ]
     },
     "metadata": {
      "needs_background": "light"
     },
     "output_type": "display_data"
    },
    {
     "data": {
      "image/png": "[encoded data removed]",
      "text/plain": [
       "<Figure size 432x288 with 1 Axes>"
      ]
     },
     "metadata": {
      "needs_background": "light"
     },
     "output_type": "display_data"
    }
   ],
   "source": [
    "#gráficos variables \n",
    "for var in df:\n",
    "    \n",
    "    # Graficamos el histograma\n",
    "    plt.hist(df[var], bins=5)\n",
    "    plt.title(f'Histograma de {var}')\n",
    "    plt.xlabel(var)\n",
    "    plt.ylabel('Frecuencia')\n",
    "    \n",
    "    # Calculamos algunas medidas estadísticas de la variable\n",
    "    var_mean = df[var].mean()\n",
    "    var_median = df[var].median()\n",
    "    var_std = df[var].std()\n",
    "    var_min = df[var].min()\n",
    "    var_max = df[var].max()\n",
    "    \n",
    "    # Agregamos las medidas estadísticas al gráfico\n",
    "    plt.text(1.20, 0.20, f\"Promedio: {var_mean:.2f}\\nMediana: {var_median:.2f}\\nDesv. Est.: {var_std:.2f}\\nMínimo: {var_min:.2f}\\nMáximo: {var_max:.2f}\",\n",
    "             transform=plt.gca().transAxes)\n",
    "    \n",
    "    # Mostramos el gráfico\n",
    "    plt.show()\n",
    "    \n",
    "    # Graficamos el diagrama de caja\n",
    "    plt.boxplot(df[var], vert=False)\n",
    "    plt.title(f'Diagrama de Caja de {var}')\n",
    "    plt.xlabel(var)\n",
    "    \n",
    "    # Mostramos el gráfico\n",
    "    plt.show()\n"
   ]
  },
  {
   "cell_type": "code",
   "execution_count": 11,
   "id": "dd6c2ad7",
   "metadata": {},
   "outputs": [
    {
     "data": {
      "text/plain": [
       "8      172\n",
       "101    178\n",
       "110    180\n",
       "203    180\n",
       "223    200\n",
       "Name: trtbps, dtype: int64"
      ]
     },
     "execution_count": 11,
     "metadata": {},
     "output_type": "execute_result"
    }
   ],
   "source": [
    "#Al ver que hay variables con outliers analisemos esas variables y observemos que hacer con estos\n",
    "#Funcion para determinar outliers\n",
    "def find_boundaries(df_var,distance=1.5):\n",
    "    IQR = df_var.quantile(0.75)-df_var.quantile(0.25)\n",
    "    lower = df_var.quantile(0.25)-IQR*distance\n",
    "    upper = df_var.quantile(0.75)+IQR*distance\n",
    "    return lower,upper\n",
    "\n",
    "lmin,lmax = find_boundaries(df['trtbps'])\n",
    "outliers = np.where(df['trtbps'] > lmax, True,np.where(df['trtbps'] < lmin, True, False))\n",
    "outliers_df = df.loc[outliers, 'trtbps']\n",
    "outliers_df.head()"
   ]
  },
  {
   "cell_type": "code",
   "execution_count": 12,
   "id": "b5f5f06f",
   "metadata": {},
   "outputs": [
    {
     "data": {
      "text/plain": [
       "28     417\n",
       "85     564\n",
       "96     394\n",
       "220    407\n",
       "246    409\n",
       "Name: chol, dtype: int64"
      ]
     },
     "execution_count": 12,
     "metadata": {},
     "output_type": "execute_result"
    }
   ],
   "source": [
    "#Al ver que hay variables con outliers analisemos esas variables y observemos que hacer con estos\n",
    "#Funcion para determinar outliers\n",
    "def find_boundaries(df_var,distance=1.5):\n",
    "    IQR = df_var.quantile(0.75)-df_var.quantile(0.25)\n",
    "    lower = df_var.quantile(0.25)-IQR*distance\n",
    "    upper = df_var.quantile(0.75)+IQR*distance\n",
    "    return lower,upper\n",
    "\n",
    "lmin,lmax = find_boundaries(df['chol'])\n",
    "outliers = np.where(df['chol'] > lmax, True,np.where(df['chol'] < lmin, True, False))\n",
    "outliers_df = df.loc[outliers, 'chol']\n",
    "outliers_df.head()"
   ]
  },
  {
   "cell_type": "code",
   "execution_count": 13,
   "id": "2e5bbb05",
   "metadata": {},
   "outputs": [
    {
     "data": {
      "text/plain": [
       "0     1\n",
       "8     1\n",
       "14    1\n",
       "23    1\n",
       "26    1\n",
       "Name: fbs, dtype: int64"
      ]
     },
     "execution_count": 13,
     "metadata": {},
     "output_type": "execute_result"
    }
   ],
   "source": [
    "#Al ver que hay variables con outliers analisemos esas variables y observemos que hacer con estos\n",
    "#Funcion para determinar outliers\n",
    "def find_boundaries(df_var,distance=1.5):\n",
    "    IQR = df_var.quantile(0.75)-df_var.quantile(0.25)\n",
    "    lower = df_var.quantile(0.25)-IQR*distance\n",
    "    upper = df_var.quantile(0.75)+IQR*distance\n",
    "    return lower,upper\n",
    "\n",
    "lmin,lmax = find_boundaries(df['fbs'])\n",
    "outliers = np.where(df['fbs'] > lmax, True,np.where(df['fbs'] < lmin, True, False))\n",
    "outliers_df = df.loc[outliers, 'fbs']\n",
    "outliers_df.head()"
   ]
  },
  {
   "cell_type": "code",
   "execution_count": 14,
   "id": "89c02905",
   "metadata": {},
   "outputs": [
    {
     "data": {
      "text/plain": [
       "272    71\n",
       "Name: thalachh, dtype: int64"
      ]
     },
     "execution_count": 14,
     "metadata": {},
     "output_type": "execute_result"
    }
   ],
   "source": [
    "#Al ver que hay variables con outliers analisemos esas variables y observemos que hacer con estos\n",
    "#Funcion para determinar outliers\n",
    "def find_boundaries(df_var,distance=1.5):\n",
    "    IQR = df_var.quantile(0.75)-df_var.quantile(0.25)\n",
    "    lower = df_var.quantile(0.25)-IQR*distance\n",
    "    upper = df_var.quantile(0.75)+IQR*distance\n",
    "    return lower,upper\n",
    "\n",
    "lmin,lmax = find_boundaries(df['thalachh'])\n",
    "outliers = np.where(df['thalachh'] > lmax, True,np.where(df['thalachh'] < lmin, True, False))\n",
    "outliers_df = df.loc[outliers, 'thalachh']\n",
    "outliers_df.head()"
   ]
  },
  {
   "cell_type": "code",
   "execution_count": 15,
   "id": "618a03a5",
   "metadata": {},
   "outputs": [
    {
     "data": {
      "text/plain": [
       "101    4.2\n",
       "204    6.2\n",
       "221    5.6\n",
       "250    4.2\n",
       "291    4.4\n",
       "Name: oldpeak, dtype: float64"
      ]
     },
     "execution_count": 15,
     "metadata": {},
     "output_type": "execute_result"
    }
   ],
   "source": [
    "#Al ver que hay variables con outliers analisemos esas variables y observemos que hacer con estos\n",
    "#Funcion para determinar outliers\n",
    "def find_boundaries(df_var,distance=1.5):\n",
    "    IQR = df_var.quantile(0.75)-df_var.quantile(0.25)\n",
    "    lower = df_var.quantile(0.25)-IQR*distance\n",
    "    upper = df_var.quantile(0.75)+IQR*distance\n",
    "    return lower,upper\n",
    "\n",
    "lmin,lmax = find_boundaries(df['oldpeak'])\n",
    "outliers = np.where(df['oldpeak'] > lmax, True,np.where(df['oldpeak'] < lmin, True, False))\n",
    "outliers_df = df.loc[outliers, 'oldpeak']\n",
    "outliers_df.head()"
   ]
  },
  {
   "cell_type": "code",
   "execution_count": 16,
   "id": "e0d1b692",
   "metadata": {},
   "outputs": [
    {
     "data": {
      "text/plain": [
       "52     3\n",
       "92     4\n",
       "97     3\n",
       "99     3\n",
       "158    4\n",
       "Name: caa, dtype: int64"
      ]
     },
     "execution_count": 16,
     "metadata": {},
     "output_type": "execute_result"
    }
   ],
   "source": [
    "#Al ver que hay variables con outliers analisemos esas variables y observemos que hacer con estos\n",
    "#Funcion para determinar outliers\n",
    "def find_boundaries(df_var,distance=1.5):\n",
    "    IQR = df_var.quantile(0.75)-df_var.quantile(0.25)\n",
    "    lower = df_var.quantile(0.25)-IQR*distance\n",
    "    upper = df_var.quantile(0.75)+IQR*distance\n",
    "    return lower,upper\n",
    "\n",
    "lmin,lmax = find_boundaries(df['caa'])\n",
    "outliers = np.where(df['caa'] > lmax, True,np.where(df['caa'] < lmin, True, False))\n",
    "outliers_df = df.loc[outliers, 'caa']\n",
    "outliers_df.head()"
   ]
  },
  {
   "cell_type": "code",
   "execution_count": 17,
   "id": "c4e1da08",
   "metadata": {},
   "outputs": [
    {
     "data": {
      "text/plain": [
       "48     0\n",
       "281    0\n",
       "Name: thall, dtype: int64"
      ]
     },
     "execution_count": 17,
     "metadata": {},
     "output_type": "execute_result"
    }
   ],
   "source": [
    "#Al ver que hay variables con outliers analisemos esas variables y observemos que hacer con estos\n",
    "#Funcion para determinar outliers\n",
    "def find_boundaries(df_var,distance=1.5):\n",
    "    IQR = df_var.quantile(0.75)-df_var.quantile(0.25)\n",
    "    lower = df_var.quantile(0.25)-IQR*distance\n",
    "    upper = df_var.quantile(0.75)+IQR*distance\n",
    "    return lower,upper\n",
    "\n",
    "lmin,lmax = find_boundaries(df['thall'])\n",
    "outliers = np.where(df['thall'] > lmax, True,np.where(df['thall'] < lmin, True, False))\n",
    "outliers_df = df.loc[outliers, 'thall']\n",
    "outliers_df.head()"
   ]
  },
  {
   "cell_type": "markdown",
   "id": "6d43f5c2",
   "metadata": {},
   "source": [
    "## Nota importante:\n",
    " * En puntos anteriores notamos que hay varias variables con datos atipicos(son pocos en la gran mayoria o practicamente todas), quitar estos datos no seria efectivo al 100% debido a que puede que puede que haya pasientes que si hayan alcanzado esas cifras o esa categoria por algun tipo de problema que puedan tener. Pero si en nuestro modelo observ"
   ]
  },
  {
   "cell_type": "code",
   "execution_count": 18,
   "id": "2d9acc07",
   "metadata": {},
   "outputs": [
    {
     "data": {
      "text/plain": [
       "1    165\n",
       "0    138\n",
       "Name: output, dtype: int64"
      ]
     },
     "execution_count": 18,
     "metadata": {},
     "output_type": "execute_result"
    }
   ],
   "source": [
    "#vemos si hay imbalanceo en nuestra variable de respuesta\n",
    "df['output'].value_counts()"
   ]
  },
  {
   "cell_type": "markdown",
   "id": "092c7330",
   "metadata": {},
   "source": [
    "Vemos que no hay un invalanceo"
   ]
  },
  {
   "cell_type": "code",
   "execution_count": 54,
   "id": "a4834e43",
   "metadata": {},
   "outputs": [],
   "source": [
    "#Vamos a  agregar nuestra variable predictora para ver que tanto se relaciona con las numericas\n",
    "num = df[['trtbps','chol','thalachh','oldpeak','output']] #En estas variables si podemos sumar o obtener correlacion de los datos \n"
   ]
  },
  {
   "cell_type": "code",
   "execution_count": 55,
   "id": "23214d5d",
   "metadata": {},
   "outputs": [
    {
     "data": {
      "image/png": "[encoded data removed]",
      "text/plain": [
       "<Figure size 432x288 with 2 Axes>"
      ]
     },
     "metadata": {
      "needs_background": "light"
     },
     "output_type": "display_data"
    }
   ],
   "source": [
    "#Veamos una correlacion de nuestra informacion numerica\n",
    "corr_matrix = num.corr()\n",
    "sns.heatmap(corr_matrix, annot=True, cmap='coolwarm')\n",
    "plt.show()"
   ]
  },
  {
   "cell_type": "markdown",
   "id": "9164b0a3",
   "metadata": {},
   "source": [
    "Vemos que no hay relaciones fuertes, son mas relaciones inversas, pero pequeñas, asi que no sera necesario el quitar ninguna"
   ]
  },
  {
   "cell_type": "markdown",
   "id": "c995753b",
   "metadata": {},
   "source": [
    "# Ultimo paso antes de modelar, preparar los datos y separar"
   ]
  },
  {
   "cell_type": "code",
   "execution_count": 20,
   "id": "9c3a0912",
   "metadata": {},
   "outputs": [],
   "source": [
    "#Separar X y Y\n",
    "X = df[['age','sex','cp','trtbps','chol','fbs','restecg','thalachh','exng','oldpeak','slp','caa','thall']]\n",
    "y = df['output']\n",
    "\n",
    "#Dividir datos en entrenamiento y prueba\n",
    "X_train, X_test, y_train, y_test = train_test_split(X, y,\n",
    "                                                  test_size = 0.2,\n",
    "                                                  random_state=42)"
   ]
  },
  {
   "cell_type": "code",
   "execution_count": 21,
   "id": "6d4938f7",
   "metadata": {},
   "outputs": [],
   "source": [
    "#Procedemos a escalar los datos para que no haya favoritismo por una variable mas grande\n",
    "#escalamos\n",
    "from sklearn import preprocessing\n",
    "X_train = preprocessing.scale(X_train)\n",
    "X_test = preprocessing.scale(X_test)#si quedan feos, con y_train"
   ]
  },
  {
   "cell_type": "code",
   "execution_count": 43,
   "id": "ca4511b8",
   "metadata": {},
   "outputs": [],
   "source": [
    "#Guardar el método de escalamiento para aplicarlo después a los datos nuevos a predecir\n",
    "from sklearn.preprocessing import StandardScaler\n",
    "scaler = StandardScaler().fit(X_train)"
   ]
  },
  {
   "cell_type": "code",
   "execution_count": 22,
   "id": "7db2dc02",
   "metadata": {},
   "outputs": [],
   "source": [
    "#Configurar los folds que vamos a usar para todos los modelos\n",
    "n_folds = 5\n",
    "seed = 7\n",
    "scoring = 'accuracy' #usamos el error cuadrático medio como medida de performance\n",
    "kfold = KFold(n_splits=n_folds, random_state=seed, shuffle=True)"
   ]
  },
  {
   "cell_type": "markdown",
   "id": "d373e44d",
   "metadata": {},
   "source": [
    "# Regresion Logistica"
   ]
  },
  {
   "cell_type": "code",
   "execution_count": 23,
   "id": "d83b086e",
   "metadata": {},
   "outputs": [
    {
     "name": "stdout",
     "output_type": "stream",
     "text": [
      "accuracy train 0.8100340136054422\n",
      "precision Train 0.822711038961039\n",
      "recall Train 0.8442905563347359\n"
     ]
    }
   ],
   "source": [
    "from sklearn.linear_model import LogisticRegression\n",
    "#Inicializar objeto\n",
    "logreg = LogisticRegression(max_iter=100)\n",
    "\n",
    "#Hacer el cross validation y probar con el train\n",
    "accu_log= (cross_val_score(logreg, X_train,y_train, cv=kfold,  scoring='accuracy')).mean()\n",
    "prec_log= (cross_val_score(logreg, X_train,y_train, cv=kfold,  scoring='precision')).mean()\n",
    "reca_log= (cross_val_score(logreg, X_train,y_train, cv=kfold,  scoring='recall')).mean()\n",
    "\n",
    "#Performance en el train\n",
    "print(\"accuracy train\", accu_log)\n",
    "print(\"precision Train\", prec_log)\n",
    "print(\"recall Train\", reca_log)"
   ]
  },
  {
   "cell_type": "markdown",
   "id": "c892535e",
   "metadata": {},
   "source": [
    "AL parecer a nuestro modelo le fue muy bien durante el curso o el entrenamiento para prepararse para el examen o el test"
   ]
  },
  {
   "cell_type": "code",
   "execution_count": 24,
   "id": "ef1e34c1",
   "metadata": {},
   "outputs": [
    {
     "name": "stdout",
     "output_type": "stream",
     "text": [
      "Accuracy\t Precision\t Recall\n",
      " 0.885\t 0.879\t 0.906\n"
     ]
    }
   ],
   "source": [
    "#Entrenar el modelo\n",
    "logreg.fit(X_train, y_train)\n",
    "\n",
    "#Predecir con los datos del test\n",
    "y_pred_logreg = logreg.predict(X_test)\n",
    "\n",
    "#Evaluacion del modelo\n",
    "\n",
    "#Accuracy\n",
    "accu_log = accuracy_score(y_test, y_pred_logreg)\n",
    "#Precision\n",
    "prec_log = precision_score(y_test, y_pred_logreg)\n",
    "#Recall\n",
    "reca_log = recall_score(y_test, y_pred_logreg)\n",
    "\n",
    "print('Accuracy\\t Precision\\t Recall\\n %0.3f\\t %0.3f\\t %0.3f'%(accu_log,prec_log,reca_log))"
   ]
  },
  {
   "cell_type": "markdown",
   "id": "4abcfce2",
   "metadata": {},
   "source": [
    "A nuestro modelo le fue bien en el examen o en el test ya que logro ajustarse bastante bien a los datos y tener buenas medidad de performance"
   ]
  },
  {
   "cell_type": "markdown",
   "id": "7a37139a",
   "metadata": {},
   "source": [
    "# Arbol de decision"
   ]
  },
  {
   "cell_type": "code",
   "execution_count": 25,
   "id": "1bf28ce9",
   "metadata": {},
   "outputs": [
    {
     "name": "stdout",
     "output_type": "stream",
     "text": [
      "{'max_depth': 3, 'min_samples_split': 4}\n"
     ]
    }
   ],
   "source": [
    "from sklearn.tree import DecisionTreeClassifier\n",
    "#Usando cross validation y grid search\n",
    "dt = DecisionTreeClassifier()\n",
    "\n",
    "#Grid search para optimizar hiperparámetros\n",
    "gs = GridSearchCV(dt,\n",
    "                  param_grid = {'max_depth': range(1, 5),\n",
    "                                'min_samples_split': range(2, 10, 1)},\n",
    "                  cv=kfold)\n",
    "\n",
    "#entreno el modelo\n",
    "gs.fit(X_train, y_train)\n",
    "\n",
    "#hiperparametros optimos\n",
    "print(gs.best_params_)"
   ]
  },
  {
   "cell_type": "code",
   "execution_count": 26,
   "id": "84232435",
   "metadata": {},
   "outputs": [
    {
     "name": "stdout",
     "output_type": "stream",
     "text": [
      "Accuracy\t Precision\t Recall\n",
      " 0.765\t 0.759\t 0.828\n"
     ]
    }
   ],
   "source": [
    "from sklearn.tree import DecisionTreeClassifier\n",
    "dt_new = DecisionTreeClassifier(max_depth=3, min_samples_split=5)\n",
    "dt_new.fit(X_train, y_train)\n",
    "\n",
    "#Hacer el cross validation y probar con el train\n",
    "accuracy_tree= (cross_val_score(dt_new, X_train,y_train, cv=kfold,  scoring='accuracy')).mean()\n",
    "precision_tree= (cross_val_score(dt_new, X_train,y_train, cv=kfold,  scoring='precision')).mean()\n",
    "recall_tree= (cross_val_score(dt_new, X_train,y_train, cv=kfold,  scoring='recall')).mean()\n",
    "\n",
    "print('Accuracy\\t Precision\\t Recall\\n %0.3f\\t %0.3f\\t %0.3f'%(accuracy_tree,precision_tree,recall_tree))"
   ]
  },
  {
   "cell_type": "markdown",
   "id": "9b7b3691",
   "metadata": {},
   "source": [
    "En el momento del train vemos que le costo un poco el adaptarse a la informacion y nos dio medidas de performance, no bajas pero si pueden mejorar, ahora veamos que tal le fue en el test"
   ]
  },
  {
   "cell_type": "code",
   "execution_count": 27,
   "id": "a8ed1aa9",
   "metadata": {},
   "outputs": [
    {
     "name": "stdout",
     "output_type": "stream",
     "text": [
      "Accuracy\t Precision\t Recall\n",
      " 0.820\t 0.818\t 0.844\n"
     ]
    }
   ],
   "source": [
    "#performance en el test\n",
    "y_pred_dt = dt_new.predict(X_test)\n",
    "\n",
    "#Accuracy\n",
    "accu_dt = accuracy_score(y_test, y_pred_dt)\n",
    "#Precision\n",
    "prec_dt = precision_score(y_test, y_pred_dt)\n",
    "#Recall\n",
    "reca_dt = recall_score(y_test, y_pred_dt)\n",
    "\n",
    "print('Accuracy\\t Precision\\t Recall\\n %0.3f\\t %0.3f\\t %0.3f'%(accu_dt,prec_dt,reca_dt))"
   ]
  },
  {
   "cell_type": "markdown",
   "id": "6b34f7b5",
   "metadata": {},
   "source": [
    "Efectivamente para el test mejoro bastante nuesto modelo y aprendio mejor de estos datos, aunque puede mejorar y vemos que este no ha sido el modelo que mas se ajusta a nuestros datos por el momento"
   ]
  },
  {
   "cell_type": "markdown",
   "id": "f125c469",
   "metadata": {},
   "source": [
    "# Random forest"
   ]
  },
  {
   "cell_type": "code",
   "execution_count": 28,
   "id": "3ee8db9b",
   "metadata": {},
   "outputs": [
    {
     "name": "stdout",
     "output_type": "stream",
     "text": [
      "{'max_depth': 3, 'min_samples_split': 2, 'n_estimators': 10}\n"
     ]
    }
   ],
   "source": [
    "from sklearn.ensemble import RandomForestClassifier\n",
    "#Inicializo modelo\n",
    "model = RandomForestClassifier(min_samples_leaf=2,\n",
    "                               criterion='gini',\n",
    "                               bootstrap=True,\n",
    "                               oob_score=False,\n",
    "                               random_state=0)\n",
    "\n",
    "#Grid search para optimizar hiperparámetros\n",
    "gs = GridSearchCV(model,\n",
    "                  param_grid = {'max_depth': range(1, 5), #profundidad del árbol\n",
    "                                'min_samples_split': range(2, 10, 2), #mínimo numero de observaciones\n",
    "                                'n_estimators': [2, 5, 10] #número de árboles\n",
    "                                }, \n",
    "                  cv=kfold,\n",
    "                  verbose=0)\n",
    "\n",
    "#Entreno el modelo\n",
    "gs.fit(X_train, y_train)\n",
    "\n",
    "#hiperparametros optimos\n",
    "print(gs.best_params_)"
   ]
  },
  {
   "cell_type": "code",
   "execution_count": 29,
   "id": "c534eb80",
   "metadata": {},
   "outputs": [
    {
     "name": "stdout",
     "output_type": "stream",
     "text": [
      "accuracy train 0.8227040816326531\n",
      "precision Train 0.8055260180995475\n",
      "recall Train 0.8858374240299204\n"
     ]
    }
   ],
   "source": [
    "from sklearn.ensemble import RandomForestClassifier\n",
    "new_model_RF = RandomForestClassifier(n_estimators=10,#número de árboles\n",
    "                               criterion='gini',\n",
    "                               max_depth=3,\n",
    "                               min_samples_split=2,\n",
    "                               min_samples_leaf=2,\n",
    "                               bootstrap=True,\n",
    "                               oob_score=False,\n",
    "                               random_state=0,\n",
    "                               verbose=0)\n",
    "\n",
    "\n",
    "#Ajustar modelo a datos de entrenamiento\n",
    "new_model_RF.fit(X_train, y_train)\n",
    "\n",
    "#Hacer el cross validation y probar con el train\n",
    "accuracy_rf= (cross_val_score(new_model_RF, X_train,y_train, cv=kfold,  scoring='accuracy')).mean()\n",
    "precision_rf= (cross_val_score(new_model_RF, X_train,y_train, cv=kfold,  scoring='precision')).mean()\n",
    "recall_rf= (cross_val_score(new_model_RF, X_train,y_train, cv=kfold,  scoring='recall')).mean()\n",
    "\n",
    "#Performance en el train\n",
    "print(\"accuracy train\", accuracy_rf)\n",
    "print(\"precision Train\", precision_rf)\n",
    "print(\"recall Train\", recall_rf)"
   ]
  },
  {
   "cell_type": "markdown",
   "id": "9e625d36",
   "metadata": {},
   "source": [
    "En este modelo aprendio bien, se supo ajustar a los datos y dio buenas medidas"
   ]
  },
  {
   "cell_type": "code",
   "execution_count": 30,
   "id": "152fb1d0",
   "metadata": {},
   "outputs": [
    {
     "name": "stdout",
     "output_type": "stream",
     "text": [
      "Accuracy\t Precision\t Recall\n",
      " 0.902\t 0.882\t 0.938\n"
     ]
    }
   ],
   "source": [
    "# Evaluacion del modelo\n",
    "yhat = new_model_RF.predict(X_test)\n",
    "accu_rf  = accuracy_score(y_test,yhat)\n",
    "prec_rf = precision_score(y_test,yhat)\n",
    "reca_rf = recall_score(y_test,yhat)\n",
    "print('Accuracy\\t Precision\\t Recall\\n %0.3f\\t %0.3f\\t %0.3f'%(accu_rf,prec_rf,reca_rf))"
   ]
  },
  {
   "cell_type": "markdown",
   "id": "4949759e",
   "metadata": {},
   "source": [
    "Que bonitos performance, se adapto muyb bien a los datos y supo como interpretarlos dando medidad de performance muy elevadas, pero no tanto para pensar en un sobre ajuste"
   ]
  },
  {
   "cell_type": "markdown",
   "id": "909948dc",
   "metadata": {},
   "source": [
    "# XGBoost"
   ]
  },
  {
   "cell_type": "code",
   "execution_count": 31,
   "id": "d5f87471",
   "metadata": {},
   "outputs": [
    {
     "name": "stderr",
     "output_type": "stream",
     "text": [
      "C:\\Users\\gerar\\OneDrive\\Documentos\\Curso de prgoramacion de datos\\lib\\site-packages\\xgboost\\sklearn.py:835: UserWarning: `eval_metric` in `fit` method is deprecated for better compatibility with scikit-learn, use `eval_metric` in constructor or`set_params` instead.\n",
      "  warnings.warn(\n",
      "C:\\Users\\gerar\\OneDrive\\Documentos\\Curso de prgoramacion de datos\\lib\\site-packages\\xgboost\\sklearn.py:835: UserWarning: `early_stopping_rounds` in `fit` method is deprecated for better compatibility with scikit-learn, use `early_stopping_rounds` in constructor or`set_params` instead.\n",
      "  warnings.warn(\n"
     ]
    },
    {
     "data": {
      "text/plain": [
       "{'gamma': 0.25,\n",
       " 'learning_rate': 0.5,\n",
       " 'max_depth': 4,\n",
       " 'reg_lambda': 20,\n",
       " 'scale_pos_weight': 3}"
      ]
     },
     "execution_count": 31,
     "metadata": {},
     "output_type": "execute_result"
    }
   ],
   "source": [
    "#inicializar objeto de clasificación\n",
    "modelo_xgb = xgb.XGBClassifier(objective='binary:logistic', missing=1, seed=42)\n",
    "\n",
    "#buscar hiperparámetros óptimos\n",
    "param_grid={\n",
    "    'max_depth':[4],\n",
    "    'learning_rate':[0.1,0.5,1],\n",
    "    'gamma':[0.25],\n",
    "    'reg_lambda':[10,20,100],\n",
    "    'scale_pos_weight':[3]\n",
    "}\n",
    "\n",
    "optimal_params = GridSearchCV(\n",
    "                            estimator=xgb.XGBClassifier(objective='binary:logistic',\n",
    "                            seed=42,\n",
    "                            subsample=0.9,\n",
    "                            colsample_bytree=0.5),\n",
    "                            param_grid=param_grid,\n",
    "                            scoring='roc_auc',\n",
    "                            verbose=0,\n",
    "                            n_jobs=10,\n",
    "                            cv=3)\n",
    "\n",
    "optimal_params.fit(X_train, y_train,\n",
    "                  early_stopping_rounds=10,\n",
    "                  eval_metric='auc',\n",
    "                  eval_set=[(X_test, y_test)],\n",
    "                  verbose=False)\n",
    "optimal_params.best_params_"
   ]
  },
  {
   "cell_type": "code",
   "execution_count": 32,
   "id": "d8c3f051",
   "metadata": {},
   "outputs": [
    {
     "name": "stdout",
     "output_type": "stream",
     "text": [
      "[16:11:40] WARNING: C:/buildkite-agent/builds/buildkite-windows-cpu-autoscaling-group-i-0fc7796c793e6356f-1/xgboost/xgboost-ci-windows/src/learner.cc:767: \n",
      "Parameters: { \"learn_rate\" } are not used.\n",
      "\n"
     ]
    },
    {
     "data": {
      "text/plain": [
       "XGBClassifier(base_score=None, booster=None, callbacks=None,\n",
       "              colsample_bylevel=None, colsample_bynode=None,\n",
       "              colsample_bytree=0.5, early_stopping_rounds=None,\n",
       "              enable_categorical=False, eval_metric=None, feature_types=None,\n",
       "              gamma=0.25, gpu_id=None, grow_policy=None, importance_type=None,\n",
       "              interaction_constraints=None, learn_rate=0.5, learning_rate=None,\n",
       "              max_bin=None, max_cat_threshold=None, max_cat_to_onehot=None,\n",
       "              max_delta_step=None, max_depth=4, max_leaves=None,\n",
       "              min_child_weight=None, missing=nan, monotone_constraints=None,\n",
       "              n_estimators=100, n_jobs=None, num_parallel_tree=None,\n",
       "              predictor=None, ...)"
      ]
     },
     "execution_count": 32,
     "metadata": {},
     "output_type": "execute_result"
    }
   ],
   "source": [
    "#Construir y evaluar el XGBoost con los hiperparámetros óptimos\n",
    "modelo = xgb.XGBClassifier(objective='binary:logistic',\n",
    "                            seed=42,\n",
    "                           gamma=0.25,\n",
    "                           learn_rate=0.5,\n",
    "                           max_depth=4,\n",
    "                           reg_lambda=20,\n",
    "                           scale_pos_weight=3,\n",
    "                            subsample=0.9,\n",
    "                            colsample_bytree=0.5)\n",
    "\n",
    "modelo.fit(X_train, y_train,\n",
    "                  early_stopping_rounds=10,\n",
    "                  eval_metric='auc',\n",
    "                  eval_set=[(X_test, y_test)],\n",
    "                  verbose=False)"
   ]
  },
  {
   "cell_type": "code",
   "execution_count": 33,
   "id": "27a4c350",
   "metadata": {},
   "outputs": [
    {
     "name": "stdout",
     "output_type": "stream",
     "text": [
      "Accuracy\t Precision\t Recall\n",
      " 0.852\t 0.855\t 0.852\n"
     ]
    }
   ],
   "source": [
    "#Predecir con datos del test\n",
    "Yhat_xgb = modelo.predict(X_test)\n",
    "\n",
    "# Evaluacion del modelo en test\n",
    "accu_xgb = accuracy_score(y_test,Yhat_xgb)\n",
    "prec_xgb = precision_score(y_test,Yhat_xgb,average='weighted')\n",
    "reca_xgb = recall_score(y_test,Yhat_xgb,average='weighted')\n",
    "print('Accuracy\\t Precision\\t Recall\\n %0.3f\\t %0.3f\\t %0.3f'%(accu_xgb,prec_xgb,reca_xgb))\n"
   ]
  },
  {
   "cell_type": "markdown",
   "id": "dfc9ac6c",
   "metadata": {},
   "source": [
    "El XBOOST pudo encontrar bien lineas de patron para aprender de los datos y crear un buen resultado al momento de evaluarlo."
   ]
  },
  {
   "cell_type": "markdown",
   "id": "79c8fd81",
   "metadata": {},
   "source": [
    "# Llego el momento de la verdad, el ver que modelo se ajusta mejor a los datos y tiene mejores medidad de performance"
   ]
  },
  {
   "cell_type": "code",
   "execution_count": 34,
   "id": "b2860dd4",
   "metadata": {},
   "outputs": [
    {
     "data": {
      "text/html": [
       "<div>\n",
       "<style scoped>\n",
       "    .dataframe tbody tr th:only-of-type {\n",
       "        vertical-align: middle;\n",
       "    }\n",
       "\n",
       "    .dataframe tbody tr th {\n",
       "        vertical-align: top;\n",
       "    }\n",
       "\n",
       "    .dataframe thead th {\n",
       "        text-align: right;\n",
       "    }\n",
       "</style>\n",
       "<table border=\"1\" class=\"dataframe\">\n",
       "  <thead>\n",
       "    <tr style=\"text-align: right;\">\n",
       "      <th></th>\n",
       "      <th>Modelo</th>\n",
       "      <th>Accuracy</th>\n",
       "      <th>Precision</th>\n",
       "      <th>Recall</th>\n",
       "    </tr>\n",
       "  </thead>\n",
       "  <tbody>\n",
       "    <tr>\n",
       "      <th>0</th>\n",
       "      <td>LR</td>\n",
       "      <td>0.885246</td>\n",
       "      <td>0.878788</td>\n",
       "      <td>0.906250</td>\n",
       "    </tr>\n",
       "    <tr>\n",
       "      <th>1</th>\n",
       "      <td>RF</td>\n",
       "      <td>0.901639</td>\n",
       "      <td>0.882353</td>\n",
       "      <td>0.937500</td>\n",
       "    </tr>\n",
       "    <tr>\n",
       "      <th>2</th>\n",
       "      <td>XGBoost</td>\n",
       "      <td>0.852459</td>\n",
       "      <td>0.855215</td>\n",
       "      <td>0.852459</td>\n",
       "    </tr>\n",
       "    <tr>\n",
       "      <th>3</th>\n",
       "      <td>Tree</td>\n",
       "      <td>0.819672</td>\n",
       "      <td>0.818182</td>\n",
       "      <td>0.843750</td>\n",
       "    </tr>\n",
       "  </tbody>\n",
       "</table>\n",
       "</div>"
      ],
      "text/plain": [
       "     Modelo  Accuracy  Precision    Recall\n",
       "0        LR  0.885246   0.878788  0.906250\n",
       "1        RF  0.901639   0.882353  0.937500\n",
       "2   XGBoost  0.852459   0.855215  0.852459\n",
       "3      Tree  0.819672   0.818182  0.843750"
      ]
     },
     "execution_count": 34,
     "metadata": {},
     "output_type": "execute_result"
    }
   ],
   "source": [
    "data_compar = {'Modelo': ['LR','RF',' XGBoost', 'Tree'], 'Accuracy': [accu_log , accu_rf, accu_xgb ,accu_dt], 'Precision': [prec_log,prec_rf ,prec_xgb,prec_dt], 'Recall': [reca_log,reca_rf,reca_xgb ,reca_dt]} \n",
    "data_compar = pd.DataFrame(data_compar)\n",
    "data_compar"
   ]
  },
  {
   "cell_type": "markdown",
   "id": "ca529f91",
   "metadata": {},
   "source": [
    "Y el ganador y modelo que mejor se adapto a nuestros datos fue el Random Forest"
   ]
  },
  {
   "cell_type": "markdown",
   "id": "1738f3e3",
   "metadata": {},
   "source": [
    "# Ahora ya que sabemos que el RF fue el modelo que mejor se ajusto a nuestros datos es momento de ver que tan bien funciona para predecir"
   ]
  },
  {
   "cell_type": "code",
   "execution_count": 51,
   "id": "8e013710",
   "metadata": {},
   "outputs": [
    {
     "data": {
      "text/html": [
       "<div>\n",
       "<style scoped>\n",
       "    .dataframe tbody tr th:only-of-type {\n",
       "        vertical-align: middle;\n",
       "    }\n",
       "\n",
       "    .dataframe tbody tr th {\n",
       "        vertical-align: top;\n",
       "    }\n",
       "\n",
       "    .dataframe thead th {\n",
       "        text-align: right;\n",
       "    }\n",
       "</style>\n",
       "<table border=\"1\" class=\"dataframe\">\n",
       "  <thead>\n",
       "    <tr style=\"text-align: right;\">\n",
       "      <th></th>\n",
       "      <th>age</th>\n",
       "      <th>sex</th>\n",
       "      <th>cp</th>\n",
       "      <th>trtbps</th>\n",
       "      <th>chol</th>\n",
       "      <th>fbs</th>\n",
       "      <th>restecg</th>\n",
       "      <th>thalachh</th>\n",
       "      <th>exng</th>\n",
       "      <th>oldpeak</th>\n",
       "      <th>slp</th>\n",
       "      <th>caa</th>\n",
       "      <th>thall</th>\n",
       "    </tr>\n",
       "  </thead>\n",
       "  <tbody>\n",
       "    <tr>\n",
       "      <th>0</th>\n",
       "      <td>63</td>\n",
       "      <td>1</td>\n",
       "      <td>3</td>\n",
       "      <td>145</td>\n",
       "      <td>233</td>\n",
       "      <td>1</td>\n",
       "      <td>0</td>\n",
       "      <td>150</td>\n",
       "      <td>0</td>\n",
       "      <td>2.3</td>\n",
       "      <td>0</td>\n",
       "      <td>0</td>\n",
       "      <td>0</td>\n",
       "    </tr>\n",
       "  </tbody>\n",
       "</table>\n",
       "</div>"
      ],
      "text/plain": [
       "   age  sex  cp  trtbps  chol  fbs  restecg  thalachh  exng  oldpeak  slp  \\\n",
       "0   63    1   3     145   233    1        0       150     0      2.3    0   \n",
       "\n",
       "   caa  thall  \n",
       "0    0      0  "
      ]
     },
     "execution_count": 51,
     "metadata": {},
     "output_type": "execute_result"
    }
   ],
   "source": [
    "#crear nuevos datos\n",
    "X_new  = pd.DataFrame([[63,1,3,145,233,1,0,150,0,2.3,0,0,0]], columns=['age','sex','cp','trtbps','chol',\n",
    "                                                                       'fbs','restecg','thalachh','exng','oldpeak',\n",
    "                                                                       'slp','caa','thall'])\n",
    "\n",
    "X_new"
   ]
  },
  {
   "cell_type": "code",
   "execution_count": 52,
   "id": "f4c63c37",
   "metadata": {},
   "outputs": [],
   "source": [
    "#Predicciones con datos escalados\n",
    "X_new_scaled = scaler.fit_transform(X_new)\n",
    "ynew = new_model_RF.predict(X_new_scaled)"
   ]
  },
  {
   "cell_type": "code",
   "execution_count": 53,
   "id": "f2e59e5d",
   "metadata": {},
   "outputs": [
    {
     "name": "stdout",
     "output_type": "stream",
     "text": [
      "La persona entra en la categoria de: [1]\n"
     ]
    }
   ],
   "source": [
    "print('La persona entra en la categoria de:', ynew)"
   ]
  },
  {
   "cell_type": "markdown",
   "id": "32b61a6d",
   "metadata": {},
   "source": [
    "Vemos que nuestro modelo aprendio muy bien y es optimo para clasificar"
   ]
  }
 ],
 "metadata": {
  "kernelspec": {
   "display_name": "Python 3 (ipykernel)",
   "language": "python",
   "name": "python3"
  },
  "language_info": {
   "codemirror_mode": {
    "name": "ipython",
    "version": 3
   },
   "file_extension": ".py",
   "mimetype": "text/x-python",
   "name": "python",
   "nbconvert_exporter": "python",
   "pygments_lexer": "ipython3",
   "version": "3.9.12"
  }
 },
 "nbformat": 4,
 "nbformat_minor": 5
}
