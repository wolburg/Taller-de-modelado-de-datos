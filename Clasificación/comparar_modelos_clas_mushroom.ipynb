{
 "cells": [
  {
   "cell_type": "markdown",
   "metadata": {},
   "source": [
    "___\n",
    "<img style=\"float: right; margin: 0px 0px 15px 15px;\" src=\"https://machinelearningmastery.com/wp-content/uploads/2016/03/Compare-Machine-Learning-Algorithms.png\" width=\"350px\" height=\"180px\" />\n",
    "\n",
    "\n",
    "# <font color= #8A0829> Laboratorio de Modelado de Datos </font>\n",
    "#### <font color= #2E9AFE> `Martes y Viernes (Videoconferencia) de 13:00 - 15:00 hrs`</font>\n",
    "- <Strong> Sara Eugenia Rodríguez </Strong>\n",
    "- <Strong> Año </Strong>: 2023\n",
    "- <Strong> Email: </Strong>  <font color=\"blue\"> `cd682324@iteso.mx` </font>\n",
    "___\n",
    "\n",
    "\n",
    "### <font color= #2E9AFE> Tema: Comparación de modelos de Clasificación</font>"
   ]
  },
  {
   "cell_type": "markdown",
   "metadata": {},
   "source": [
    "Una vez que aprendimos a crear los modelos de machine learning ¿qué hacemos con ellos?\n",
    "\n",
    "Comparar varios modelos de machine learning para problemas de clasificación es necesario para poder encontrar cuál de todos los modelos es el más eficiente y tiene los resultados más precisos. \n",
    "\n",
    "Hay muchos criterios para comparar los modelos. \n",
    "\n",
    "Recordando que si la **variable de respuesta es categórica** entonces, este es un problema de **clasificación** y tenemos que usar modelos de clasificación para estimar los valores predichos. \n",
    "\n",
    "Como vimos, hay muchos modelos de clasificación candidatos. Nuestra tarea es encontrar el que sirva a nuestro propósito.\n",
    "\n",
    "Vamos a comparar los siguientes modelos:\n",
    "- Regresión logístcia\n",
    "- Árbol de decisión\n",
    "- Bosques Aleatorios\n",
    "- XGBoost\n",
    "- SVC\n",
    "- Redes Neuronales\n",
    "\n",
    "Vamos a utilizar varias métricas para comparar los modelos."
   ]
  },
  {
   "cell_type": "markdown",
   "metadata": {},
   "source": [
    "### Métricas de Performance (Clasificación)\n",
    "\n",
    "\n",
    "**Matriz de confusión**\n",
    "\n",
    "Las métricas de performance de evaluación se basan en el número total de las siguientes variables:\n",
    "\n",
    "- True Positives (Verdaderos positivos): Salidas predecidas correctamente como la clase positiva\n",
    "- True Negatives (Verdaderos negativos): Salidas predecidas correctamente como la clase negativa\n",
    "- False Positives (Falsos positivos): Salidas predecidas incorrectamente como la clase positiva\n",
    "- False Negatives (Falsos negativos): Salidas predecidas incorrectamente como la clase negativa\n",
    " \n",
    " Que se observa en la siguiente matriz (matriz de confusión): \n",
    " \n",
    " <img style=\"float: center; margin: 0px 0px 15px 15px;\" src=\"data:image/png;base64,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\" width=\"350px\" height=\"180px\" />\n",
    " \n",
    "Existen varias métricas de performance que se usan para evaluar qué tan efectivo es un modelo: \n",
    "\n",
    "**Accuracy**\n",
    "\n",
    "$$Accuracy = \\frac{TP+TN}{TP+TN+FP+FN}$$\n",
    "\n",
    "*¿Qué hace?*\n",
    "- Medida de cuántas observaciones nuestro modelo predijo correctamente sobre el número total de observaciones. \n",
    "\n",
    "**Precision**\n",
    "\n",
    "$$Precision = \\frac{TP}{TP+FP}$$\n",
    "\n",
    "*¿Qué hace?*\n",
    "- Mide cuántas observaciones nuestro modelo predijo correctamente sobre el número de predicciones correctas e incorrectas. \n",
    "\n",
    "\n",
    "**Recall (Sensitivity)**\n",
    "\n",
    "$$Recall = \\frac{TP}{TP+FN}$$\n",
    "\n",
    "*¿Qué hace?*\n",
    "- Mide cuántas observaciones nuestro modelo predijo correctamente sobre el número total de observaciones. \n",
    "\n",
    "     \n",
    " **F1-Score**\n",
    " \n",
    " $$F1 Score=\\frac{2*Recall*Precision}{Recall+Precision}$$\n",
    " \n",
    " *¿Qué hace?*\n",
    "- Es un balance entre el precisión y recall\n",
    "\n",
    "**¿Cuál elegir?**\n",
    "\n",
    "- Si tenemos datos balanceados, el Accuracy podría ser la métrica más apropiada para usar. \n",
    "\n",
    "- Si estuviéramos tratando de detectar si una manzana está envenenada, el objetivo es reducir el número de Falsos Negativos, porque esperamos no equivocarnos clasificando manzanas que están envenenadas. En este caso el **Recall** sería la mejor métrica de evaluación. \n",
    "\n",
    "- Si estamos tratando de predecir si es buena idea invertir en una acción de la bolsa, esperaríamos que nuestro modelo sea bueno. EN este caso el **Precision** sería la mejor métricca de evaluación ya que mide qué tan \"correcto\" es el modelo. \n",
    "\n",
    "- Si buscamos maximizar tanto el precision como el recall, entonces el F1 Score es la mejor métrica de evaluación. "
   ]
  },
  {
   "cell_type": "markdown",
   "metadata": {},
   "source": [
    "### Los Datos\n",
    "\n",
    "En este proyecto, examinaremos los datos y construiremos diferentes modelos que detectarán si un hongo es comestible o venenoso según sus especificaciones, como la forma del sombrero, el color del sombrero, el color de las branquias, etc. utilizando diferentes clasificadores.\n",
    "\n",
    "El conjunto de datos utilizado en este proyecto es https://www.kaggle.com/uciml/mushroom-classification que contiene 8124 instancias de hongos con 23 características como forma de sombrero, superficie de sombrero, color de sombrero, magulladuras, olor, etc.\n",
    "\n",
    "\n",
    "La variable a predecir es \"classes\": edible=e, poisonous=p\n",
    "\n",
    "- cap-shape: bell=b,conical=c,convex=x,flat=f, knobbed=k,sunken=s\n",
    "\n",
    "- cap-surface: fibrous=f,grooves=g,scaly=y,smooth=s\n",
    "\n",
    "- cap-color: brown=n,buff=b,cinnamon=c,gray=g,green=r,pink=p,purple=u,red=e,white=w,yellow=y\n",
    "\n",
    "- bruises: bruises=t,no=f\n",
    "\n",
    "- odor: almond=a,anise=l,creosote=c,fishy=y,foul=f,musty=m,none=n,pungent=p,spicy=s\n",
    "\n",
    "- gill-attachment: attached=a,descending=d,free=f,notched=n\n",
    "\n",
    "- gill-spacing: close=c,crowded=w,distant=d\n",
    "\n",
    "- gill-size: broad=b,narrow=n\n",
    "\n",
    "- gill-color: black=k,brown=n,buff=b,chocolate=h,gray=g, green=r,orange=o,pink=p,purple=u,red=e,white=w,yellow=y\n",
    "\n",
    "- stalk-shape: enlarging=e,tapering=t\n",
    "\n",
    "- stalk-root: bulbous=b,club=c,cup=u,equal=e,rhizomorphs=z,rooted=r,missing=?\n",
    "\n",
    "- stalk-surface-above-ring: fibrous=f,scaly=y,silky=k,smooth=s\n",
    "\n",
    "- stalk-surface-below-ring: fibrous=f,scaly=y,silky=k,smooth=s\n",
    "\n",
    "- stalk-color-above-ring: brown=n,buff=b,cinnamon=c,gray=g,orange=o,pink=p,red=e,white=w,yellow=y\n",
    "\n",
    "- stalk-color-below-ring: brown=n,buff=b,cinnamon=c,gray=g,orange=o,pink=p,red=e,white=w,yellow=y\n",
    "\n",
    "- veil-type: partial=p,universal=u\n",
    "\n",
    "- veil-color: brown=n,orange=o,white=w,yellow=y\n",
    "\n",
    "- ring-number: none=n,one=o,two=t\n",
    "\n",
    "- ring-type: cobwebby=c,evanescent=e,flaring=f,large=l,none=n,pendant=p,sheathing=s,zone=z\n",
    "\n",
    "- spore-print-color: black=k,brown=n,buff=b,chocolate=h,green=r,orange=o,purple=u,white=w,yellow=y\n",
    "\n",
    "- population: abundant=a,clustered=c,numerous=n,scattered=s,several=v,solitary=y\n",
    "\n",
    "- habitat: grasses=g,leaves=l,meadows=m,paths=p,urban=u,waste=w,woods=d\n"
   ]
  },
  {
   "cell_type": "code",
   "execution_count": 2,
   "metadata": {},
   "outputs": [],
   "source": [
    "#Librerías\n",
    "import numpy as np \n",
    "import pandas as pd \n",
    "import seaborn as sns \n",
    "import matplotlib.pyplot as plt \n",
    "import os\n",
    "import graphviz\n",
    "from sklearn.model_selection import train_test_split, KFold, cross_val_score\n",
    "from sklearn.preprocessing import LabelEncoder\n",
    "from sklearn.tree import DecisionTreeClassifier, export_graphviz\n",
    "from sklearn.metrics import classification_report, confusion_matrix, precision_recall_curve, accuracy_score, roc_curve,precision_score,recall_score, f1_score\n",
    "import xgboost as xgb\n",
    "from sklearn.model_selection import GridSearchCV"
   ]
  },
  {
   "cell_type": "code",
   "execution_count": 4,
   "metadata": {},
   "outputs": [],
   "source": [
    "#cargar datos\n",
    "datos = pd.read_csv('mushrooms.csv')\n"
   ]
  },
  {
   "cell_type": "code",
   "execution_count": 5,
   "metadata": {},
   "outputs": [
    {
     "data": {
      "text/html": [
       "<div>\n",
       "<style scoped>\n",
       "    .dataframe tbody tr th:only-of-type {\n",
       "        vertical-align: middle;\n",
       "    }\n",
       "\n",
       "    .dataframe tbody tr th {\n",
       "        vertical-align: top;\n",
       "    }\n",
       "\n",
       "    .dataframe thead th {\n",
       "        text-align: right;\n",
       "    }\n",
       "</style>\n",
       "<table border=\"1\" class=\"dataframe\">\n",
       "  <thead>\n",
       "    <tr style=\"text-align: right;\">\n",
       "      <th></th>\n",
       "      <th>class</th>\n",
       "      <th>cap-shape</th>\n",
       "      <th>cap-surface</th>\n",
       "      <th>cap-color</th>\n",
       "      <th>bruises</th>\n",
       "      <th>odor</th>\n",
       "      <th>gill-attachment</th>\n",
       "      <th>gill-spacing</th>\n",
       "      <th>gill-size</th>\n",
       "      <th>gill-color</th>\n",
       "      <th>...</th>\n",
       "      <th>stalk-surface-below-ring</th>\n",
       "      <th>stalk-color-above-ring</th>\n",
       "      <th>stalk-color-below-ring</th>\n",
       "      <th>veil-type</th>\n",
       "      <th>veil-color</th>\n",
       "      <th>ring-number</th>\n",
       "      <th>ring-type</th>\n",
       "      <th>spore-print-color</th>\n",
       "      <th>population</th>\n",
       "      <th>habitat</th>\n",
       "    </tr>\n",
       "  </thead>\n",
       "  <tbody>\n",
       "    <tr>\n",
       "      <th>0</th>\n",
       "      <td>p</td>\n",
       "      <td>x</td>\n",
       "      <td>s</td>\n",
       "      <td>n</td>\n",
       "      <td>t</td>\n",
       "      <td>p</td>\n",
       "      <td>f</td>\n",
       "      <td>c</td>\n",
       "      <td>n</td>\n",
       "      <td>k</td>\n",
       "      <td>...</td>\n",
       "      <td>s</td>\n",
       "      <td>w</td>\n",
       "      <td>w</td>\n",
       "      <td>p</td>\n",
       "      <td>w</td>\n",
       "      <td>o</td>\n",
       "      <td>p</td>\n",
       "      <td>k</td>\n",
       "      <td>s</td>\n",
       "      <td>u</td>\n",
       "    </tr>\n",
       "    <tr>\n",
       "      <th>1</th>\n",
       "      <td>e</td>\n",
       "      <td>x</td>\n",
       "      <td>s</td>\n",
       "      <td>y</td>\n",
       "      <td>t</td>\n",
       "      <td>a</td>\n",
       "      <td>f</td>\n",
       "      <td>c</td>\n",
       "      <td>b</td>\n",
       "      <td>k</td>\n",
       "      <td>...</td>\n",
       "      <td>s</td>\n",
       "      <td>w</td>\n",
       "      <td>w</td>\n",
       "      <td>p</td>\n",
       "      <td>w</td>\n",
       "      <td>o</td>\n",
       "      <td>p</td>\n",
       "      <td>n</td>\n",
       "      <td>n</td>\n",
       "      <td>g</td>\n",
       "    </tr>\n",
       "    <tr>\n",
       "      <th>2</th>\n",
       "      <td>e</td>\n",
       "      <td>b</td>\n",
       "      <td>s</td>\n",
       "      <td>w</td>\n",
       "      <td>t</td>\n",
       "      <td>l</td>\n",
       "      <td>f</td>\n",
       "      <td>c</td>\n",
       "      <td>b</td>\n",
       "      <td>n</td>\n",
       "      <td>...</td>\n",
       "      <td>s</td>\n",
       "      <td>w</td>\n",
       "      <td>w</td>\n",
       "      <td>p</td>\n",
       "      <td>w</td>\n",
       "      <td>o</td>\n",
       "      <td>p</td>\n",
       "      <td>n</td>\n",
       "      <td>n</td>\n",
       "      <td>m</td>\n",
       "    </tr>\n",
       "    <tr>\n",
       "      <th>3</th>\n",
       "      <td>p</td>\n",
       "      <td>x</td>\n",
       "      <td>y</td>\n",
       "      <td>w</td>\n",
       "      <td>t</td>\n",
       "      <td>p</td>\n",
       "      <td>f</td>\n",
       "      <td>c</td>\n",
       "      <td>n</td>\n",
       "      <td>n</td>\n",
       "      <td>...</td>\n",
       "      <td>s</td>\n",
       "      <td>w</td>\n",
       "      <td>w</td>\n",
       "      <td>p</td>\n",
       "      <td>w</td>\n",
       "      <td>o</td>\n",
       "      <td>p</td>\n",
       "      <td>k</td>\n",
       "      <td>s</td>\n",
       "      <td>u</td>\n",
       "    </tr>\n",
       "    <tr>\n",
       "      <th>4</th>\n",
       "      <td>e</td>\n",
       "      <td>x</td>\n",
       "      <td>s</td>\n",
       "      <td>g</td>\n",
       "      <td>f</td>\n",
       "      <td>n</td>\n",
       "      <td>f</td>\n",
       "      <td>w</td>\n",
       "      <td>b</td>\n",
       "      <td>k</td>\n",
       "      <td>...</td>\n",
       "      <td>s</td>\n",
       "      <td>w</td>\n",
       "      <td>w</td>\n",
       "      <td>p</td>\n",
       "      <td>w</td>\n",
       "      <td>o</td>\n",
       "      <td>e</td>\n",
       "      <td>n</td>\n",
       "      <td>a</td>\n",
       "      <td>g</td>\n",
       "    </tr>\n",
       "  </tbody>\n",
       "</table>\n",
       "<p>5 rows × 23 columns</p>\n",
       "</div>"
      ],
      "text/plain": [
       "  class cap-shape cap-surface cap-color bruises odor gill-attachment  \\\n",
       "0     p         x           s         n       t    p               f   \n",
       "1     e         x           s         y       t    a               f   \n",
       "2     e         b           s         w       t    l               f   \n",
       "3     p         x           y         w       t    p               f   \n",
       "4     e         x           s         g       f    n               f   \n",
       "\n",
       "  gill-spacing gill-size gill-color  ... stalk-surface-below-ring  \\\n",
       "0            c         n          k  ...                        s   \n",
       "1            c         b          k  ...                        s   \n",
       "2            c         b          n  ...                        s   \n",
       "3            c         n          n  ...                        s   \n",
       "4            w         b          k  ...                        s   \n",
       "\n",
       "  stalk-color-above-ring stalk-color-below-ring veil-type veil-color  \\\n",
       "0                      w                      w         p          w   \n",
       "1                      w                      w         p          w   \n",
       "2                      w                      w         p          w   \n",
       "3                      w                      w         p          w   \n",
       "4                      w                      w         p          w   \n",
       "\n",
       "  ring-number ring-type spore-print-color population habitat  \n",
       "0           o         p                 k          s       u  \n",
       "1           o         p                 n          n       g  \n",
       "2           o         p                 n          n       m  \n",
       "3           o         p                 k          s       u  \n",
       "4           o         e                 n          a       g  \n",
       "\n",
       "[5 rows x 23 columns]"
      ]
     },
     "execution_count": 5,
     "metadata": {},
     "output_type": "execute_result"
    }
   ],
   "source": [
    "datos.head()"
   ]
  },
  {
   "cell_type": "code",
   "execution_count": 6,
   "metadata": {},
   "outputs": [
    {
     "data": {
      "text/plain": [
       "(8124, 23)"
      ]
     },
     "execution_count": 6,
     "metadata": {},
     "output_type": "execute_result"
    }
   ],
   "source": [
    "datos.shape"
   ]
  },
  {
   "cell_type": "markdown",
   "metadata": {},
   "source": [
    "### Exploración de datos"
   ]
  },
  {
   "cell_type": "code",
   "execution_count": 7,
   "metadata": {},
   "outputs": [
    {
     "data": {
      "text/html": [
       "<div>\n",
       "<style scoped>\n",
       "    .dataframe tbody tr th:only-of-type {\n",
       "        vertical-align: middle;\n",
       "    }\n",
       "\n",
       "    .dataframe tbody tr th {\n",
       "        vertical-align: top;\n",
       "    }\n",
       "\n",
       "    .dataframe thead th {\n",
       "        text-align: right;\n",
       "    }\n",
       "</style>\n",
       "<table border=\"1\" class=\"dataframe\">\n",
       "  <thead>\n",
       "    <tr style=\"text-align: right;\">\n",
       "      <th></th>\n",
       "      <th>Valores Nulos</th>\n",
       "      <th>Porcentaje</th>\n",
       "    </tr>\n",
       "  </thead>\n",
       "  <tbody>\n",
       "    <tr>\n",
       "      <th>class</th>\n",
       "      <td>0</td>\n",
       "      <td>0.0</td>\n",
       "    </tr>\n",
       "    <tr>\n",
       "      <th>cap-shape</th>\n",
       "      <td>0</td>\n",
       "      <td>0.0</td>\n",
       "    </tr>\n",
       "    <tr>\n",
       "      <th>cap-surface</th>\n",
       "      <td>0</td>\n",
       "      <td>0.0</td>\n",
       "    </tr>\n",
       "    <tr>\n",
       "      <th>cap-color</th>\n",
       "      <td>0</td>\n",
       "      <td>0.0</td>\n",
       "    </tr>\n",
       "    <tr>\n",
       "      <th>bruises</th>\n",
       "      <td>0</td>\n",
       "      <td>0.0</td>\n",
       "    </tr>\n",
       "    <tr>\n",
       "      <th>odor</th>\n",
       "      <td>0</td>\n",
       "      <td>0.0</td>\n",
       "    </tr>\n",
       "    <tr>\n",
       "      <th>gill-attachment</th>\n",
       "      <td>0</td>\n",
       "      <td>0.0</td>\n",
       "    </tr>\n",
       "    <tr>\n",
       "      <th>gill-spacing</th>\n",
       "      <td>0</td>\n",
       "      <td>0.0</td>\n",
       "    </tr>\n",
       "    <tr>\n",
       "      <th>gill-size</th>\n",
       "      <td>0</td>\n",
       "      <td>0.0</td>\n",
       "    </tr>\n",
       "    <tr>\n",
       "      <th>gill-color</th>\n",
       "      <td>0</td>\n",
       "      <td>0.0</td>\n",
       "    </tr>\n",
       "    <tr>\n",
       "      <th>stalk-shape</th>\n",
       "      <td>0</td>\n",
       "      <td>0.0</td>\n",
       "    </tr>\n",
       "    <tr>\n",
       "      <th>stalk-root</th>\n",
       "      <td>0</td>\n",
       "      <td>0.0</td>\n",
       "    </tr>\n",
       "    <tr>\n",
       "      <th>stalk-surface-above-ring</th>\n",
       "      <td>0</td>\n",
       "      <td>0.0</td>\n",
       "    </tr>\n",
       "    <tr>\n",
       "      <th>stalk-surface-below-ring</th>\n",
       "      <td>0</td>\n",
       "      <td>0.0</td>\n",
       "    </tr>\n",
       "    <tr>\n",
       "      <th>stalk-color-above-ring</th>\n",
       "      <td>0</td>\n",
       "      <td>0.0</td>\n",
       "    </tr>\n",
       "    <tr>\n",
       "      <th>stalk-color-below-ring</th>\n",
       "      <td>0</td>\n",
       "      <td>0.0</td>\n",
       "    </tr>\n",
       "    <tr>\n",
       "      <th>veil-type</th>\n",
       "      <td>0</td>\n",
       "      <td>0.0</td>\n",
       "    </tr>\n",
       "    <tr>\n",
       "      <th>veil-color</th>\n",
       "      <td>0</td>\n",
       "      <td>0.0</td>\n",
       "    </tr>\n",
       "    <tr>\n",
       "      <th>ring-number</th>\n",
       "      <td>0</td>\n",
       "      <td>0.0</td>\n",
       "    </tr>\n",
       "    <tr>\n",
       "      <th>ring-type</th>\n",
       "      <td>0</td>\n",
       "      <td>0.0</td>\n",
       "    </tr>\n",
       "    <tr>\n",
       "      <th>spore-print-color</th>\n",
       "      <td>0</td>\n",
       "      <td>0.0</td>\n",
       "    </tr>\n",
       "    <tr>\n",
       "      <th>population</th>\n",
       "      <td>0</td>\n",
       "      <td>0.0</td>\n",
       "    </tr>\n",
       "    <tr>\n",
       "      <th>habitat</th>\n",
       "      <td>0</td>\n",
       "      <td>0.0</td>\n",
       "    </tr>\n",
       "  </tbody>\n",
       "</table>\n",
       "</div>"
      ],
      "text/plain": [
       "                          Valores Nulos  Porcentaje\n",
       "class                                 0         0.0\n",
       "cap-shape                             0         0.0\n",
       "cap-surface                           0         0.0\n",
       "cap-color                             0         0.0\n",
       "bruises                               0         0.0\n",
       "odor                                  0         0.0\n",
       "gill-attachment                       0         0.0\n",
       "gill-spacing                          0         0.0\n",
       "gill-size                             0         0.0\n",
       "gill-color                            0         0.0\n",
       "stalk-shape                           0         0.0\n",
       "stalk-root                            0         0.0\n",
       "stalk-surface-above-ring              0         0.0\n",
       "stalk-surface-below-ring              0         0.0\n",
       "stalk-color-above-ring                0         0.0\n",
       "stalk-color-below-ring                0         0.0\n",
       "veil-type                             0         0.0\n",
       "veil-color                            0         0.0\n",
       "ring-number                           0         0.0\n",
       "ring-type                             0         0.0\n",
       "spore-print-color                     0         0.0\n",
       "population                            0         0.0\n",
       "habitat                               0         0.0"
      ]
     },
     "execution_count": 7,
     "metadata": {},
     "output_type": "execute_result"
    }
   ],
   "source": [
    "#Revisamos si hay datos nulos\n",
    "missing = pd.DataFrame(datos.isnull().sum(), columns=['Valores Nulos'])\n",
    "missing['Porcentaje'] = missing.div(datos.shape[0])*100\n",
    "missing"
   ]
  },
  {
   "cell_type": "markdown",
   "metadata": {},
   "source": [
    "No hay variables con datos nulos"
   ]
  },
  {
   "cell_type": "code",
   "execution_count": 8,
   "metadata": {},
   "outputs": [
    {
     "data": {
      "text/plain": [
       "class                       object\n",
       "cap-shape                   object\n",
       "cap-surface                 object\n",
       "cap-color                   object\n",
       "bruises                     object\n",
       "odor                        object\n",
       "gill-attachment             object\n",
       "gill-spacing                object\n",
       "gill-size                   object\n",
       "gill-color                  object\n",
       "stalk-shape                 object\n",
       "stalk-root                  object\n",
       "stalk-surface-above-ring    object\n",
       "stalk-surface-below-ring    object\n",
       "stalk-color-above-ring      object\n",
       "stalk-color-below-ring      object\n",
       "veil-type                   object\n",
       "veil-color                  object\n",
       "ring-number                 object\n",
       "ring-type                   object\n",
       "spore-print-color           object\n",
       "population                  object\n",
       "habitat                     object\n",
       "dtype: object"
      ]
     },
     "execution_count": 8,
     "metadata": {},
     "output_type": "execute_result"
    }
   ],
   "source": [
    "datos.dtypes"
   ]
  },
  {
   "cell_type": "code",
   "execution_count": 9,
   "metadata": {},
   "outputs": [
    {
     "data": {
      "text/html": [
       "<div>\n",
       "<style scoped>\n",
       "    .dataframe tbody tr th:only-of-type {\n",
       "        vertical-align: middle;\n",
       "    }\n",
       "\n",
       "    .dataframe tbody tr th {\n",
       "        vertical-align: top;\n",
       "    }\n",
       "\n",
       "    .dataframe thead th {\n",
       "        text-align: right;\n",
       "    }\n",
       "</style>\n",
       "<table border=\"1\" class=\"dataframe\">\n",
       "  <thead>\n",
       "    <tr style=\"text-align: right;\">\n",
       "      <th></th>\n",
       "      <th>count</th>\n",
       "      <th>unique</th>\n",
       "      <th>top</th>\n",
       "      <th>freq</th>\n",
       "    </tr>\n",
       "  </thead>\n",
       "  <tbody>\n",
       "    <tr>\n",
       "      <th>class</th>\n",
       "      <td>8124</td>\n",
       "      <td>2</td>\n",
       "      <td>e</td>\n",
       "      <td>4208</td>\n",
       "    </tr>\n",
       "    <tr>\n",
       "      <th>cap-shape</th>\n",
       "      <td>8124</td>\n",
       "      <td>6</td>\n",
       "      <td>x</td>\n",
       "      <td>3656</td>\n",
       "    </tr>\n",
       "    <tr>\n",
       "      <th>cap-surface</th>\n",
       "      <td>8124</td>\n",
       "      <td>4</td>\n",
       "      <td>y</td>\n",
       "      <td>3244</td>\n",
       "    </tr>\n",
       "    <tr>\n",
       "      <th>cap-color</th>\n",
       "      <td>8124</td>\n",
       "      <td>10</td>\n",
       "      <td>n</td>\n",
       "      <td>2284</td>\n",
       "    </tr>\n",
       "    <tr>\n",
       "      <th>bruises</th>\n",
       "      <td>8124</td>\n",
       "      <td>2</td>\n",
       "      <td>f</td>\n",
       "      <td>4748</td>\n",
       "    </tr>\n",
       "    <tr>\n",
       "      <th>odor</th>\n",
       "      <td>8124</td>\n",
       "      <td>9</td>\n",
       "      <td>n</td>\n",
       "      <td>3528</td>\n",
       "    </tr>\n",
       "    <tr>\n",
       "      <th>gill-attachment</th>\n",
       "      <td>8124</td>\n",
       "      <td>2</td>\n",
       "      <td>f</td>\n",
       "      <td>7914</td>\n",
       "    </tr>\n",
       "    <tr>\n",
       "      <th>gill-spacing</th>\n",
       "      <td>8124</td>\n",
       "      <td>2</td>\n",
       "      <td>c</td>\n",
       "      <td>6812</td>\n",
       "    </tr>\n",
       "    <tr>\n",
       "      <th>gill-size</th>\n",
       "      <td>8124</td>\n",
       "      <td>2</td>\n",
       "      <td>b</td>\n",
       "      <td>5612</td>\n",
       "    </tr>\n",
       "    <tr>\n",
       "      <th>gill-color</th>\n",
       "      <td>8124</td>\n",
       "      <td>12</td>\n",
       "      <td>b</td>\n",
       "      <td>1728</td>\n",
       "    </tr>\n",
       "    <tr>\n",
       "      <th>stalk-shape</th>\n",
       "      <td>8124</td>\n",
       "      <td>2</td>\n",
       "      <td>t</td>\n",
       "      <td>4608</td>\n",
       "    </tr>\n",
       "    <tr>\n",
       "      <th>stalk-root</th>\n",
       "      <td>8124</td>\n",
       "      <td>5</td>\n",
       "      <td>b</td>\n",
       "      <td>3776</td>\n",
       "    </tr>\n",
       "    <tr>\n",
       "      <th>stalk-surface-above-ring</th>\n",
       "      <td>8124</td>\n",
       "      <td>4</td>\n",
       "      <td>s</td>\n",
       "      <td>5176</td>\n",
       "    </tr>\n",
       "    <tr>\n",
       "      <th>stalk-surface-below-ring</th>\n",
       "      <td>8124</td>\n",
       "      <td>4</td>\n",
       "      <td>s</td>\n",
       "      <td>4936</td>\n",
       "    </tr>\n",
       "    <tr>\n",
       "      <th>stalk-color-above-ring</th>\n",
       "      <td>8124</td>\n",
       "      <td>9</td>\n",
       "      <td>w</td>\n",
       "      <td>4464</td>\n",
       "    </tr>\n",
       "    <tr>\n",
       "      <th>stalk-color-below-ring</th>\n",
       "      <td>8124</td>\n",
       "      <td>9</td>\n",
       "      <td>w</td>\n",
       "      <td>4384</td>\n",
       "    </tr>\n",
       "    <tr>\n",
       "      <th>veil-type</th>\n",
       "      <td>8124</td>\n",
       "      <td>1</td>\n",
       "      <td>p</td>\n",
       "      <td>8124</td>\n",
       "    </tr>\n",
       "    <tr>\n",
       "      <th>veil-color</th>\n",
       "      <td>8124</td>\n",
       "      <td>4</td>\n",
       "      <td>w</td>\n",
       "      <td>7924</td>\n",
       "    </tr>\n",
       "    <tr>\n",
       "      <th>ring-number</th>\n",
       "      <td>8124</td>\n",
       "      <td>3</td>\n",
       "      <td>o</td>\n",
       "      <td>7488</td>\n",
       "    </tr>\n",
       "    <tr>\n",
       "      <th>ring-type</th>\n",
       "      <td>8124</td>\n",
       "      <td>5</td>\n",
       "      <td>p</td>\n",
       "      <td>3968</td>\n",
       "    </tr>\n",
       "    <tr>\n",
       "      <th>spore-print-color</th>\n",
       "      <td>8124</td>\n",
       "      <td>9</td>\n",
       "      <td>w</td>\n",
       "      <td>2388</td>\n",
       "    </tr>\n",
       "    <tr>\n",
       "      <th>population</th>\n",
       "      <td>8124</td>\n",
       "      <td>6</td>\n",
       "      <td>v</td>\n",
       "      <td>4040</td>\n",
       "    </tr>\n",
       "    <tr>\n",
       "      <th>habitat</th>\n",
       "      <td>8124</td>\n",
       "      <td>7</td>\n",
       "      <td>d</td>\n",
       "      <td>3148</td>\n",
       "    </tr>\n",
       "  </tbody>\n",
       "</table>\n",
       "</div>"
      ],
      "text/plain": [
       "                         count unique top  freq\n",
       "class                     8124      2   e  4208\n",
       "cap-shape                 8124      6   x  3656\n",
       "cap-surface               8124      4   y  3244\n",
       "cap-color                 8124     10   n  2284\n",
       "bruises                   8124      2   f  4748\n",
       "odor                      8124      9   n  3528\n",
       "gill-attachment           8124      2   f  7914\n",
       "gill-spacing              8124      2   c  6812\n",
       "gill-size                 8124      2   b  5612\n",
       "gill-color                8124     12   b  1728\n",
       "stalk-shape               8124      2   t  4608\n",
       "stalk-root                8124      5   b  3776\n",
       "stalk-surface-above-ring  8124      4   s  5176\n",
       "stalk-surface-below-ring  8124      4   s  4936\n",
       "stalk-color-above-ring    8124      9   w  4464\n",
       "stalk-color-below-ring    8124      9   w  4384\n",
       "veil-type                 8124      1   p  8124\n",
       "veil-color                8124      4   w  7924\n",
       "ring-number               8124      3   o  7488\n",
       "ring-type                 8124      5   p  3968\n",
       "spore-print-color         8124      9   w  2388\n",
       "population                8124      6   v  4040\n",
       "habitat                   8124      7   d  3148"
      ]
     },
     "execution_count": 9,
     "metadata": {},
     "output_type": "execute_result"
    }
   ],
   "source": [
    "#Calculando estadísticas básicas con los datos\n",
    "datos_stats = datos.describe()\n",
    "datos_stats = datos_stats.transpose()\n",
    "datos_stats"
   ]
  },
  {
   "cell_type": "code",
   "execution_count": 10,
   "metadata": {},
   "outputs": [
    {
     "data": {
      "text/plain": [
       "p    8124\n",
       "Name: veil-type, dtype: int64"
      ]
     },
     "execution_count": 10,
     "metadata": {},
     "output_type": "execute_result"
    }
   ],
   "source": [
    "#la variable de veil-type parece ser que sólo tiene un tipo de valor, la quitamos?\n",
    "#Se elimina por falta de variabilidad\n",
    "datos['veil-type'].value_counts()"
   ]
  },
  {
   "cell_type": "code",
   "execution_count": 11,
   "metadata": {},
   "outputs": [],
   "source": [
    "datos.drop('veil-type', axis=1, inplace=True)"
   ]
  },
  {
   "cell_type": "code",
   "execution_count": 12,
   "metadata": {},
   "outputs": [
    {
     "name": "stderr",
     "output_type": "stream",
     "text": [
      "C:\\Users\\gerar\\OneDrive\\Documentos\\Curso de prgoramacion de datos\\lib\\site-packages\\seaborn\\_decorators.py:36: FutureWarning: Pass the following variables as keyword args: x, y. From version 0.12, the only valid positional argument will be `data`, and passing other arguments without an explicit keyword will result in an error or misinterpretation.\n",
      "  warnings.warn(\n"
     ]
    },
    {
     "data": {
      "image/png": "[encoded data removed]",
      "text/plain": [
       "<Figure size 576x504 with 1 Axes>"
      ]
     },
     "metadata": {
      "needs_background": "light"
     },
     "output_type": "display_data"
    }
   ],
   "source": [
    "#distribucion variable salida\n",
    "count = datos['class'].value_counts()\n",
    "plt.figure(figsize=(8,7))\n",
    "sns.barplot(count.index, count.values, alpha=0.8)\n",
    "plt.ylabel('Cuenta', fontsize=12)\n",
    "plt.xlabel('Clase', fontsize=12)\n",
    "plt.title('Numero de hongos venenosos/comestibles mushrooms')\n",
    "plt.show()"
   ]
  },
  {
   "cell_type": "code",
   "execution_count": 13,
   "metadata": {},
   "outputs": [],
   "source": [
    "#no vamos a hacer one hot encoding porque hay muchas clases, mejor haremos label encoding \n",
    "labelencoder=LabelEncoder()\n",
    "for column in datos.columns:\n",
    "    datos[column] = labelencoder.fit_transform(datos[column])"
   ]
  },
  {
   "cell_type": "code",
   "execution_count": 14,
   "metadata": {},
   "outputs": [
    {
     "data": {
      "text/html": [
       "<div>\n",
       "<style scoped>\n",
       "    .dataframe tbody tr th:only-of-type {\n",
       "        vertical-align: middle;\n",
       "    }\n",
       "\n",
       "    .dataframe tbody tr th {\n",
       "        vertical-align: top;\n",
       "    }\n",
       "\n",
       "    .dataframe thead th {\n",
       "        text-align: right;\n",
       "    }\n",
       "</style>\n",
       "<table border=\"1\" class=\"dataframe\">\n",
       "  <thead>\n",
       "    <tr style=\"text-align: right;\">\n",
       "      <th></th>\n",
       "      <th>class</th>\n",
       "      <th>cap-shape</th>\n",
       "      <th>cap-surface</th>\n",
       "      <th>cap-color</th>\n",
       "      <th>bruises</th>\n",
       "      <th>odor</th>\n",
       "      <th>gill-attachment</th>\n",
       "      <th>gill-spacing</th>\n",
       "      <th>gill-size</th>\n",
       "      <th>gill-color</th>\n",
       "      <th>...</th>\n",
       "      <th>stalk-surface-above-ring</th>\n",
       "      <th>stalk-surface-below-ring</th>\n",
       "      <th>stalk-color-above-ring</th>\n",
       "      <th>stalk-color-below-ring</th>\n",
       "      <th>veil-color</th>\n",
       "      <th>ring-number</th>\n",
       "      <th>ring-type</th>\n",
       "      <th>spore-print-color</th>\n",
       "      <th>population</th>\n",
       "      <th>habitat</th>\n",
       "    </tr>\n",
       "  </thead>\n",
       "  <tbody>\n",
       "    <tr>\n",
       "      <th>0</th>\n",
       "      <td>1</td>\n",
       "      <td>5</td>\n",
       "      <td>2</td>\n",
       "      <td>4</td>\n",
       "      <td>1</td>\n",
       "      <td>6</td>\n",
       "      <td>1</td>\n",
       "      <td>0</td>\n",
       "      <td>1</td>\n",
       "      <td>4</td>\n",
       "      <td>...</td>\n",
       "      <td>2</td>\n",
       "      <td>2</td>\n",
       "      <td>7</td>\n",
       "      <td>7</td>\n",
       "      <td>2</td>\n",
       "      <td>1</td>\n",
       "      <td>4</td>\n",
       "      <td>2</td>\n",
       "      <td>3</td>\n",
       "      <td>5</td>\n",
       "    </tr>\n",
       "    <tr>\n",
       "      <th>1</th>\n",
       "      <td>0</td>\n",
       "      <td>5</td>\n",
       "      <td>2</td>\n",
       "      <td>9</td>\n",
       "      <td>1</td>\n",
       "      <td>0</td>\n",
       "      <td>1</td>\n",
       "      <td>0</td>\n",
       "      <td>0</td>\n",
       "      <td>4</td>\n",
       "      <td>...</td>\n",
       "      <td>2</td>\n",
       "      <td>2</td>\n",
       "      <td>7</td>\n",
       "      <td>7</td>\n",
       "      <td>2</td>\n",
       "      <td>1</td>\n",
       "      <td>4</td>\n",
       "      <td>3</td>\n",
       "      <td>2</td>\n",
       "      <td>1</td>\n",
       "    </tr>\n",
       "    <tr>\n",
       "      <th>2</th>\n",
       "      <td>0</td>\n",
       "      <td>0</td>\n",
       "      <td>2</td>\n",
       "      <td>8</td>\n",
       "      <td>1</td>\n",
       "      <td>3</td>\n",
       "      <td>1</td>\n",
       "      <td>0</td>\n",
       "      <td>0</td>\n",
       "      <td>5</td>\n",
       "      <td>...</td>\n",
       "      <td>2</td>\n",
       "      <td>2</td>\n",
       "      <td>7</td>\n",
       "      <td>7</td>\n",
       "      <td>2</td>\n",
       "      <td>1</td>\n",
       "      <td>4</td>\n",
       "      <td>3</td>\n",
       "      <td>2</td>\n",
       "      <td>3</td>\n",
       "    </tr>\n",
       "    <tr>\n",
       "      <th>3</th>\n",
       "      <td>1</td>\n",
       "      <td>5</td>\n",
       "      <td>3</td>\n",
       "      <td>8</td>\n",
       "      <td>1</td>\n",
       "      <td>6</td>\n",
       "      <td>1</td>\n",
       "      <td>0</td>\n",
       "      <td>1</td>\n",
       "      <td>5</td>\n",
       "      <td>...</td>\n",
       "      <td>2</td>\n",
       "      <td>2</td>\n",
       "      <td>7</td>\n",
       "      <td>7</td>\n",
       "      <td>2</td>\n",
       "      <td>1</td>\n",
       "      <td>4</td>\n",
       "      <td>2</td>\n",
       "      <td>3</td>\n",
       "      <td>5</td>\n",
       "    </tr>\n",
       "    <tr>\n",
       "      <th>4</th>\n",
       "      <td>0</td>\n",
       "      <td>5</td>\n",
       "      <td>2</td>\n",
       "      <td>3</td>\n",
       "      <td>0</td>\n",
       "      <td>5</td>\n",
       "      <td>1</td>\n",
       "      <td>1</td>\n",
       "      <td>0</td>\n",
       "      <td>4</td>\n",
       "      <td>...</td>\n",
       "      <td>2</td>\n",
       "      <td>2</td>\n",
       "      <td>7</td>\n",
       "      <td>7</td>\n",
       "      <td>2</td>\n",
       "      <td>1</td>\n",
       "      <td>0</td>\n",
       "      <td>3</td>\n",
       "      <td>0</td>\n",
       "      <td>1</td>\n",
       "    </tr>\n",
       "  </tbody>\n",
       "</table>\n",
       "<p>5 rows × 22 columns</p>\n",
       "</div>"
      ],
      "text/plain": [
       "   class  cap-shape  cap-surface  cap-color  bruises  odor  gill-attachment  \\\n",
       "0      1          5            2          4        1     6                1   \n",
       "1      0          5            2          9        1     0                1   \n",
       "2      0          0            2          8        1     3                1   \n",
       "3      1          5            3          8        1     6                1   \n",
       "4      0          5            2          3        0     5                1   \n",
       "\n",
       "   gill-spacing  gill-size  gill-color  ...  stalk-surface-above-ring  \\\n",
       "0             0          1           4  ...                         2   \n",
       "1             0          0           4  ...                         2   \n",
       "2             0          0           5  ...                         2   \n",
       "3             0          1           5  ...                         2   \n",
       "4             1          0           4  ...                         2   \n",
       "\n",
       "   stalk-surface-below-ring  stalk-color-above-ring  stalk-color-below-ring  \\\n",
       "0                         2                       7                       7   \n",
       "1                         2                       7                       7   \n",
       "2                         2                       7                       7   \n",
       "3                         2                       7                       7   \n",
       "4                         2                       7                       7   \n",
       "\n",
       "   veil-color  ring-number  ring-type  spore-print-color  population  habitat  \n",
       "0           2            1          4                  2           3        5  \n",
       "1           2            1          4                  3           2        1  \n",
       "2           2            1          4                  3           2        3  \n",
       "3           2            1          4                  2           3        5  \n",
       "4           2            1          0                  3           0        1  \n",
       "\n",
       "[5 rows x 22 columns]"
      ]
     },
     "execution_count": 14,
     "metadata": {},
     "output_type": "execute_result"
    }
   ],
   "source": [
    "datos.head()"
   ]
  },
  {
   "cell_type": "markdown",
   "metadata": {},
   "source": [
    "### Gráficos"
   ]
  },
  {
   "cell_type": "code",
   "execution_count": 15,
   "metadata": {},
   "outputs": [
    {
     "data": {
      "text/plain": [
       "<AxesSubplot:xlabel='cap-shape'>"
      ]
     },
     "execution_count": 15,
     "metadata": {},
     "output_type": "execute_result"
    },
    {
     "data": {
      "image/png": "[encoded data removed]",
      "text/plain": [
       "<Figure size 432x288 with 1 Axes>"
      ]
     },
     "metadata": {
      "needs_background": "light"
     },
     "output_type": "display_data"
    }
   ],
   "source": [
    "#Analizar variable Y vs cap-shape\n",
    "table=pd.crosstab(datos['cap-shape'],datos['class'])\n",
    "table.div(table.sum(1).astype(float), axis=0).plot(kind='bar', stacked=True)\n"
   ]
  },
  {
   "cell_type": "markdown",
   "metadata": {},
   "source": [
    "Parece que la variable cap shape sí es buen predictor"
   ]
  },
  {
   "cell_type": "code",
   "execution_count": 16,
   "metadata": {},
   "outputs": [
    {
     "data": {
      "text/plain": [
       "<AxesSubplot:xlabel='cap-surface'>"
      ]
     },
     "execution_count": 16,
     "metadata": {},
     "output_type": "execute_result"
    },
    {
     "data": {
      "image/png": "[encoded data removed]",
      "text/plain": [
       "<Figure size 432x288 with 1 Axes>"
      ]
     },
     "metadata": {
      "needs_background": "light"
     },
     "output_type": "display_data"
    }
   ],
   "source": [
    "#Analizar variable Y vs cap-surface\n",
    "table=pd.crosstab(datos['cap-surface'],datos['class'])\n",
    "table.div(table.sum(1).astype(float), axis=0).plot(kind='bar', stacked=True)\n"
   ]
  },
  {
   "cell_type": "markdown",
   "metadata": {},
   "source": [
    "Parece que la variable cap surface sí es buen predictor"
   ]
  },
  {
   "cell_type": "code",
   "execution_count": 17,
   "metadata": {},
   "outputs": [
    {
     "data": {
      "text/plain": [
       "<AxesSubplot:xlabel='gill-color'>"
      ]
     },
     "execution_count": 17,
     "metadata": {},
     "output_type": "execute_result"
    },
    {
     "data": {
      "image/png": "[encoded data removed]",
      "text/plain": [
       "<Figure size 432x288 with 1 Axes>"
      ]
     },
     "metadata": {
      "needs_background": "light"
     },
     "output_type": "display_data"
    }
   ],
   "source": [
    "#Analizar variable Y vs gill-color\n",
    "table=pd.crosstab(datos['gill-color'],datos['class'])\n",
    "table.div(table.sum(1).astype(float), axis=0).plot(kind='bar', stacked=True)"
   ]
  },
  {
   "cell_type": "markdown",
   "metadata": {},
   "source": [
    "Parece que la variable gill color sí es buen predictor"
   ]
  },
  {
   "cell_type": "code",
   "execution_count": 18,
   "metadata": {},
   "outputs": [
    {
     "data": {
      "text/plain": [
       "(array([ 0.5,  1.5,  2.5,  3.5,  4.5,  5.5,  6.5,  7.5,  8.5,  9.5, 10.5,\n",
       "        11.5, 12.5, 13.5, 14.5, 15.5, 16.5, 17.5, 18.5, 19.5, 20.5, 21.5]),\n",
       " [Text(0, 0.5, 'class'),\n",
       "  Text(0, 1.5, 'cap-shape'),\n",
       "  Text(0, 2.5, 'cap-surface'),\n",
       "  Text(0, 3.5, 'cap-color'),\n",
       "  Text(0, 4.5, 'bruises'),\n",
       "  Text(0, 5.5, 'odor'),\n",
       "  Text(0, 6.5, 'gill-attachment'),\n",
       "  Text(0, 7.5, 'gill-spacing'),\n",
       "  Text(0, 8.5, 'gill-size'),\n",
       "  Text(0, 9.5, 'gill-color'),\n",
       "  Text(0, 10.5, 'stalk-shape'),\n",
       "  Text(0, 11.5, 'stalk-root'),\n",
       "  Text(0, 12.5, 'stalk-surface-above-ring'),\n",
       "  Text(0, 13.5, 'stalk-surface-below-ring'),\n",
       "  Text(0, 14.5, 'stalk-color-above-ring'),\n",
       "  Text(0, 15.5, 'stalk-color-below-ring'),\n",
       "  Text(0, 16.5, 'veil-color'),\n",
       "  Text(0, 17.5, 'ring-number'),\n",
       "  Text(0, 18.5, 'ring-type'),\n",
       "  Text(0, 19.5, 'spore-print-color'),\n",
       "  Text(0, 20.5, 'population'),\n",
       "  Text(0, 21.5, 'habitat')])"
      ]
     },
     "execution_count": 18,
     "metadata": {},
     "output_type": "execute_result"
    },
    {
     "data": {
      "image/png": "[encoded data removed]",
      "text/plain": [
       "<Figure size 1008x864 with 2 Axes>"
      ]
     },
     "metadata": {
      "needs_background": "light"
     },
     "output_type": "display_data"
    }
   ],
   "source": [
    "#correlaciones\n",
    "plt.figure(figsize=(14,12))\n",
    "sns.heatmap(datos.corr(),linewidths=.1,annot=True, annot_kws={\"size\": 7})\n",
    "plt.yticks(rotation=0)"
   ]
  },
  {
   "cell_type": "markdown",
   "metadata": {},
   "source": [
    "La variable con mayor correlación negativa con la variable a predecir es la de \"gill-color\", con una correlación de -0.53. "
   ]
  },
  {
   "cell_type": "code",
   "execution_count": 19,
   "metadata": {},
   "outputs": [
    {
     "data": {
      "text/html": [
       "<div>\n",
       "<style scoped>\n",
       "    .dataframe tbody tr th:only-of-type {\n",
       "        vertical-align: middle;\n",
       "    }\n",
       "\n",
       "    .dataframe tbody tr th {\n",
       "        vertical-align: top;\n",
       "    }\n",
       "\n",
       "    .dataframe thead th {\n",
       "        text-align: right;\n",
       "    }\n",
       "</style>\n",
       "<table border=\"1\" class=\"dataframe\">\n",
       "  <thead>\n",
       "    <tr style=\"text-align: right;\">\n",
       "      <th></th>\n",
       "      <th>gill-color</th>\n",
       "      <th>class</th>\n",
       "    </tr>\n",
       "  </thead>\n",
       "  <tbody>\n",
       "    <tr>\n",
       "      <th>0</th>\n",
       "      <td>0</td>\n",
       "      <td>1.000000</td>\n",
       "    </tr>\n",
       "    <tr>\n",
       "      <th>8</th>\n",
       "      <td>8</td>\n",
       "      <td>1.000000</td>\n",
       "    </tr>\n",
       "    <tr>\n",
       "      <th>3</th>\n",
       "      <td>3</td>\n",
       "      <td>0.721311</td>\n",
       "    </tr>\n",
       "    <tr>\n",
       "      <th>2</th>\n",
       "      <td>2</td>\n",
       "      <td>0.670213</td>\n",
       "    </tr>\n",
       "    <tr>\n",
       "      <th>7</th>\n",
       "      <td>7</td>\n",
       "      <td>0.428954</td>\n",
       "    </tr>\n",
       "    <tr>\n",
       "      <th>11</th>\n",
       "      <td>11</td>\n",
       "      <td>0.255814</td>\n",
       "    </tr>\n",
       "    <tr>\n",
       "      <th>10</th>\n",
       "      <td>10</td>\n",
       "      <td>0.204659</td>\n",
       "    </tr>\n",
       "    <tr>\n",
       "      <th>4</th>\n",
       "      <td>4</td>\n",
       "      <td>0.156863</td>\n",
       "    </tr>\n",
       "    <tr>\n",
       "      <th>5</th>\n",
       "      <td>5</td>\n",
       "      <td>0.106870</td>\n",
       "    </tr>\n",
       "    <tr>\n",
       "      <th>9</th>\n",
       "      <td>9</td>\n",
       "      <td>0.097561</td>\n",
       "    </tr>\n",
       "    <tr>\n",
       "      <th>1</th>\n",
       "      <td>1</td>\n",
       "      <td>0.000000</td>\n",
       "    </tr>\n",
       "    <tr>\n",
       "      <th>6</th>\n",
       "      <td>6</td>\n",
       "      <td>0.000000</td>\n",
       "    </tr>\n",
       "  </tbody>\n",
       "</table>\n",
       "</div>"
      ],
      "text/plain": [
       "    gill-color     class\n",
       "0            0  1.000000\n",
       "8            8  1.000000\n",
       "3            3  0.721311\n",
       "2            2  0.670213\n",
       "7            7  0.428954\n",
       "11          11  0.255814\n",
       "10          10  0.204659\n",
       "4            4  0.156863\n",
       "5            5  0.106870\n",
       "9            9  0.097561\n",
       "1            1  0.000000\n",
       "6            6  0.000000"
      ]
     },
     "execution_count": 19,
     "metadata": {},
     "output_type": "execute_result"
    }
   ],
   "source": [
    "#cuál es el promedio de clases por gill color\n",
    "datos[['class', 'gill-color']].groupby(['gill-color'], as_index=False).mean().sort_values(by='class', ascending=False)"
   ]
  },
  {
   "cell_type": "markdown",
   "metadata": {},
   "source": [
    "### Preparar datos para modelar"
   ]
  },
  {
   "cell_type": "code",
   "execution_count": 20,
   "metadata": {},
   "outputs": [],
   "source": [
    "#Separar X y Y\n",
    "X = datos.drop(columns='class', axis=1)\n",
    "y = datos['class']\n",
    "\n",
    "#Dividir datos en entrenamiento y prueba\n",
    "X_train, X_test, y_train, y_test = train_test_split(X, y,\n",
    "                                                  test_size = 0.2,\n",
    "                                                  random_state=42)\n"
   ]
  },
  {
   "cell_type": "markdown",
   "metadata": {},
   "source": [
    "### Cross Validation con optimización de hiperparámetros\n",
    "\n",
    "La idea es:\n",
    "1. dividir los datos en train y test\n",
    "2. entrenar múltiples modelos muestreando los datos de entrenamiento. \n",
    "3. Probar el modelo en el test set\n",
    "4. Seleccionar el modelo con nos dio la mejor calificación\n",
    "5. Hacer predicciones con el modelo ganador\n",
    "\n",
    "\n",
    "\n",
    "\n",
    "<img style=\"float: center; margin: 0px 0px 15px 15px;\" src=\"https://scikit-learn.org/stable/_images/grid_search_cross_validation.png\" width=\"450px\" height=\"280px\" />"
   ]
  },
  {
   "cell_type": "code",
   "execution_count": 21,
   "metadata": {},
   "outputs": [],
   "source": [
    "#Configurar los folds que vamos a usar para todos los modelos\n",
    "n_folds = 5\n",
    "seed = 7\n",
    "scoring = 'accuracy' #usamos el error cuadrático medio como medida de performance\n",
    "kfold = KFold(n_splits=n_folds, random_state=seed, shuffle=True)"
   ]
  },
  {
   "cell_type": "markdown",
   "metadata": {},
   "source": [
    "#### Logistic Regression"
   ]
  },
  {
   "cell_type": "code",
   "execution_count": 23,
   "metadata": {},
   "outputs": [
    {
     "name": "stderr",
     "output_type": "stream",
     "text": [
      "C:\\Users\\gerar\\OneDrive\\Documentos\\Curso de prgoramacion de datos\\lib\\site-packages\\sklearn\\linear_model\\_logistic.py:814: ConvergenceWarning: lbfgs failed to converge (status=1):\n",
      "STOP: TOTAL NO. of ITERATIONS REACHED LIMIT.\n",
      "\n",
      "Increase the number of iterations (max_iter) or scale the data as shown in:\n",
      "    https://scikit-learn.org/stable/modules/preprocessing.html\n",
      "Please also refer to the documentation for alternative solver options:\n",
      "    https://scikit-learn.org/stable/modules/linear_model.html#logistic-regression\n",
      "  n_iter_i = _check_optimize_result(\n",
      "C:\\Users\\gerar\\OneDrive\\Documentos\\Curso de prgoramacion de datos\\lib\\site-packages\\sklearn\\linear_model\\_logistic.py:814: ConvergenceWarning: lbfgs failed to converge (status=1):\n",
      "STOP: TOTAL NO. of ITERATIONS REACHED LIMIT.\n",
      "\n",
      "Increase the number of iterations (max_iter) or scale the data as shown in:\n",
      "    https://scikit-learn.org/stable/modules/preprocessing.html\n",
      "Please also refer to the documentation for alternative solver options:\n",
      "    https://scikit-learn.org/stable/modules/linear_model.html#logistic-regression\n",
      "  n_iter_i = _check_optimize_result(\n",
      "C:\\Users\\gerar\\OneDrive\\Documentos\\Curso de prgoramacion de datos\\lib\\site-packages\\sklearn\\linear_model\\_logistic.py:814: ConvergenceWarning: lbfgs failed to converge (status=1):\n",
      "STOP: TOTAL NO. of ITERATIONS REACHED LIMIT.\n",
      "\n",
      "Increase the number of iterations (max_iter) or scale the data as shown in:\n",
      "    https://scikit-learn.org/stable/modules/preprocessing.html\n",
      "Please also refer to the documentation for alternative solver options:\n",
      "    https://scikit-learn.org/stable/modules/linear_model.html#logistic-regression\n",
      "  n_iter_i = _check_optimize_result(\n",
      "C:\\Users\\gerar\\OneDrive\\Documentos\\Curso de prgoramacion de datos\\lib\\site-packages\\sklearn\\linear_model\\_logistic.py:814: ConvergenceWarning: lbfgs failed to converge (status=1):\n",
      "STOP: TOTAL NO. of ITERATIONS REACHED LIMIT.\n",
      "\n",
      "Increase the number of iterations (max_iter) or scale the data as shown in:\n",
      "    https://scikit-learn.org/stable/modules/preprocessing.html\n",
      "Please also refer to the documentation for alternative solver options:\n",
      "    https://scikit-learn.org/stable/modules/linear_model.html#logistic-regression\n",
      "  n_iter_i = _check_optimize_result(\n",
      "C:\\Users\\gerar\\OneDrive\\Documentos\\Curso de prgoramacion de datos\\lib\\site-packages\\sklearn\\linear_model\\_logistic.py:814: ConvergenceWarning: lbfgs failed to converge (status=1):\n",
      "STOP: TOTAL NO. of ITERATIONS REACHED LIMIT.\n",
      "\n",
      "Increase the number of iterations (max_iter) or scale the data as shown in:\n",
      "    https://scikit-learn.org/stable/modules/preprocessing.html\n",
      "Please also refer to the documentation for alternative solver options:\n",
      "    https://scikit-learn.org/stable/modules/linear_model.html#logistic-regression\n",
      "  n_iter_i = _check_optimize_result(\n",
      "C:\\Users\\gerar\\OneDrive\\Documentos\\Curso de prgoramacion de datos\\lib\\site-packages\\sklearn\\linear_model\\_logistic.py:814: ConvergenceWarning: lbfgs failed to converge (status=1):\n",
      "STOP: TOTAL NO. of ITERATIONS REACHED LIMIT.\n",
      "\n",
      "Increase the number of iterations (max_iter) or scale the data as shown in:\n",
      "    https://scikit-learn.org/stable/modules/preprocessing.html\n",
      "Please also refer to the documentation for alternative solver options:\n",
      "    https://scikit-learn.org/stable/modules/linear_model.html#logistic-regression\n",
      "  n_iter_i = _check_optimize_result(\n",
      "C:\\Users\\gerar\\OneDrive\\Documentos\\Curso de prgoramacion de datos\\lib\\site-packages\\sklearn\\linear_model\\_logistic.py:814: ConvergenceWarning: lbfgs failed to converge (status=1):\n",
      "STOP: TOTAL NO. of ITERATIONS REACHED LIMIT.\n",
      "\n",
      "Increase the number of iterations (max_iter) or scale the data as shown in:\n",
      "    https://scikit-learn.org/stable/modules/preprocessing.html\n",
      "Please also refer to the documentation for alternative solver options:\n",
      "    https://scikit-learn.org/stable/modules/linear_model.html#logistic-regression\n",
      "  n_iter_i = _check_optimize_result(\n",
      "C:\\Users\\gerar\\OneDrive\\Documentos\\Curso de prgoramacion de datos\\lib\\site-packages\\sklearn\\linear_model\\_logistic.py:814: ConvergenceWarning: lbfgs failed to converge (status=1):\n",
      "STOP: TOTAL NO. of ITERATIONS REACHED LIMIT.\n",
      "\n",
      "Increase the number of iterations (max_iter) or scale the data as shown in:\n",
      "    https://scikit-learn.org/stable/modules/preprocessing.html\n",
      "Please also refer to the documentation for alternative solver options:\n",
      "    https://scikit-learn.org/stable/modules/linear_model.html#logistic-regression\n",
      "  n_iter_i = _check_optimize_result(\n",
      "C:\\Users\\gerar\\OneDrive\\Documentos\\Curso de prgoramacion de datos\\lib\\site-packages\\sklearn\\linear_model\\_logistic.py:814: ConvergenceWarning: lbfgs failed to converge (status=1):\n",
      "STOP: TOTAL NO. of ITERATIONS REACHED LIMIT.\n",
      "\n",
      "Increase the number of iterations (max_iter) or scale the data as shown in:\n",
      "    https://scikit-learn.org/stable/modules/preprocessing.html\n",
      "Please also refer to the documentation for alternative solver options:\n",
      "    https://scikit-learn.org/stable/modules/linear_model.html#logistic-regression\n",
      "  n_iter_i = _check_optimize_result(\n",
      "C:\\Users\\gerar\\OneDrive\\Documentos\\Curso de prgoramacion de datos\\lib\\site-packages\\sklearn\\linear_model\\_logistic.py:814: ConvergenceWarning: lbfgs failed to converge (status=1):\n",
      "STOP: TOTAL NO. of ITERATIONS REACHED LIMIT.\n",
      "\n",
      "Increase the number of iterations (max_iter) or scale the data as shown in:\n",
      "    https://scikit-learn.org/stable/modules/preprocessing.html\n",
      "Please also refer to the documentation for alternative solver options:\n",
      "    https://scikit-learn.org/stable/modules/linear_model.html#logistic-regression\n",
      "  n_iter_i = _check_optimize_result(\n",
      "C:\\Users\\gerar\\OneDrive\\Documentos\\Curso de prgoramacion de datos\\lib\\site-packages\\sklearn\\linear_model\\_logistic.py:814: ConvergenceWarning: lbfgs failed to converge (status=1):\n",
      "STOP: TOTAL NO. of ITERATIONS REACHED LIMIT.\n",
      "\n",
      "Increase the number of iterations (max_iter) or scale the data as shown in:\n",
      "    https://scikit-learn.org/stable/modules/preprocessing.html\n",
      "Please also refer to the documentation for alternative solver options:\n",
      "    https://scikit-learn.org/stable/modules/linear_model.html#logistic-regression\n",
      "  n_iter_i = _check_optimize_result(\n",
      "C:\\Users\\gerar\\OneDrive\\Documentos\\Curso de prgoramacion de datos\\lib\\site-packages\\sklearn\\linear_model\\_logistic.py:814: ConvergenceWarning: lbfgs failed to converge (status=1):\n",
      "STOP: TOTAL NO. of ITERATIONS REACHED LIMIT.\n",
      "\n",
      "Increase the number of iterations (max_iter) or scale the data as shown in:\n",
      "    https://scikit-learn.org/stable/modules/preprocessing.html\n",
      "Please also refer to the documentation for alternative solver options:\n",
      "    https://scikit-learn.org/stable/modules/linear_model.html#logistic-regression\n",
      "  n_iter_i = _check_optimize_result(\n",
      "C:\\Users\\gerar\\OneDrive\\Documentos\\Curso de prgoramacion de datos\\lib\\site-packages\\sklearn\\linear_model\\_logistic.py:814: ConvergenceWarning: lbfgs failed to converge (status=1):\n",
      "STOP: TOTAL NO. of ITERATIONS REACHED LIMIT.\n",
      "\n",
      "Increase the number of iterations (max_iter) or scale the data as shown in:\n",
      "    https://scikit-learn.org/stable/modules/preprocessing.html\n",
      "Please also refer to the documentation for alternative solver options:\n",
      "    https://scikit-learn.org/stable/modules/linear_model.html#logistic-regression\n",
      "  n_iter_i = _check_optimize_result(\n",
      "C:\\Users\\gerar\\OneDrive\\Documentos\\Curso de prgoramacion de datos\\lib\\site-packages\\sklearn\\linear_model\\_logistic.py:814: ConvergenceWarning: lbfgs failed to converge (status=1):\n",
      "STOP: TOTAL NO. of ITERATIONS REACHED LIMIT.\n",
      "\n",
      "Increase the number of iterations (max_iter) or scale the data as shown in:\n",
      "    https://scikit-learn.org/stable/modules/preprocessing.html\n",
      "Please also refer to the documentation for alternative solver options:\n",
      "    https://scikit-learn.org/stable/modules/linear_model.html#logistic-regression\n",
      "  n_iter_i = _check_optimize_result(\n"
     ]
    },
    {
     "name": "stdout",
     "output_type": "stream",
     "text": [
      "accuracy train 0.9513782199324925\n",
      "precision Train 0.9574925841918352\n",
      "recall Train 0.9410876114151818\n"
     ]
    },
    {
     "name": "stderr",
     "output_type": "stream",
     "text": [
      "C:\\Users\\gerar\\OneDrive\\Documentos\\Curso de prgoramacion de datos\\lib\\site-packages\\sklearn\\linear_model\\_logistic.py:814: ConvergenceWarning: lbfgs failed to converge (status=1):\n",
      "STOP: TOTAL NO. of ITERATIONS REACHED LIMIT.\n",
      "\n",
      "Increase the number of iterations (max_iter) or scale the data as shown in:\n",
      "    https://scikit-learn.org/stable/modules/preprocessing.html\n",
      "Please also refer to the documentation for alternative solver options:\n",
      "    https://scikit-learn.org/stable/modules/linear_model.html#logistic-regression\n",
      "  n_iter_i = _check_optimize_result(\n"
     ]
    }
   ],
   "source": [
    "from sklearn.linear_model import LogisticRegression\n",
    "#Inicializar objeto\n",
    "logreg = LogisticRegression(max_iter=100)\n",
    "\n",
    "#Hacer el cross validation y probar con el train\n",
    "accu_log= (cross_val_score(logreg, X_train,y_train, cv=kfold,  scoring='accuracy')).mean()\n",
    "prec_log= (cross_val_score(logreg, X_train,y_train, cv=kfold,  scoring='precision')).mean()\n",
    "reca_log= (cross_val_score(logreg, X_train,y_train, cv=kfold,  scoring='recall')).mean()\n",
    "\n",
    "#Performance en el train\n",
    "print(\"accuracy train\", accu_log)\n",
    "print(\"precision Train\", prec_log)\n",
    "print(\"recall Train\", reca_log)"
   ]
  },
  {
   "cell_type": "code",
   "execution_count": 24,
   "metadata": {},
   "outputs": [
    {
     "name": "stdout",
     "output_type": "stream",
     "text": [
      "Accuracy\t Precision\t Recall\n",
      " 0.947\t 0.943\t 0.948\n"
     ]
    },
    {
     "name": "stderr",
     "output_type": "stream",
     "text": [
      "C:\\Users\\gerar\\OneDrive\\Documentos\\Curso de prgoramacion de datos\\lib\\site-packages\\sklearn\\linear_model\\_logistic.py:814: ConvergenceWarning: lbfgs failed to converge (status=1):\n",
      "STOP: TOTAL NO. of ITERATIONS REACHED LIMIT.\n",
      "\n",
      "Increase the number of iterations (max_iter) or scale the data as shown in:\n",
      "    https://scikit-learn.org/stable/modules/preprocessing.html\n",
      "Please also refer to the documentation for alternative solver options:\n",
      "    https://scikit-learn.org/stable/modules/linear_model.html#logistic-regression\n",
      "  n_iter_i = _check_optimize_result(\n"
     ]
    }
   ],
   "source": [
    "#Performance en el test\n",
    "#Entrenar el modelo\n",
    "logreg.fit(X_train, y_train)\n",
    "\n",
    "#Predecir con los datos del test\n",
    "y_pred_logreg = logreg.predict(X_test)\n",
    "\n",
    "#Evaluacion del modelo\n",
    "\n",
    "#Accuracy\n",
    "accu_log = accuracy_score(y_test, y_pred_logreg)\n",
    "#Precision\n",
    "prec_log = precision_score(y_test, y_pred_logreg)\n",
    "#Recall\n",
    "reca_log = recall_score(y_test, y_pred_logreg)\n",
    "\n",
    "print('Accuracy\\t Precision\\t Recall\\n %0.3f\\t %0.3f\\t %0.3f'%(accu_log,prec_log,reca_log))"
   ]
  },
  {
   "cell_type": "code",
   "execution_count": 25,
   "metadata": {},
   "outputs": [
    {
     "data": {
      "image/png": "[encoded data removed]",
      "text/plain": [
       "<Figure size 504x504 with 2 Axes>"
      ]
     },
     "metadata": {
      "needs_background": "light"
     },
     "output_type": "display_data"
    }
   ],
   "source": [
    "#matriz de confusion\n",
    "cm = confusion_matrix(y_test, y_pred_logreg)\n",
    "x_axis_labels = [\"Edible\", \"Poisonous\"]\n",
    "y_axis_labels = [\"Edible\", \"Poisonous\"]\n",
    "f, ax = plt.subplots(figsize =(7,7))\n",
    "sns.heatmap(cm, annot = True, linewidths=0.2, linecolor=\"black\", fmt = \".0f\", ax=ax, cmap=\"Purples\", xticklabels=x_axis_labels, yticklabels=y_axis_labels)\n",
    "plt.xlabel(\"PREDICTED LABEL\")\n",
    "plt.ylabel(\"TRUE LABEL\")\n",
    "plt.title('Confusion Matrix for Logistic Regression Classifier')\n",
    "plt.show()"
   ]
  },
  {
   "cell_type": "markdown",
   "metadata": {},
   "source": [
    "#### Arbol de Decision"
   ]
  },
  {
   "cell_type": "code",
   "execution_count": 26,
   "metadata": {},
   "outputs": [
    {
     "name": "stdout",
     "output_type": "stream",
     "text": [
      "{'max_depth': 4, 'min_samples_split': 2}\n"
     ]
    }
   ],
   "source": [
    "from sklearn.tree import DecisionTreeClassifier\n",
    "#Usando cross validation y grid search\n",
    "dt = DecisionTreeClassifier()\n",
    "\n",
    "#Grid search para optimizar hiperparámetros\n",
    "gs = GridSearchCV(dt,\n",
    "                  param_grid = {'max_depth': range(1, 5),\n",
    "                                'min_samples_split': range(2, 10, 1)},\n",
    "                  cv=kfold)\n",
    "\n",
    "#entreno el modelo\n",
    "gs.fit(X_train, y_train)\n",
    "\n",
    "#hiperparametros optimos\n",
    "print(gs.best_params_)"
   ]
  },
  {
   "cell_type": "code",
   "execution_count": 27,
   "metadata": {},
   "outputs": [
    {
     "name": "stdout",
     "output_type": "stream",
     "text": [
      "Accuracy\t Precision\t Recall\n",
      " 0.979\t 0.969\t 0.988\n"
     ]
    }
   ],
   "source": [
    "from sklearn.tree import DecisionTreeClassifier\n",
    "dt_new = DecisionTreeClassifier(max_depth=4, min_samples_split=2)\n",
    "dt_new.fit(X_train, y_train)\n",
    "\n",
    "#Hacer el cross validation y probar con el train\n",
    "accuracy_tree= (cross_val_score(dt_new, X_train,y_train, cv=kfold,  scoring='accuracy')).mean()\n",
    "precision_tree= (cross_val_score(dt_new, X_train,y_train, cv=kfold,  scoring='precision')).mean()\n",
    "recall_tree= (cross_val_score(dt_new, X_train,y_train, cv=kfold,  scoring='recall')).mean()\n",
    "\n",
    "print('Accuracy\\t Precision\\t Recall\\n %0.3f\\t %0.3f\\t %0.3f'%(accuracy_tree,precision_tree,recall_tree))"
   ]
  },
  {
   "cell_type": "code",
   "execution_count": 28,
   "metadata": {},
   "outputs": [
    {
     "name": "stdout",
     "output_type": "stream",
     "text": [
      "Accuracy\t Precision\t Recall\n",
      " 0.975\t 0.960\t 0.988\n"
     ]
    }
   ],
   "source": [
    "#performance en el test\n",
    "y_pred_dt = dt_new.predict(X_test)\n",
    "\n",
    "#Accuracy\n",
    "accu_dt = accuracy_score(y_test, y_pred_dt)\n",
    "#Precision\n",
    "prec_dt = precision_score(y_test, y_pred_dt)\n",
    "#Recall\n",
    "reca_dt = recall_score(y_test, y_pred_dt)\n",
    "\n",
    "print('Accuracy\\t Precision\\t Recall\\n %0.3f\\t %0.3f\\t %0.3f'%(accu_dt,prec_dt,reca_dt))"
   ]
  },
  {
   "cell_type": "code",
   "execution_count": 29,
   "metadata": {},
   "outputs": [
    {
     "data": {
      "image/png": "[encoded data removed]",
      "text/plain": [
       "<Figure size 576x504 with 1 Axes>"
      ]
     },
     "metadata": {
      "needs_background": "light"
     },
     "output_type": "display_data"
    }
   ],
   "source": [
    "#importancia de las variables\n",
    "features_list = X.columns.values\n",
    "feature_importance = dt_new.feature_importances_\n",
    "sorted_idx = np.argsort(feature_importance)\n",
    "plt.figure(figsize=(8,7))\n",
    "plt.barh(range(len(sorted_idx)), feature_importance[sorted_idx], align='center', color =\"red\")\n",
    "plt.yticks(range(len(sorted_idx)), features_list[sorted_idx])\n",
    "plt.xlabel('Importance')\n",
    "plt.title('Feature importance')\n",
    "plt.draw()\n",
    "plt.show()"
   ]
  },
  {
   "cell_type": "code",
   "execution_count": 30,
   "metadata": {},
   "outputs": [
    {
     "data": {
      "image/png": "[encoded data removed]",
      "text/plain": [
       "<Figure size 504x504 with 2 Axes>"
      ]
     },
     "metadata": {
      "needs_background": "light"
     },
     "output_type": "display_data"
    }
   ],
   "source": [
    "#matriz de confusion para el arbol\n",
    "cm = confusion_matrix(y_test, y_pred_dt)\n",
    "x_axis_labels = [\"Edible\", \"Poisonous\"]\n",
    "y_axis_labels = [\"Edible\", \"Poisonous\"]\n",
    "f, ax = plt.subplots(figsize =(7,7))\n",
    "sns.heatmap(cm, annot = True, linewidths=0.2, linecolor=\"black\", fmt = \".0f\", ax=ax, cmap=\"Purples\", xticklabels=x_axis_labels, yticklabels=y_axis_labels)\n",
    "plt.xlabel(\"PREDICTED LABEL\")\n",
    "plt.ylabel(\"TRUE LABEL\")\n",
    "plt.title('Confusion Matrix for Decision Tree Classifier')\n",
    "plt.show()"
   ]
  },
  {
   "cell_type": "markdown",
   "metadata": {},
   "source": [
    "#### Support Vector Classifier (SVC)"
   ]
  },
  {
   "cell_type": "code",
   "execution_count": 31,
   "metadata": {},
   "outputs": [
    {
     "name": "stdout",
     "output_type": "stream",
     "text": [
      "{'C': 100, 'gamma': 0.001, 'kernel': 'rbf'}\n"
     ]
    }
   ],
   "source": [
    "from sklearn.svm import SVC\n",
    "#proponer malla para el gridsearch\n",
    "tuned_parameters = [{'kernel': ['rbf'], 'gamma': [1e-3, 1e-4],'C': [1, 10, 100]}]\n",
    "\n",
    "#inicilalizo el modelo\n",
    "model = SVC(kernel='rbf')\n",
    "\n",
    "#cross validation con gridsearch\n",
    "gs = GridSearchCV(model,\n",
    "                  tuned_parameters, \n",
    "                  cv=kfold)\n",
    "\n",
    "#entreno el modelo\n",
    "gs.fit(X_train, y_train)\n",
    "\n",
    "#hiperparametros optimos\n",
    "print(gs.best_params_)"
   ]
  },
  {
   "cell_type": "code",
   "execution_count": 32,
   "metadata": {},
   "outputs": [
    {
     "name": "stdout",
     "output_type": "stream",
     "text": [
      "R2 train 0.9953840232131226\n",
      "Precision Train 0.9980991573197204\n",
      "Recall Train 0.9923778617049137\n"
     ]
    }
   ],
   "source": [
    "#crear modelo usando parámetros óptimos\n",
    "new_model_svc = SVC(C= 100, gamma= 0.001, kernel= 'rbf')\n",
    "\n",
    "#Ajustar modelo optimizado\n",
    "new_model_svc.fit(X_train, y_train)\n",
    "\n",
    "#Hacer el cross validation y probar con el train\n",
    "accuracy_svc= (cross_val_score(new_model_svc, X_train,y_train, cv=kfold,  scoring='accuracy')).mean()\n",
    "precision_svc= (cross_val_score(new_model_svc, X_train,y_train, cv=kfold,  scoring='precision')).mean()\n",
    "recall_svc= (cross_val_score(new_model_svc, X_train,y_train, cv=kfold,  scoring='recall')).mean()\n",
    "\n",
    "#Performance en el train\n",
    "print(\"R2 train\", accuracy_svc)\n",
    "print(\"Precision Train\", precision_svc)\n",
    "print(\"Recall Train\", recall_svc)\n",
    "\n"
   ]
  },
  {
   "cell_type": "code",
   "execution_count": 33,
   "metadata": {},
   "outputs": [
    {
     "name": "stdout",
     "output_type": "stream",
     "text": [
      "\n",
      " \t Accu \t Prec \t Reca\n",
      " Eval \t 0.999 \t 1.000 \t 0.999\n"
     ]
    }
   ],
   "source": [
    "#Predecir con datos del test\n",
    "Yhat = new_model_svc.predict(X_test)\n",
    "# Evaluacion del modelo\n",
    "#accuracy\n",
    "accu_svc = accuracy_score(y_test,Yhat)\n",
    "#precision\n",
    "prec_svc = precision_score(y_test,Yhat)\n",
    "#recall\n",
    "reca_svc = recall_score(y_test,Yhat)\n",
    "\n",
    "\n",
    "print('\\n \\t Accu \\t Prec \\t Reca\\n Eval \\t %0.3f \\t %0.3f \\t %0.3f'%(accu_svc,prec_svc,reca_svc))"
   ]
  },
  {
   "cell_type": "code",
   "execution_count": 34,
   "metadata": {},
   "outputs": [
    {
     "data": {
      "image/png": "[encoded data removed]",
      "text/plain": [
       "<Figure size 504x504 with 2 Axes>"
      ]
     },
     "metadata": {
      "needs_background": "light"
     },
     "output_type": "display_data"
    }
   ],
   "source": [
    "#matriz de confusion para SVM\n",
    "cm = confusion_matrix(y_test, Yhat)\n",
    "x_axis_labels = [\"Edible\", \"Poisonous\"]\n",
    "y_axis_labels = [\"Edible\", \"Poisonous\"]\n",
    "f, ax = plt.subplots(figsize =(7,7))\n",
    "sns.heatmap(cm, annot = True, linewidths=0.2, linecolor=\"black\", fmt = \".0f\", ax=ax, cmap=\"Purples\", xticklabels=x_axis_labels, yticklabels=y_axis_labels)\n",
    "plt.xlabel(\"PREDICTED LABEL\")\n",
    "plt.ylabel(\"TRUE LABEL\")\n",
    "plt.title('Confusion Matrix for SVM Classifier')\n",
    "plt.show()"
   ]
  },
  {
   "cell_type": "markdown",
   "metadata": {},
   "source": [
    "#### Random Forest"
   ]
  },
  {
   "cell_type": "code",
   "execution_count": 35,
   "metadata": {},
   "outputs": [
    {
     "name": "stdout",
     "output_type": "stream",
     "text": [
      "{'max_depth': 4, 'min_samples_split': 2, 'n_estimators': 10}\n"
     ]
    }
   ],
   "source": [
    "from sklearn.ensemble import RandomForestClassifier\n",
    "#Inicializo modelo\n",
    "model = RandomForestClassifier(min_samples_leaf=2,\n",
    "                               criterion='gini',\n",
    "                               bootstrap=True,\n",
    "                               oob_score=False,\n",
    "                               random_state=0)\n",
    "\n",
    "#Grid search para optimizar hiperparámetros\n",
    "gs = GridSearchCV(model,\n",
    "                  param_grid = {'max_depth': range(1, 5), #profundidad del árbol\n",
    "                                'min_samples_split': range(2, 10, 2), #mínimo numero de observaciones\n",
    "                                'n_estimators': [2, 5, 10] #número de árboles\n",
    "                                }, \n",
    "                  cv=kfold,\n",
    "                  verbose=0)\n",
    "\n",
    "#Entreno el modelo\n",
    "gs.fit(X_train, y_train)\n",
    "\n",
    "#hiperparametros optimos\n",
    "print(gs.best_params_)"
   ]
  },
  {
   "cell_type": "code",
   "execution_count": 36,
   "metadata": {},
   "outputs": [
    {
     "name": "stdout",
     "output_type": "stream",
     "text": [
      "accuracy train 0.9858442588973768\n",
      "precision Train 0.9904349114379827\n",
      "recall Train 0.9802234250153811\n"
     ]
    }
   ],
   "source": [
    "from sklearn.ensemble import RandomForestClassifier\n",
    "new_model_RF = RandomForestClassifier(n_estimators=10,#número de árboles\n",
    "                               criterion='gini',\n",
    "                               max_depth=4,\n",
    "                               min_samples_split=2,\n",
    "                               min_samples_leaf=2,\n",
    "                               bootstrap=True,\n",
    "                               oob_score=False,\n",
    "                               random_state=0,\n",
    "                               verbose=0)\n",
    "\n",
    "\n",
    "#Ajustar modelo a datos de entrenamiento\n",
    "new_model_RF.fit(X_train, y_train)\n",
    "\n",
    "#Hacer el cross validation y probar con el train\n",
    "accuracy_rf= (cross_val_score(new_model_RF, X_train,y_train, cv=kfold,  scoring='accuracy')).mean()\n",
    "precision_rf= (cross_val_score(new_model_RF, X_train,y_train, cv=kfold,  scoring='precision')).mean()\n",
    "recall_rf= (cross_val_score(new_model_RF, X_train,y_train, cv=kfold,  scoring='recall')).mean()\n",
    "\n",
    "#Performance en el train\n",
    "print(\"accuracy train\", accuracy_rf)\n",
    "print(\"precision Train\", precision_rf)\n",
    "print(\"recall Train\", recall_rf)"
   ]
  },
  {
   "cell_type": "code",
   "execution_count": 37,
   "metadata": {},
   "outputs": [
    {
     "name": "stdout",
     "output_type": "stream",
     "text": [
      "Accuracy\t Precision\t Recall\n",
      " 0.987\t 1.000\t 0.973\n"
     ]
    }
   ],
   "source": [
    "# Evaluacion del modelo\n",
    "yhat = new_model_RF.predict(X_test)\n",
    "accu_rf  = accuracy_score(y_test,yhat)\n",
    "prec_rf = precision_score(y_test,yhat)\n",
    "reca_rf = recall_score(y_test,yhat)\n",
    "print('Accuracy\\t Precision\\t Recall\\n %0.3f\\t %0.3f\\t %0.3f'%(accu_rf,prec_rf,reca_rf))"
   ]
  },
  {
   "cell_type": "code",
   "execution_count": 38,
   "metadata": {},
   "outputs": [
    {
     "data": {
      "image/png": "[encoded data removed]",
      "text/plain": [
       "<Figure size 504x504 with 2 Axes>"
      ]
     },
     "metadata": {
      "needs_background": "light"
     },
     "output_type": "display_data"
    }
   ],
   "source": [
    "#matriz de confusion rf\n",
    "cm = confusion_matrix(y_test, yhat)\n",
    "x_axis_labels = [\"Edible\", \"Poisonous\"]\n",
    "y_axis_labels = [\"Edible\", \"Poisonous\"]\n",
    "f, ax = plt.subplots(figsize =(7,7))\n",
    "sns.heatmap(cm, annot = True, linewidths=0.2, linecolor=\"black\", fmt = \".0f\", ax=ax, cmap=\"Purples\", xticklabels=x_axis_labels, yticklabels=y_axis_labels)\n",
    "plt.xlabel(\"PREDICTED LABEL\")\n",
    "plt.ylabel(\"TRUE LABEL\")\n",
    "plt.title('Confusion Matrix for Random Forest Classifier');\n",
    "plt.show()"
   ]
  },
  {
   "cell_type": "markdown",
   "metadata": {},
   "source": [
    "#### XGBoost\n"
   ]
  },
  {
   "cell_type": "code",
   "execution_count": 39,
   "metadata": {},
   "outputs": [
    {
     "name": "stderr",
     "output_type": "stream",
     "text": [
      "C:\\Users\\gerar\\OneDrive\\Documentos\\Curso de prgoramacion de datos\\lib\\site-packages\\xgboost\\sklearn.py:835: UserWarning: `eval_metric` in `fit` method is deprecated for better compatibility with scikit-learn, use `eval_metric` in constructor or`set_params` instead.\n",
      "  warnings.warn(\n",
      "C:\\Users\\gerar\\OneDrive\\Documentos\\Curso de prgoramacion de datos\\lib\\site-packages\\xgboost\\sklearn.py:835: UserWarning: `early_stopping_rounds` in `fit` method is deprecated for better compatibility with scikit-learn, use `early_stopping_rounds` in constructor or`set_params` instead.\n",
      "  warnings.warn(\n"
     ]
    },
    {
     "data": {
      "text/plain": [
       "{'gamma': 0.25,\n",
       " 'learning_rate': 0.1,\n",
       " 'max_depth': 4,\n",
       " 'reg_lambda': 10,\n",
       " 'scale_pos_weight': 3}"
      ]
     },
     "execution_count": 39,
     "metadata": {},
     "output_type": "execute_result"
    }
   ],
   "source": [
    "#inicializar objeto de clasificación\n",
    "modelo_xgb = xgb.XGBClassifier(objective='binary:logistic', missing=1, seed=42)\n",
    "\n",
    "#buscar hiperparámetros óptimos\n",
    "param_grid={\n",
    "    'max_depth':[4],\n",
    "    'learning_rate':[0.1,0.5,1],\n",
    "    'gamma':[0.25],\n",
    "    'reg_lambda':[10,20,100],\n",
    "    'scale_pos_weight':[3]\n",
    "}\n",
    "\n",
    "optimal_params = GridSearchCV(\n",
    "                            estimator=xgb.XGBClassifier(objective='binary:logistic',\n",
    "                            seed=42,\n",
    "                            subsample=0.9,\n",
    "                            colsample_bytree=0.5),\n",
    "                            param_grid=param_grid,\n",
    "                            scoring='roc_auc',\n",
    "                            verbose=0,\n",
    "                            n_jobs=10,\n",
    "                            cv=3)\n",
    "\n",
    "optimal_params.fit(X_train, y_train,\n",
    "                  early_stopping_rounds=10,\n",
    "                  eval_metric='auc',\n",
    "                  eval_set=[(X_test, y_test)],\n",
    "                  verbose=False)\n",
    "optimal_params.best_params_\n"
   ]
  },
  {
   "cell_type": "code",
   "execution_count": 40,
   "metadata": {},
   "outputs": [
    {
     "name": "stdout",
     "output_type": "stream",
     "text": [
      "[14:24:20] WARNING: C:/buildkite-agent/builds/buildkite-windows-cpu-autoscaling-group-i-0fc7796c793e6356f-1/xgboost/xgboost-ci-windows/src/learner.cc:767: \n",
      "Parameters: { \"learn_rate\" } are not used.\n",
      "\n"
     ]
    },
    {
     "data": {
      "text/plain": [
       "XGBClassifier(base_score=None, booster=None, callbacks=None,\n",
       "              colsample_bylevel=None, colsample_bynode=None,\n",
       "              colsample_bytree=0.5, early_stopping_rounds=None,\n",
       "              enable_categorical=False, eval_metric=None, feature_types=None,\n",
       "              gamma=0.25, gpu_id=None, grow_policy=None, importance_type=None,\n",
       "              interaction_constraints=None, learn_rate=0.1, learning_rate=None,\n",
       "              max_bin=None, max_cat_threshold=None, max_cat_to_onehot=None,\n",
       "              max_delta_step=None, max_depth=4, max_leaves=None,\n",
       "              min_child_weight=None, missing=nan, monotone_constraints=None,\n",
       "              n_estimators=100, n_jobs=None, num_parallel_tree=None,\n",
       "              predictor=None, ...)"
      ]
     },
     "execution_count": 40,
     "metadata": {},
     "output_type": "execute_result"
    }
   ],
   "source": [
    "#Construir y evaluar el XGBoost con los hiperparámetros óptimos\n",
    "modelo = xgb.XGBClassifier(objective='binary:logistic',\n",
    "                            seed=42,\n",
    "                           gamma=0.25,\n",
    "                           learn_rate=0.1,\n",
    "                           max_depth=4,\n",
    "                           reg_lambda=10,\n",
    "                           scale_pos_weight=3,\n",
    "                            subsample=0.9,\n",
    "                            colsample_bytree=0.5)\n",
    "\n",
    "modelo.fit(X_train, y_train,\n",
    "                  early_stopping_rounds=10,\n",
    "                  eval_metric='auc',\n",
    "                  eval_set=[(X_test, y_test)],\n",
    "                  verbose=False)"
   ]
  },
  {
   "cell_type": "code",
   "execution_count": 41,
   "metadata": {},
   "outputs": [
    {
     "name": "stdout",
     "output_type": "stream",
     "text": [
      "Accuracy\t Precision\t Recall\n",
      " 0.988\t 0.989\t 0.988\n"
     ]
    }
   ],
   "source": [
    "#Predecir con datos del test\n",
    "Yhat_xgb = modelo.predict(X_test)\n",
    "\n",
    "# Evaluacion del modelo en test\n",
    "accu_xgb = accuracy_score(y_test,Yhat_xgb)\n",
    "prec_xgb = precision_score(y_test,Yhat_xgb,average='weighted')\n",
    "reca_xgb = recall_score(y_test,Yhat_xgb,average='weighted')\n",
    "print('Accuracy\\t Precision\\t Recall\\n %0.3f\\t %0.3f\\t %0.3f'%(accu_xgb,prec_xgb,reca_xgb))\n"
   ]
  },
  {
   "cell_type": "code",
   "execution_count": 42,
   "metadata": {},
   "outputs": [
    {
     "data": {
      "image/png": "[encoded data removed]",
      "text/plain": [
       "<Figure size 504x504 with 2 Axes>"
      ]
     },
     "metadata": {
      "needs_background": "light"
     },
     "output_type": "display_data"
    }
   ],
   "source": [
    "#matriz de confusion para el xgboost\n",
    "cm = confusion_matrix(y_test, Yhat_xgb)\n",
    "x_axis_labels = [\"Edible\", \"Poisonous\"]\n",
    "y_axis_labels = [\"Edible\", \"Poisonous\"]\n",
    "f, ax = plt.subplots(figsize =(7,7))\n",
    "sns.heatmap(cm, annot = True, linewidths=0.2, linecolor=\"black\", fmt = \".0f\", ax=ax, cmap=\"Purples\", xticklabels=x_axis_labels, yticklabels=y_axis_labels)\n",
    "plt.xlabel(\"PREDICTED LABEL\")\n",
    "plt.ylabel(\"TRUE LABEL\")\n",
    "plt.title('Confusion Matrix for Decision Tree Classifier')\n",
    "plt.show()"
   ]
  },
  {
   "cell_type": "code",
   "execution_count": 43,
   "metadata": {},
   "outputs": [
    {
     "data": {
      "text/html": [
       "<div>\n",
       "<style scoped>\n",
       "    .dataframe tbody tr th:only-of-type {\n",
       "        vertical-align: middle;\n",
       "    }\n",
       "\n",
       "    .dataframe tbody tr th {\n",
       "        vertical-align: top;\n",
       "    }\n",
       "\n",
       "    .dataframe thead th {\n",
       "        text-align: right;\n",
       "    }\n",
       "</style>\n",
       "<table border=\"1\" class=\"dataframe\">\n",
       "  <thead>\n",
       "    <tr style=\"text-align: right;\">\n",
       "      <th></th>\n",
       "      <th>Modelo</th>\n",
       "      <th>Accuracy</th>\n",
       "      <th>Precision</th>\n",
       "      <th>Recall</th>\n",
       "    </tr>\n",
       "  </thead>\n",
       "  <tbody>\n",
       "    <tr>\n",
       "      <th>0</th>\n",
       "      <td>LR</td>\n",
       "      <td>0.947077</td>\n",
       "      <td>0.942748</td>\n",
       "      <td>0.947570</td>\n",
       "    </tr>\n",
       "    <tr>\n",
       "      <th>1</th>\n",
       "      <td>SVC</td>\n",
       "      <td>0.999385</td>\n",
       "      <td>1.000000</td>\n",
       "      <td>0.998721</td>\n",
       "    </tr>\n",
       "    <tr>\n",
       "      <th>2</th>\n",
       "      <td>RF</td>\n",
       "      <td>0.987077</td>\n",
       "      <td>1.000000</td>\n",
       "      <td>0.973146</td>\n",
       "    </tr>\n",
       "    <tr>\n",
       "      <th>3</th>\n",
       "      <td>XGBoost</td>\n",
       "      <td>0.988308</td>\n",
       "      <td>0.988585</td>\n",
       "      <td>0.988308</td>\n",
       "    </tr>\n",
       "    <tr>\n",
       "      <th>4</th>\n",
       "      <td>Tree</td>\n",
       "      <td>0.974769</td>\n",
       "      <td>0.960248</td>\n",
       "      <td>0.988491</td>\n",
       "    </tr>\n",
       "  </tbody>\n",
       "</table>\n",
       "</div>"
      ],
      "text/plain": [
       "     Modelo  Accuracy  Precision    Recall\n",
       "0        LR  0.947077   0.942748  0.947570\n",
       "1       SVC  0.999385   1.000000  0.998721\n",
       "2        RF  0.987077   1.000000  0.973146\n",
       "3   XGBoost  0.988308   0.988585  0.988308\n",
       "4      Tree  0.974769   0.960248  0.988491"
      ]
     },
     "execution_count": 43,
     "metadata": {},
     "output_type": "execute_result"
    }
   ],
   "source": [
    "data_compar = {'Modelo': ['LR', 'SVC','RF',' XGBoost', 'Tree'], 'Accuracy': [accu_log, accu_svc , accu_rf, accu_xgb ,accu_dt], 'Precision': [prec_log,prec_svc,prec_rf ,prec_xgb,prec_dt], 'Recall': [reca_log,reca_svc,reca_rf,reca_xgb ,reca_dt]} \n",
    "data_compar = pd.DataFrame(data_compar)\n",
    "data_compar"
   ]
  }
 ],
 "metadata": {
  "kernelspec": {
   "display_name": "Python 3 (ipykernel)",
   "language": "python",
   "name": "python3"
  },
  "language_info": {
   "codemirror_mode": {
    "name": "ipython",
    "version": 3
   },
   "file_extension": ".py",
   "mimetype": "text/x-python",
   "name": "python",
   "nbconvert_exporter": "python",
   "pygments_lexer": "ipython3",
   "version": "3.9.12"
  }
 },
 "nbformat": 4,
 "nbformat_minor": 4
}
