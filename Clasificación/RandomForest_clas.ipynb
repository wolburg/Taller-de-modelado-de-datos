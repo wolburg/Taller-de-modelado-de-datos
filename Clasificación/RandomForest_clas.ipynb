{
 "cells": [
  {
   "cell_type": "markdown",
   "metadata": {},
   "source": [
    "___\n",
    "<img style=\"float: right; margin: 0px 0px 15px 15px;\" src=\"https://www.freecodecamp.org/news/content/images/2020/08/how-random-forest-classifier-work.PNG\" width=\"350px\" height=\"180px\" />\n",
    "\n",
    "\n",
    "# <font color= #8A0829> Laboratorio de Modelado de Datos </font>\n",
    "#### <font color= #2E9AFE> `Martes y Viernes (Videoconferencia) de 13:00 - 15:00 hrs`</font>\n",
    "- <Strong> Sara Eugenia Rodríguez </Strong>\n",
    "- <Strong> Año </Strong>: 2023\n",
    "- <Strong> Email: </Strong>  <font color=\"blue\"> `cd682324@iteso.mx` </font>\n",
    "___\n",
    "\n",
    "<p style=\"text-align:right;\"> Imagen recuperada de: https://www.freecodecamp.org/news/content/images/2020/08/how-random-forest-classifier-work.PNG</p>\n",
    "\n",
    "### <font color= #2E9AFE> Tema: Modelos basados en Árboles Parte II - Clasificación</font>"
   ]
  },
  {
   "cell_type": "markdown",
   "metadata": {},
   "source": [
    "### Bosques Aleatorios\n",
    "\n",
    "\"Los árboles tienen un sólo aspecto que previene que sean la herramienta ideal para el aprendizaje predictivo, que es la **inexactitud**\" \n",
    "\n",
    "Pasos para crear un bosque aleatorio:\n",
    "- Crear un dataset \"bootstrapped\"\n",
    "- Crear un árbol de decisión usando el dataset \"bootstrapped\", pero sólo usar un subconjunto aleatorio de variables (o columnas) en cada paso. \n",
    "- Regresar al paso 1. y repetir \n",
    "\n",
    "Gracias al proceso de bootstrapping, el requerimento de dividir los datos en prueba y entrenamiento no es tan estricto. Se recomienda dividir los datos en prueba y entrenamiento cuando se quiere comparar su desempeño contra otros modelos. "
   ]
  },
  {
   "cell_type": "code",
   "execution_count": 1,
   "metadata": {},
   "outputs": [],
   "source": [
    "import numpy as np\n",
    "import matplotlib.pyplot as plt\n",
    "from sklearn.ensemble import RandomForestClassifier\n",
    "from sklearn import datasets\n",
    "from sklearn.metrics import (accuracy_score,precision_score,recall_score)\n",
    "import time"
   ]
  },
  {
   "cell_type": "code",
   "execution_count": 2,
   "metadata": {},
   "outputs": [
    {
     "data": {
      "image/png": "[encoded data removed]",
      "text/plain": [
       "<Figure size 432x288 with 1 Axes>"
      ]
     },
     "metadata": {
      "needs_background": "light"
     },
     "output_type": "display_data"
    }
   ],
   "source": [
    "#Importar la base de datos\n",
    "iris = datasets.load_iris()\n",
    "X = iris.data\n",
    "Y = iris.target\n",
    "\n",
    "plt.scatter(X[:,0],X[:,1], c=Y, s=10, cmap=plt.cm.rainbow,zorder=2)\n",
    "plt.xlabel('x_p1')\n",
    "plt.ylabel('x_p2')\n",
    "plt.grid()\n",
    "plt.tight_layout()\n",
    "plt.show()"
   ]
  },
  {
   "cell_type": "code",
   "execution_count": 3,
   "metadata": {},
   "outputs": [
    {
     "data": {
      "text/plain": [
       "(150, 4)"
      ]
     },
     "execution_count": 3,
     "metadata": {},
     "output_type": "execute_result"
    }
   ],
   "source": [
    "X.shape"
   ]
  },
  {
   "cell_type": "code",
   "execution_count": 4,
   "metadata": {},
   "outputs": [],
   "source": [
    "from sklearn.model_selection import train_test_split\n",
    "#dividimos nuestros datos en entrenamiento y prueba\n",
    "X_train, X_test, y_train, y_test = train_test_split(X, Y, test_size=0.2,\n",
    "                                                    random_state=0,\n",
    "                                                    shuffle=True)"
   ]
  },
  {
   "cell_type": "code",
   "execution_count": 16,
   "metadata": {},
   "outputs": [
    {
     "name": "stdout",
     "output_type": "stream",
     "text": [
      "--- 0.09057831764221191 seconds ---\n"
     ]
    },
    {
     "name": "stderr",
     "output_type": "stream",
     "text": [
      "[Parallel(n_jobs=1)]: Using backend SequentialBackend with 1 concurrent workers.\n",
      "[Parallel(n_jobs=1)]: Done 100 out of 100 | elapsed:    0.0s finished\n",
      "[Parallel(n_jobs=1)]: Using backend SequentialBackend with 1 concurrent workers.\n",
      "[Parallel(n_jobs=1)]: Done 100 out of 100 | elapsed:    0.0s finished\n"
     ]
    }
   ],
   "source": [
    "#%% Construccion y entrenamiento de la bolsa de modelos\n",
    "modelo = RandomForestClassifier(n_estimators=100, #Numero de arboles en el bosque\n",
    "                               criterion='gini', #para ver quue tan bien separa o clasifica los datos a nivel variable\n",
    "                               max_depth=10, #que tantas divisiones haga\n",
    "                               min_samples_split=2, # minimo de observaciones para tener y que haga una division\n",
    "                               min_samples_leaf=2, #ojas\n",
    "                               bootstrap=True, #Toma los datos originales y crea otro dtaset con el mismo tamaño, toma filas aleatorias con remplazo y crea un arbolito y crea arboles diferentes\n",
    "                               oob_score=False, #Toma el dato que quedo afuera en el arbol y pasas esos datos al arbol creado y saca una prediccion, para ver que tan bueno fueron tus datos.\n",
    "                               random_state=0,\n",
    "                               verbose=1) #Es como ir imprimiedno lo que esta haciencod\n",
    "\n",
    "start_time = time.time()\n",
    "modelo = modelo.fit(X_train,y_train) # entrenamiento con la bolsa de modelos\n",
    "print(\"--- %s seconds ---\" % (time.time() - start_time))\n",
    "Yhat = modelo.predict(X_test) #predicción con la bolsa de modelos"
   ]
  },
  {
   "cell_type": "code",
   "execution_count": 17,
   "metadata": {},
   "outputs": [
    {
     "name": "stdout",
     "output_type": "stream",
     "text": [
      "Accuracy\t Precision\t Recall\n",
      " 1.000\t 1.000\t 1.000\n"
     ]
    }
   ],
   "source": [
    "# Evaluacion del modelo\n",
    "accu = accuracy_score(y_test,Yhat)\n",
    "prec = precision_score(y_test,Yhat,average='weighted')\n",
    "reca = recall_score(y_test,Yhat,average='weighted')\n",
    "print('Accuracy\\t Precision\\t Recall\\n %0.3f\\t %0.3f\\t %0.3f'%(accu,prec,reca))"
   ]
  },
  {
   "cell_type": "code",
   "execution_count": 18,
   "metadata": {},
   "outputs": [
    {
     "data": {
      "text/plain": [
       "[Text(0.375, 0.9, 'X[3] <= 0.75\\ngini = 0.643\\nsamples = 72\\nvalue = [42, 52, 26]'),\n",
       " Text(0.25, 0.7, 'gini = 0.0\\nsamples = 25\\nvalue = [42, 0, 0]'),\n",
       " Text(0.5, 0.7, 'X[2] <= 4.95\\ngini = 0.444\\nsamples = 47\\nvalue = [0, 52, 26]'),\n",
       " Text(0.25, 0.5, 'X[3] <= 1.65\\ngini = 0.109\\nsamples = 28\\nvalue = [0, 49, 3]'),\n",
       " Text(0.125, 0.3, 'gini = 0.0\\nsamples = 24\\nvalue = [0, 43, 0]'),\n",
       " Text(0.375, 0.3, 'gini = 0.444\\nsamples = 4\\nvalue = [0, 6, 3]'),\n",
       " Text(0.75, 0.5, 'X[1] <= 3.05\\ngini = 0.204\\nsamples = 19\\nvalue = [0, 3, 23]'),\n",
       " Text(0.625, 0.3, 'X[3] <= 1.75\\ngini = 0.355\\nsamples = 8\\nvalue = [0, 3, 10]'),\n",
       " Text(0.5, 0.1, 'gini = 0.0\\nsamples = 2\\nvalue = [0, 3, 0]'),\n",
       " Text(0.75, 0.1, 'gini = 0.0\\nsamples = 6\\nvalue = [0, 0, 10]'),\n",
       " Text(0.875, 0.3, 'gini = 0.0\\nsamples = 11\\nvalue = [0, 0, 13]')]"
      ]
     },
     "execution_count": 18,
     "metadata": {},
     "output_type": "execute_result"
    },
    {
     "data": {
      "image/png": "[encoded data removed]",
      "text/plain": [
       "<Figure size 432x288 with 1 Axes>"
      ]
     },
     "metadata": {
      "needs_background": "light"
     },
     "output_type": "display_data"
    }
   ],
   "source": [
    "# si yo quisiera ver sólo un árbol\n",
    "#no se puede imprimir todo el árbol aleatorio\n",
    "from sklearn import tree\n",
    "tree.plot_tree(modelo.estimators_[0]) "
   ]
  },
  {
   "cell_type": "markdown",
   "metadata": {},
   "source": [
    "El modelo sobre ajustó a los datos. "
   ]
  },
  {
   "cell_type": "code",
   "execution_count": 19,
   "metadata": {},
   "outputs": [],
   "source": [
    "#Buscar un número bueno de árboles a usar\n",
    "#ya vimos que con 100 árboles el modelo sobre ajusta, vamos entrenando el modelo con diferente número de árboles\n",
    "ntrees = np.arange(1,20,1) #Model con hasta 20 árboles\n",
    "R2_s = np.zeros(len(ntrees))\n",
    "for n in range(len(ntrees)):\n",
    "    model = RandomForestClassifier(n_estimators=ntrees[n],\n",
    "                               criterion='gini',\n",
    "                               max_depth=None,\n",
    "                               min_samples_split=2,\n",
    "                               min_samples_leaf=1,\n",
    "                               bootstrap=True,\n",
    "                               oob_score=False,\n",
    "                               random_state=0,\n",
    "                               verbose=0)\n",
    "    model = model.fit(X_train,y_train)\n",
    "    R2_s[n] = model.score(X_train,y_train)"
   ]
  },
  {
   "cell_type": "code",
   "execution_count": 20,
   "metadata": {},
   "outputs": [
    {
     "data": {
      "image/png": "[encoded data removed]",
      "text/plain": [
       "<Figure size 576x576 with 1 Axes>"
      ]
     },
     "metadata": {
      "needs_background": "light"
     },
     "output_type": "display_data"
    }
   ],
   "source": [
    "plt.figure(figsize=(8,8))\n",
    "plt.scatter(ntrees,R2_s,c='r',label='ntrees')\n",
    "plt.ylabel('Accuracy')\n",
    "plt.xlabel('Trees')\n",
    "plt.grid()\n",
    "plt.legend()\n",
    "plt.show()\n",
    "#El 1 es overfiting o macheteando las cosas\n",
    "#Apartir de 15 hace overfiting"
   ]
  },
  {
   "cell_type": "code",
   "execution_count": 21,
   "metadata": {},
   "outputs": [
    {
     "data": {
      "text/plain": [
       "GridSearchCV(cv=10,\n",
       "             estimator=RandomForestClassifier(min_samples_leaf=2,\n",
       "                                              random_state=0),\n",
       "             param_grid={'max_depth': range(1, 8),\n",
       "                         'min_samples_split': range(5, 10, 2),\n",
       "                         'n_estimators': range(2, 5)},\n",
       "             scoring='accuracy')"
      ]
     },
     "execution_count": 21,
     "metadata": {},
     "output_type": "execute_result"
    }
   ],
   "source": [
    "#Usando cross validation y grid search\n",
    "from sklearn.model_selection import GridSearchCV\n",
    "\n",
    "model = RandomForestClassifier(criterion='gini',\n",
    "                               min_samples_leaf=2,\n",
    "                               bootstrap=True,\n",
    "                               oob_score=False,\n",
    "                               random_state=0,\n",
    "                               verbose=0)\n",
    "\n",
    "gs = GridSearchCV(model,\n",
    "                  param_grid = {'max_depth': range(1, 8),#Prodfuncidad\n",
    "                                'min_samples_split': range(5, 10, 2),#Numero de particiones\n",
    "                                'n_estimators': range(2,5,1)},  #numero de estimaciones\n",
    "                  cv=10,\n",
    "                  scoring='accuracy')\n",
    "\n",
    "gs.fit(X_train, y_train)\n"
   ]
  },
  {
   "cell_type": "code",
   "execution_count": 23,
   "metadata": {},
   "outputs": [
    {
     "name": "stdout",
     "output_type": "stream",
     "text": [
      "{'max_depth': 2, 'min_samples_split': 5, 'n_estimators': 2}\n"
     ]
    }
   ],
   "source": [
    "#imprimir hiperparámetros óptimos\n",
    "print(gs.best_params_)"
   ]
  },
  {
   "cell_type": "code",
   "execution_count": 24,
   "metadata": {},
   "outputs": [
    {
     "data": {
      "text/plain": [
       "RandomForestClassifier(max_depth=2, min_samples_leaf=2, min_samples_split=5,\n",
       "                       n_estimators=2, random_state=0)"
      ]
     },
     "execution_count": 24,
     "metadata": {},
     "output_type": "execute_result"
    }
   ],
   "source": [
    "#crear modelo usando parámetros óptimos\n",
    "new_model = RandomForestClassifier(n_estimators=2,\n",
    "                               criterion='gini',\n",
    "                               max_depth=2,\n",
    "                               min_samples_split=5,\n",
    "                               min_samples_leaf=2,\n",
    "                               max_features='auto',\n",
    "                               bootstrap=True,\n",
    "                               oob_score=False,\n",
    "                               random_state=0,\n",
    "                               verbose=0)\n",
    "new_model.fit(X_train, y_train)"
   ]
  },
  {
   "cell_type": "code",
   "execution_count": 25,
   "metadata": {},
   "outputs": [
    {
     "name": "stdout",
     "output_type": "stream",
     "text": [
      "Accuracy\t Precision\t Recall\n",
      " 0.967\t 0.969\t 0.967\n"
     ]
    }
   ],
   "source": [
    "# Evaluacion del modelo\n",
    "yhat = new_model.predict(X_test)\n",
    "accu = accuracy_score(y_test,yhat)\n",
    "prec = precision_score(y_test,yhat,average='weighted')\n",
    "reca = recall_score(y_test,yhat,average='weighted')\n",
    "print('Accuracy\\t Precision\\t Recall\\n %0.3f\\t %0.3f\\t %0.3f'%(accu,prec,reca))"
   ]
  },
  {
   "cell_type": "code",
   "execution_count": 26,
   "metadata": {},
   "outputs": [
    {
     "data": {
      "text/plain": [
       "petal width (cm)     0.820882\n",
       "petal length (cm)    0.179118\n",
       "sepal length (cm)    0.000000\n",
       "sepal width (cm)     0.000000\n",
       "dtype: float64"
      ]
     },
     "execution_count": 26,
     "metadata": {},
     "output_type": "execute_result"
    }
   ],
   "source": [
    "#importancia de las variables\n",
    "import pandas as pd\n",
    "feature_imp = pd.Series(new_model.feature_importances_, index=iris.feature_names).sort_values(ascending=False)\n",
    "feature_imp"
   ]
  },
  {
   "cell_type": "code",
   "execution_count": 27,
   "metadata": {},
   "outputs": [
    {
     "name": "stderr",
     "output_type": "stream",
     "text": [
      "No artists with labels found to put in legend.  Note that artists whose label start with an underscore are ignored when legend() is called with no argument.\n"
     ]
    },
    {
     "data": {
      "image/png": "[encoded data removed]",
      "text/plain": [
       "<Figure size 432x288 with 1 Axes>"
      ]
     },
     "metadata": {
      "needs_background": "light"
     },
     "output_type": "display_data"
    }
   ],
   "source": [
    "import matplotlib.pyplot as plt\n",
    "import seaborn as sns\n",
    "\n",
    "sns.barplot(x=feature_imp, y = feature_imp.index)\n",
    "plt.xlabel('Feature Importance Score')\n",
    "plt.ylabel('Features')\n",
    "plt.title('Visualizing Important Features')\n",
    "plt.legend()\n",
    "plt.show()"
   ]
  },
  {
   "cell_type": "markdown",
   "metadata": {},
   "source": [
    "**Ventajas**\n",
    "\n",
    "- Son muy buenos generalizando\n",
    "- Protejen en contra del sobreajuste (overfitting) gracias a la construcción del bootstrapping \n",
    "- También reducen la varianza y por lo tanto mejoran la precisión del modelo\n",
    "- Funcionan muy bien con variables categóricas y variables continuas\n",
    "- No se requiere escalamiento previo de variables \n",
    "- Manejan muy bien el hecho de que haya datos nulos\n",
    "- Son modelos robustos ante valores atípicos (outliers)\n",
    "- Son algoritmos muy estables, cuando hay datos nuevos, el algoritmo no se ve muy afectado. Ya que este nuevo dato puede afectar a un árbol individual, pero es difícil que impacte a todos los árboles. \n",
    "\n",
    "**Desventajas**\n",
    "\n",
    "- Complejidad. Los bosques aleatorios crean muchos árboles y combina sus resultados. Requiere mucho poder computacional y recursos \n",
    "- Periodos de entrenamiento largos. Requieren más tiempo de entrenamiento. "
   ]
  }
 ],
 "metadata": {
  "kernelspec": {
   "display_name": "Python 3 (ipykernel)",
   "language": "python",
   "name": "python3"
  },
  "language_info": {
   "codemirror_mode": {
    "name": "ipython",
    "version": 3
   },
   "file_extension": ".py",
   "mimetype": "text/x-python",
   "name": "python",
   "nbconvert_exporter": "python",
   "pygments_lexer": "ipython3",
   "version": "3.9.12"
  }
 },
 "nbformat": 4,
 "nbformat_minor": 4
}
